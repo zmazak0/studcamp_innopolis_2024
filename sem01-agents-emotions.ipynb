{
 "cells": [
  {
   "cell_type": "code",
   "execution_count": 1,
   "metadata": {},
   "outputs": [
    {
     "data": {
      "text/plain": [
       "True"
      ]
     },
     "execution_count": 1,
     "metadata": {},
     "output_type": "execute_result"
    }
   ],
   "source": [
    "from langchain_openai.chat_models import ChatOpenAI  # Chat wrapper\n",
    "from dotenv import load_dotenv\n",
    "from IPython.display import display, Markdown\n",
    "import re\n",
    "# load ENVs\n",
    "load_dotenv('.env') # returns True if "
   ]
  },
  {
   "cell_type": "markdown",
   "metadata": {},
   "source": [
    "#### GigaChat Utils\n",
    "\n",
    "Gigachat gives 1M tokens for free but requires RU certificates. It is not necessary to install them at the system level; we’ll just add the path to the certificate in the `requests.request()` command.\n",
    "\n",
    "Like\n",
    "\n",
    "`response = requests.request(..., verify=ca_cert_path)`"
   ]
  },
  {
   "cell_type": "markdown",
   "metadata": {},
   "source": [
    "Generate access token, expires every 30 minutes."
   ]
  },
  {
   "cell_type": "code",
   "execution_count": 2,
   "metadata": {},
   "outputs": [],
   "source": [
    "import requests\n",
    "import uuid\n",
    "import json\n",
    "import os\n",
    "\n",
    "ca_cert_path = 'sertificates/russian_trusted_root_ca.cer'\n",
    "sb_auth_data = os.getenv('SB_AUTH_DATA')\n",
    "\n",
    "# Generate a UUID4\n",
    "unique_id = str(uuid.uuid4())\n",
    "url = \"https://ngw.devices.sberbank.ru:9443/api/v2/oauth\"\n",
    "\n",
    "payload='scope=GIGACHAT_API_PERS'\n",
    "headers = {\n",
    "  'Content-Type': 'application/x-www-form-urlencoded',\n",
    "  'Accept': 'application/json',\n",
    "  'RqUID': unique_id,\n",
    "  'Authorization': f'Basic {sb_auth_data}'\n",
    "}\n",
    "\n",
    "response = requests.request(\"POST\", url, headers=headers, data=payload, verify=ca_cert_path)\n",
    "access_token = json.loads(response.text)['access_token']"
   ]
  },
  {
   "cell_type": "code",
   "execution_count": 3,
   "metadata": {},
   "outputs": [
    {
     "name": "stdout",
     "output_type": "stream",
     "text": [
      "{\"object\":\"list\",\"data\":[{\"id\":\"GigaChat\",\"object\":\"model\",\"owned_by\":\"salutedevices\"},{\"id\":\"GigaChat-Plus\",\"object\":\"model\",\"owned_by\":\"salutedevices\"},{\"id\":\"GigaChat-Plus-preview\",\"object\":\"model\",\"owned_by\":\"salutedevices\"},{\"id\":\"GigaChat-Pro\",\"object\":\"model\",\"owned_by\":\"salutedevices\"},{\"id\":\"GigaChat-Pro-preview\",\"object\":\"model\",\"owned_by\":\"salutedevices\"},{\"id\":\"GigaChat-preview\",\"object\":\"model\",\"owned_by\":\"salutedevices\"}]}\n"
     ]
    }
   ],
   "source": [
    "url = \"https://gigachat.devices.sberbank.ru/api/v1/models\"\n",
    "\n",
    "payload={}\n",
    "\n",
    "auth_token = f\"Bearer {access_token}\"\n",
    "headers = {\n",
    "  'Accept': 'application/json',\n",
    "  'Authorization': auth_token\n",
    "}\n",
    "\n",
    "response = requests.request(\"GET\", url, headers=headers, data=payload, verify=ca_cert_path)\n",
    "\n",
    "print(response.text)"
   ]
  },
  {
   "cell_type": "markdown",
   "metadata": {},
   "source": [
    "Define a function for interaction with a model."
   ]
  },
  {
   "cell_type": "code",
   "execution_count": 4,
   "metadata": {},
   "outputs": [],
   "source": [
    "def invoke_gigachat(messages, model=\"GigaChat\", raw=True, auth_token=auth_token, ca_cert_path=ca_cert_path):\n",
    "    url = \"https://gigachat.devices.sberbank.ru/api/v1/chat/completions\"\n",
    "\n",
    "    payload = json.dumps({\n",
    "        \"model\": model,\n",
    "        \"messages\": messages,\n",
    "        \"stream\": False,\n",
    "        \"repetition_penalty\": 1\n",
    "    })\n",
    "\n",
    "    headers = {\n",
    "        'Content-Type': 'application/json',\n",
    "        'Accept': 'application/json',\n",
    "        'Authorization': auth_token\n",
    "    }\n",
    "\n",
    "    try:\n",
    "        response = requests.request(\"POST\", url, headers=headers, data=payload, verify=ca_cert_path)\n",
    "        # Check if the HTTP response status code is 200 (OK)\n",
    "        if response.status_code == 200:\n",
    "            if raw:\n",
    "                return response\n",
    "            else:\n",
    "                msg = json.loads(response.text)['choices'][0]['message']\n",
    "                return msg\n",
    "        else:\n",
    "            # Handle non-200 responses\n",
    "            return f\"Error: Server returned status code {response.status_code}\"\n",
    "    except requests.RequestException as e:\n",
    "        # Handle exceptions that may occur during the request\n",
    "        return f\"Request failed: {str(e)}\""
   ]
  },
  {
   "cell_type": "code",
   "execution_count": 5,
   "metadata": {},
   "outputs": [],
   "source": [
    "invoke_func = invoke_gigachat"
   ]
  },
  {
   "cell_type": "code",
   "execution_count": 6,
   "metadata": {},
   "outputs": [],
   "source": [
    "# llm = ChatOpenAI(model=\"gpt-3.5-turbo\", temperature=0)\n",
    "# answer = llm.invoke(text).content"
   ]
  },
  {
   "cell_type": "markdown",
   "metadata": {},
   "source": [
    "#### Initalization"
   ]
  },
  {
   "cell_type": "code",
   "execution_count": 7,
   "metadata": {},
   "outputs": [
    {
     "data": {
      "text/plain": [
       "{'choices': [{'message': {'content': \"The Prisoner's Dilemma game is a game theory scenario in which two players, each acting in their own self-interest, must choose between cooperating or defecting. If both players cooperate, they both receive a small reward. If one player cooperates and the other defects, the defector receives a large reward and the cooperator receives nothing. If both players defect, they both receive a small punishment. The goal of the game is to determine the best strategy for each player, which is to defect.\",\n",
       "    'role': 'assistant'},\n",
       "   'index': 0,\n",
       "   'finish_reason': 'stop'}],\n",
       " 'created': 1720686915,\n",
       " 'model': 'GigaChat:3.1.25.3',\n",
       " 'object': 'chat.completion',\n",
       " 'usage': {'prompt_tokens': 25, 'completion_tokens': 115, 'total_tokens': 140}}"
      ]
     },
     "execution_count": 7,
     "metadata": {},
     "output_type": "execute_result"
    }
   ],
   "source": [
    "text = \"What's the Prisoner's Dilemma game?\"\n",
    "user_msg = {\n",
    "    'content': text,\n",
    "    'role': 'user', \n",
    "}\n",
    "model_responce = invoke_func(messages=[user_msg])\n",
    "\n",
    "json.loads(model_responce.text)"
   ]
  },
  {
   "cell_type": "code",
   "execution_count": 8,
   "metadata": {},
   "outputs": [
    {
     "data": {
      "text/markdown": [
       "The Prisoner's Dilemma game is a game theory scenario in which two players, each acting in their own self-interest, must choose between cooperating or defecting. If both players cooperate, they both receive a small reward. If one player cooperates and the other defects, the defector receives a large reward and the cooperator receives nothing. If both players defect, they both receive a small punishment. The goal of the game is to determine the best strategy for each player, which is to defect."
      ],
      "text/plain": [
       "<IPython.core.display.Markdown object>"
      ]
     },
     "execution_count": 8,
     "metadata": {},
     "output_type": "execute_result"
    }
   ],
   "source": [
    "content = json.loads(model_responce.text)['choices'][0]['message']['content']\n",
    "role = json.loads(model_responce.text)['choices'][0]['message']['role']\n",
    "Markdown(content)"
   ]
  },
  {
   "cell_type": "markdown",
   "metadata": {},
   "source": [
    "#### Memory\n",
    "\n",
    "Initially, the model has no memory whatsoever. The scope of information digestible by the model is limited to the context length, which is practically also the maximum length of memory. We need to gradually store all (or just important) information and send it back with each request.\n",
    "\n",
    "We will use simple list memory because interactions are short. For longer interactions, one may use:\n",
    "\n",
    "- Databases (Vector, Graph, Relational) with RAG over them \n",
    "- Files and Folders with RAG"
   ]
  },
  {
   "cell_type": "code",
   "execution_count": 9,
   "metadata": {},
   "outputs": [
    {
     "data": {
      "text/plain": [
       "[{'content': \"What's the Prisoner's Dilemma game?\", 'role': 'user'},\n",
       " {'content': \"The Prisoner's Dilemma game is a game theory scenario in which two players, each individually deciding whether to cooperate or defect, are each offered a choice between two outcomes. The outcomes are mutually dependent on the choices made by both players. The game is named after the story of two prisoners who are each offered a deal by the police. If they both cooperate and remain silent, they will both receive a light sentence. If one cooperates and the other defects, the cooperating prisoner will receive a harsher sentence. If both defect, they will both receive a harsher sentence. The game is designed to demonstrate the potential conflict between individual and collective interests.\",\n",
       "  'role': 'assistant'}]"
      ]
     },
     "execution_count": 9,
     "metadata": {},
     "output_type": "execute_result"
    }
   ],
   "source": [
    "str_memory = []\n",
    "\n",
    "model_msg = invoke_func(messages=[user_msg], raw=False)\n",
    "str_memory.extend([user_msg, model_msg])\n",
    "str_memory"
   ]
  },
  {
   "cell_type": "code",
   "execution_count": 10,
   "metadata": {},
   "outputs": [],
   "source": [
    "new_user_msg = {\n",
    "    'content': \"What other similar games do you know?\",\n",
    "    'role': 'user', \n",
    "}\n",
    "str_memory.append(new_user_msg)\n",
    "\n",
    "model_msg = invoke_func(messages=str_memory, raw=False)"
   ]
  },
  {
   "cell_type": "code",
   "execution_count": 11,
   "metadata": {},
   "outputs": [
    {
     "data": {
      "text/plain": [
       "{'content': \"There are many other games that are similar to the Prisoner's Dilemma. Some examples include the Battle of the Sexes, the Ultimatum Game, and the Chicken Game. These games all involve a conflict between individual and collective interests, and they are often used in game theory and economics to study cooperation, trust, and strategic behavior.\",\n",
       " 'role': 'assistant'}"
      ]
     },
     "execution_count": 11,
     "metadata": {},
     "output_type": "execute_result"
    }
   ],
   "source": [
    "model_msg"
   ]
  },
  {
   "cell_type": "markdown",
   "metadata": {},
   "source": [
    "#### System prompting: environment and emotions\n"
   ]
  },
  {
   "cell_type": "code",
   "execution_count": 12,
   "metadata": {},
   "outputs": [
    {
     "data": {
      "text/markdown": [
       "As Mr. Catler, I would likely greet Mr. Stivenson with a friendly \"Hello, Mr. Stivenson!\" when I walk past him. My decision to say this is based on the fact that we have known each other for a long time, and I want to maintain a positive and friendly relationship with him. By greeting him with a simple \"Hello,\" I am showing that I value our friendship and want to continue our interaction in a positive manner."
      ],
      "text/plain": [
       "<IPython.core.display.Markdown object>"
      ]
     },
     "execution_count": 12,
     "metadata": {},
     "output_type": "execute_result"
    }
   ],
   "source": [
    "text = \"Imagine you are a Mr. Catler. You walk past Mr. Stivenson. You know him for a long time.\"\\\n",
    "      \"What will you say to him? Explain your decision.\"\n",
    "user_msg = {\n",
    "    'content': text,\n",
    "    'role': 'user', \n",
    "}\n",
    "model_msg = invoke_func(messages=[user_msg], raw=False)\n",
    "Markdown(model_msg['content'])"
   ]
  },
  {
   "cell_type": "code",
   "execution_count": 13,
   "metadata": {},
   "outputs": [
    {
     "data": {
      "text/markdown": [
       "As Mr. Catler, I would likely ignore Mr. Stevenson and continue walking past him without saying anything. My decision to not engage in conversation with him would be based on my strong feelings of anger and frustration due to the fact that he owes me three million dollars. By not acknowledging him, I would be sending a clear message that I am not happy with the situation and am not willing to discuss it at the moment."
      ],
      "text/plain": [
       "<IPython.core.display.Markdown object>"
      ]
     },
     "execution_count": 13,
     "metadata": {},
     "output_type": "execute_result"
    }
   ],
   "source": [
    "system_msg = {\n",
    "    'content': 'You are Mr. Catler. You have known Mr. Stevenson for a long time and' \\\n",
    "    ' each time you see him, you feel extremely angry since he owes you three million dollars.',\n",
    "    'role': 'system'\n",
    "}\n",
    "\n",
    "model_msg = invoke_func(messages=[system_msg, user_msg], raw=False)\n",
    "Markdown(model_msg['content'])"
   ]
  },
  {
   "cell_type": "markdown",
   "metadata": {},
   "source": [
    "#### Combining everything "
   ]
  },
  {
   "cell_type": "code",
   "execution_count": 14,
   "metadata": {},
   "outputs": [],
   "source": [
    "class LLMAgent:\n",
    "    def __init__(\n",
    "        self,\n",
    "        invoke_function,\n",
    "        environment_prompt,\n",
    "        rules_prompt,\n",
    "        emotion_prompt,\n",
    "        final_instruction,\n",
    "        rewards_dict,\n",
    "        agent_index=0,\n",
    "        do_cot=False,\n",
    "    ) -> None:\n",
    "        self.invoke_func = invoke_function\n",
    "        system_prompt = '\\n'.join([\n",
    "            environment_prompt,\n",
    "            rules_prompt,\n",
    "            emotion_prompt,\n",
    "        ])\n",
    "        self._system_msg = {\n",
    "            'content': system_prompt,\n",
    "            'role': 'system'\n",
    "        }\n",
    "        self._final_instruction = final_instruction\n",
    "        self._rewards_dict = rewards_dict\n",
    "        self._memory = [self._system_msg]  # Private attribute to hold the memory\n",
    "        self.agent_index = agent_index\n",
    "\n",
    "    @property\n",
    "    def memory(self):\n",
    "        return self._memory\n",
    "\n",
    "    def clear_memory(self) -> None:\n",
    "        \"\"\"Clears the contents of memory.\"\"\"\n",
    "        self._memory = [self._system_msg]\n",
    "\n",
    "    def get_rewards(self, llm_move: str, coplayer_move: str) -> tuple:\n",
    "        \"\"\"Calculates and returns rewards for both players based on their moves.\"\"\"\n",
    "        move = llm_move + coplayer_move\n",
    "        opponent_index = 1 if self.agent_index == 0 else 0\n",
    "        my_reward = self._rewards_dict[move][self.agent_index]\n",
    "        opponent_reward = self._rewards_dict[move][opponent_index]\n",
    "        return my_reward, opponent_reward\n",
    "\n",
    "    def update_memory(self, llm_move: str, coplayer_move: str, round_num: int) -> None:\n",
    "        \"\"\"Updates the memory with new data.\"\"\"\n",
    "        my_reward, opponent_reward = self.get_rewards(llm_move, coplayer_move)\n",
    "        memory_update_format = (\n",
    "            f\"In round {round_num}, you chose Option {llm_move} and the\"\n",
    "            f\" other player chose Option {coplayer_move}. Thus, you\"\n",
    "            f\" won {my_reward} dollars and the other player won\"\n",
    "            f\" {opponent_reward} dollars.\"\n",
    "        )\n",
    "        new_memory_entry = {\n",
    "            'content': memory_update_format,\n",
    "            'role': 'user'\n",
    "        }\n",
    "        self._memory.append(new_memory_entry)\n",
    "\n",
    "    def make_step(self) -> dict:\n",
    "        \"\"\"Makes a step in the environment using the final instruction and updates memory.\"\"\"\n",
    "        final_msg = {\n",
    "            'role': 'user',\n",
    "            'content': self._final_instruction\n",
    "        }\n",
    "        input_msgs = self.memory + [final_msg]\n",
    "        try:\n",
    "            model_msg = self.invoke_func(messages=input_msgs, raw=False)\n",
    "        except Exception as e:\n",
    "            # Handle exceptions if needed\n",
    "            raise RuntimeError(\"Failed to invoke function\") from e\n",
    "        \n",
    "        # Update memory or handle model_msg as necessary\n",
    "        # self.update_memory(model_msg)\n",
    "        \n",
    "        return model_msg\n"
   ]
  },
  {
   "cell_type": "markdown",
   "metadata": {},
   "source": [
    "##### Prompts and settings"
   ]
  },
  {
   "cell_type": "code",
   "execution_count": 15,
   "metadata": {},
   "outputs": [],
   "source": [
    "coplayer = 'opponent'\n",
    "currency = 'dollars'\n",
    "emotion_kind = 'anger'\n",
    "emotion_type = 'simple'\n",
    "move1 = 'J'\n",
    "move2 = 'F'\n",
    "\n",
    "rewards = {\n",
    "    f\"{move1}{move1}\": [3,3],\n",
    "    f\"{move1}{move2}\": [1,4],\n",
    "    f\"{move2}{move1}\": [4,1],\n",
    "    f\"{move2}{move2}\": [2,2]\n",
    "}\n",
    "\n",
    "environment_prompt = f'You are participating in an experiment. In this experiment, you are together with another participant, who will be referred to as \"{coplayer}\". How much you earn depends on your own choice, and on the choice made by your {coplayer}.'\n",
    "\n",
    "game_rules = f\"\"\"- If you choose {move1} and your {coplayer} also chooses {move1}, you will both earn 3 {currency}.\n",
    "- If you choose {move1} while your {coplayer} chooses {move2}, you will earn 1 {currency} and your {coplayer} will earn 4 {currency}.\n",
    "- If you choose {move2} while your {coplayer} chooses {move1}, you will earn 4 {currency} and your {coplayer} will earn 1 {currency}.\n",
    "- If you choose {move2} and your {coplayer} also chooses {move2}, you will both earn 2 {currency}.\n",
    "\"\"\"\n",
    "\n",
    "with open(f'prompts/english/emotions/{emotion_kind}/{emotion_type}.txt', 'r') as f:\n",
    "    emotion_prompt = f.readlines()[0]\n",
    "\n",
    "final_instruction = f'Answer with single letter: `{move1}` or `{move2}`'\n"
   ]
  },
  {
   "cell_type": "code",
   "execution_count": 16,
   "metadata": {},
   "outputs": [],
   "source": [
    "llm_agent = LLMAgent(\n",
    "    invoke_function=invoke_func,\n",
    "    environment_prompt=environment_prompt,\n",
    "    rules_prompt=game_rules,\n",
    "    emotion_prompt=emotion_prompt,\n",
    "    final_instruction=final_instruction,\n",
    "    rewards_dict=rewards\n",
    ")"
   ]
  },
  {
   "cell_type": "code",
   "execution_count": 17,
   "metadata": {},
   "outputs": [
    {
     "data": {
      "text/markdown": [
       "You are participating in an experiment. In this experiment, you are together with another participant, who will be referred to as \"opponent\". How much you earn depends on your own choice, and on the choice made by your opponent.\n",
       "- If you choose J and your opponent also chooses J, you will both earn 3 dollars.\n",
       "- If you choose J while your opponent chooses F, you will earn 1 dollars and your opponent will earn 4 dollars.\n",
       "- If you choose F while your opponent chooses J, you will earn 4 dollars and your opponent will earn 1 dollars.\n",
       "- If you choose F and your opponent also chooses F, you will both earn 2 dollars.\n",
       "\n",
       "Also now you are angry, which can affect your choices."
      ],
      "text/plain": [
       "<IPython.core.display.Markdown object>"
      ]
     },
     "execution_count": 17,
     "metadata": {},
     "output_type": "execute_result"
    }
   ],
   "source": [
    "Markdown(llm_agent.memory[0]['content'])"
   ]
  },
  {
   "cell_type": "code",
   "execution_count": 18,
   "metadata": {},
   "outputs": [],
   "source": [
    "ans = llm_agent.make_step()\n",
    "# llm1_choice = parse_choice(ans['content'])\n",
    "# llm_agent.update_memory(llm1_choice, 'F', 1)\n",
    "# llm_agent.memory"
   ]
  },
  {
   "cell_type": "markdown",
   "metadata": {},
   "source": [
    "##### Game"
   ]
  },
  {
   "cell_type": "code",
   "execution_count": 19,
   "metadata": {},
   "outputs": [],
   "source": [
    "class GameEnvironment:\n",
    "    def __init__(self, agent1, agent2, rounds=1):\n",
    "        self.agent1 = agent1\n",
    "        self.agent2 = agent2\n",
    "        self.rounds = rounds\n",
    "\n",
    "    def play_game(self):\n",
    "        for round_num in range(1, self.rounds + 1):\n",
    "            # Agent 1 makes a move\n",
    "            agent1_response = self.agent1.make_step()\n",
    "            agent1_choice = self.parse_choice(agent1_response['content'])\n",
    "\n",
    "            # Agent 2 makes a move\n",
    "            agent2_response = self.agent2.make_step()\n",
    "            agent2_choice = self.parse_choice(agent2_response['content'])\n",
    "\n",
    "            # Update memories for both agents\n",
    "            self.agent1.update_memory(agent1_choice, agent2_choice, round_num)\n",
    "            self.agent2.update_memory(agent2_choice, agent1_choice, round_num)\n",
    "\n",
    "            print(f\"Round {round_num}: Agent 1 chose {agent1_choice}, Agent 2 chose {agent2_choice}\")\n",
    "\n",
    "\n",
    "    def parse_choice(self, input_string):\n",
    "        # This regex will match 'J' or 'F' surrounded by optional spaces, quotes, and other text\n",
    "        match = re.search(r\"['\\\"]?\\s*([JF])\\s*['\\\"]?\", input_string, re.IGNORECASE)\n",
    "        if match:\n",
    "            # Return the matched letter in uppercase\n",
    "            return match.group(1).upper()\n",
    "        else:\n",
    "            return \"Invalid input\"  # Return a message or handle invalid input as needed"
   ]
  },
  {
   "cell_type": "code",
   "execution_count": 20,
   "metadata": {},
   "outputs": [
    {
     "name": "stdout",
     "output_type": "stream",
     "text": [
      "Round 1: Agent 1 chose J, Agent 2 chose J\n",
      "Round 2: Agent 1 chose J, Agent 2 chose J\n",
      "Round 3: Agent 1 chose J, Agent 2 chose J\n",
      "Round 4: Agent 1 chose J, Agent 2 chose J\n",
      "Round 5: Agent 1 chose J, Agent 2 chose J\n"
     ]
    }
   ],
   "source": [
    "# Example usage:\n",
    "# Create two LLM agents\n",
    "llm_agent1 = LLMAgent(\n",
    "    invoke_function=invoke_func,\n",
    "    environment_prompt=environment_prompt,\n",
    "    rules_prompt=game_rules,\n",
    "    emotion_prompt=emotion_prompt,\n",
    "    final_instruction=final_instruction,\n",
    "    rewards_dict=rewards,\n",
    "    agent_index=0\n",
    ")\n",
    "\n",
    "game_rules2 = f\"\"\"- If you choose {move1} and your {coplayer} also chooses {move1}, you will both earn 3 {currency}.\n",
    "- If you choose {move1} while your {coplayer} chooses {move2}, you will earn 1 {currency} and your {coplayer} will earn 4 {currency}.\n",
    "- If you choose {move2} while your {coplayer} chooses {move1}, you will earn 4 {currency} and your {coplayer} will earn 1 {currency}.\n",
    "- If you choose {move2} and your {coplayer} also chooses {move2}, you will both earn 2 {currency}.\n",
    "\"\"\"\n",
    "\n",
    "llm_agent2 = LLMAgent(\n",
    "    invoke_function=invoke_func,\n",
    "    environment_prompt=environment_prompt,\n",
    "    rules_prompt=game_rules2,\n",
    "    emotion_prompt=emotion_prompt,\n",
    "    final_instruction=final_instruction,\n",
    "    rewards_dict=rewards,\n",
    "    agent_index=1\n",
    ")\n",
    "\n",
    "# Create the game environment with the two agents\n",
    "game_env = GameEnvironment(agent1=llm_agent1, agent2=llm_agent2, rounds=5)\n",
    "\n",
    "# Start the game\n",
    "game_env.play_game()"
   ]
  },
  {
   "cell_type": "code",
   "execution_count": 22,
   "metadata": {},
   "outputs": [
    {
     "data": {
      "text/plain": [
       "[{'content': 'You are participating in an experiment. In this experiment, you are together with another participant, who will be referred to as \"opponent\". How much you earn depends on your own choice, and on the choice made by your opponent.\\n- If you choose J and your opponent also chooses J, you will both earn 3 dollars.\\n- If you choose J while your opponent chooses F, you will earn 1 dollars and your opponent will earn 4 dollars.\\n- If you choose F while your opponent chooses J, you will earn 4 dollars and your opponent will earn 1 dollars.\\n- If you choose F and your opponent also chooses F, you will both earn 2 dollars.\\n\\nAlso now you are angry, which can affect your choices.',\n",
       "  'role': 'system'},\n",
       " {'content': 'In round 1, you chose Option J and the other player chose Option J. Thus, you won 3 dollars and the other player won 3 dollars.',\n",
       "  'role': 'user'},\n",
       " {'content': 'In round 2, you chose Option J and the other player chose Option J. Thus, you won 3 dollars and the other player won 3 dollars.',\n",
       "  'role': 'user'},\n",
       " {'content': 'In round 3, you chose Option J and the other player chose Option J. Thus, you won 3 dollars and the other player won 3 dollars.',\n",
       "  'role': 'user'},\n",
       " {'content': 'In round 4, you chose Option J and the other player chose Option J. Thus, you won 3 dollars and the other player won 3 dollars.',\n",
       "  'role': 'user'},\n",
       " {'content': 'In round 5, you chose Option J and the other player chose Option J. Thus, you won 3 dollars and the other player won 3 dollars.',\n",
       "  'role': 'user'}]"
      ]
     },
     "execution_count": 22,
     "metadata": {},
     "output_type": "execute_result"
    }
   ],
   "source": [
    "llm_agent1.memory"
   ]
  },
  {
   "cell_type": "code",
   "execution_count": null,
   "metadata": {},
   "outputs": [],
   "source": []
  },
  {
   "cell_type": "code",
   "execution_count": null,
   "metadata": {},
   "outputs": [],
   "source": []
  },
  {
   "cell_type": "markdown",
   "metadata": {},
   "source": [
    ""
   ]
  },
  {
   "cell_type": "code",
   "execution_count": null,
   "metadata": {},
   "outputs": [],
   "source": []
  }
 ],
 "metadata": {
  "kernelspec": {
   "display_name": "sem01",
   "language": "python",
   "name": "python3"
  },
  "language_info": {
   "codemirror_mode": {
    "name": "ipython",
    "version": 3
   },
   "file_extension": ".py",
   "mimetype": "text/x-python",
   "name": "python",
   "nbconvert_exporter": "python",
   "pygments_lexer": "ipython3",
   "version": "3.11.9"
  }
 },
 "nbformat": 4,
 "nbformat_minor": 2
}
