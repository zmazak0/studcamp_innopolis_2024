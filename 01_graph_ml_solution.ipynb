{
 "cells": [
  {
   "cell_type": "markdown",
   "id": "b5c01928",
   "metadata": {},
   "source": [
    "# Assignment — Graph Machine Learning"
   ]
  },
  {
   "cell_type": "code",
   "execution_count": 3,
   "id": "e8a1750e",
   "metadata": {
    "execution": {
     "iopub.execute_input": "2024-07-26T11:51:40.228085Z",
     "iopub.status.busy": "2024-07-26T11:51:40.227831Z",
     "iopub.status.idle": "2024-07-26T11:51:47.347081Z",
     "shell.execute_reply": "2024-07-26T11:51:47.346372Z"
    },
    "ExecuteTime": {
     "end_time": "2024-07-26T11:54:25.040393Z",
     "start_time": "2024-07-26T11:54:25.005751Z"
    }
   },
   "outputs": [],
   "source": [
    "from sklearn.datasets import make_moons\n",
    "import requests\n",
    "from torch.optim import Adam\n",
    "from sklearn.decomposition import TruncatedSVD\n",
    "import torch\n",
    "from sklearn.neighbors import kneighbors_graph\n",
    "import torch.nn as nn\n",
    "import networkx as nx\n",
    "from tqdm.notebook import trange\n",
    "from sklearn.cluster import k_means\n",
    "from sklearn.manifold import TSNE\n",
    "from sklearn.metrics import roc_curve, auc\n",
    "from tqdm.notebook import tqdm\n",
    "from sklearn.metrics import balanced_accuracy_score, mean_squared_error, mutual_info_score\n",
    "import numpy as np\n",
    "import pandas as pd\n",
    "from sklearn.linear_model import LogisticRegression\n",
    "import matplotlib.pyplot as plt\n",
    "import torch.nn.functional as F\n",
    "from sklearn.metrics import balanced_accuracy_score"
   ]
  },
  {
   "cell_type": "markdown",
   "id": "6d8073dc",
   "metadata": {},
   "source": [
    "### 1. Node classification"
   ]
  },
  {
   "cell_type": "markdown",
   "source": [
    "#### 1.1. Dataset: Karate club"
   ],
   "metadata": {
    "collapsed": false
   },
   "id": "5966850f30c4f289"
  },
  {
   "cell_type": "code",
   "execution_count": 27,
   "id": "4856dab9",
   "metadata": {
    "execution": {
     "iopub.execute_input": "2024-07-26T11:51:47.352586Z",
     "iopub.status.busy": "2024-07-26T11:51:47.352292Z",
     "iopub.status.idle": "2024-07-26T11:51:47.764604Z",
     "shell.execute_reply": "2024-07-26T11:51:47.764248Z"
    },
    "ExecuteTime": {
     "end_time": "2024-07-26T13:54:23.458296Z",
     "start_time": "2024-07-26T13:54:23.375835Z"
    }
   },
   "outputs": [
    {
     "data": {
      "text/plain": "['tab:orange',\n 'tab:orange',\n 'tab:orange',\n 'tab:orange',\n 'tab:orange',\n 'tab:orange',\n 'tab:orange',\n 'tab:orange',\n 'tab:orange',\n 'tab:blue',\n 'tab:orange',\n 'tab:orange',\n 'tab:orange',\n 'tab:orange',\n 'tab:blue',\n 'tab:blue',\n 'tab:orange',\n 'tab:orange',\n 'tab:blue',\n 'tab:orange',\n 'tab:blue',\n 'tab:orange',\n 'tab:blue',\n 'tab:blue',\n 'tab:blue',\n 'tab:blue',\n 'tab:blue',\n 'tab:blue',\n 'tab:blue',\n 'tab:blue',\n 'tab:blue',\n 'tab:blue',\n 'tab:blue',\n 'tab:blue']"
     },
     "execution_count": 27,
     "metadata": {},
     "output_type": "execute_result"
    }
   ],
   "source": [
    "G = nx.karate_club_graph()\n",
    "attr = nx.get_node_attributes(G, 'club')\n",
    "attr = ['tab:orange' if i == 'Mr. Hi' else 'tab:blue' for i in list(attr.values())]\n",
    "attr"
   ]
  },
  {
   "cell_type": "markdown",
   "source": [
    "Let's draw the graph"
   ],
   "metadata": {
    "collapsed": false
   },
   "id": "15378c57dd00936a"
  },
  {
   "cell_type": "code",
   "execution_count": 102,
   "outputs": [],
   "source": [
    "blue_color_rgb = np.array([0, 0, 255]) / 255\n",
    "orange_color_rgb = np.array([255, 102, 0]) / 255\n",
    "\n",
    "attr2color = {'tab:orange': orange_color_rgb, 'tab:blue': blue_color_rgb}\n",
    "\n",
    "node_color = [attr2color[attr_val] for attr_val in attr]\n",
    "nx.draw_networkx(G, node_size=50, width=0.5,\n",
    "        edgecolors='black', node_color=node_color, with_labels=False)"
   ],
   "metadata": {
    "collapsed": false,
    "ExecuteTime": {
     "end_time": "2024-07-26T14:04:05.995711Z",
     "start_time": "2024-07-26T14:04:05.927575Z"
    }
   },
   "id": "1e4f419b0d774917"
  },
  {
   "cell_type": "markdown",
   "id": "eae28113",
   "metadata": {},
   "source": [
    "#### 1.2.  Node classification with SVD node embeddings"
   ]
  },
  {
   "cell_type": "markdown",
   "id": "51ee7e40",
   "metadata": {},
   "source": [
    "Another way to classify nodes is to learn node embeddings and then use any supervised algorithm. One of the simplest way to obtain node embeddings is to apply SVD on adjacency matrix. The first step is to decompose the adjacency matrix $A$ into three matrices $U$\n",
    ", $S$ and $V$ so that \n",
    "\n",
    "$$USV^T = A$$\n",
    "\n",
    "Then we keep only $k$ first singular values, where $k$ is a number of dimensions of embedding. For example if $k=2$, then the 4x4 matrix $S$ is converted as follows\n",
    "\n",
    "$$S = \\begin{bmatrix}\n",
    "\\sigma_1 & 0 & 0 & 0 \\\\\n",
    "0 & \\sigma_2 & 0 & 0 \\\\\n",
    "0 & 0 & \\sigma_3 & 0 \\\\\n",
    "0 & 0 & 0 & \\sigma_4 \\\\\n",
    "\\end{bmatrix}\n",
    "\\Rightarrow\n",
    "\\begin{bmatrix}\n",
    "\\sigma_1 & 0 & 0 & 0 \\\\\n",
    "0 & \\sigma_2 & 0 & 0 \\\\\n",
    "0 & 0 & 0 & 0 \\\\\n",
    "0 & 0 & 0 & 0 \\\\\n",
    "\\end{bmatrix}$$\n",
    "\n",
    "And then we compute embeddings as $E = US$ and use only non-zero columns. Let us consider SVD embedding on the Zachary's Karate Club graph."
   ]
  },
  {
   "cell_type": "markdown",
   "id": "191fdcd1",
   "metadata": {},
   "source": [
    "Write a function `svd_adj` that takes a graph and returns 3 np.arrays with $U$, $S$, $V^T$ of an adjacency matrix. \n",
    "\n",
    "Hint: use `np.linalg.svd`"
   ]
  },
  {
   "cell_type": "code",
   "execution_count": 29,
   "id": "cd00b80d",
   "metadata": {
    "execution": {
     "iopub.execute_input": "2024-07-26T11:51:47.873343Z",
     "iopub.status.busy": "2024-07-26T11:51:47.873253Z",
     "iopub.status.idle": "2024-07-26T11:51:47.875116Z",
     "shell.execute_reply": "2024-07-26T11:51:47.874787Z"
    },
    "nbgrader": {
     "checksum": "a1d72000a04f7d7610da540ef9e97f6b",
     "grade": false,
     "grade_id": "cell-9da3cd75a2c870cf",
     "locked": false,
     "schema_version": 3,
     "solution": true,
     "task": false
    },
    "ExecuteTime": {
     "end_time": "2024-07-26T13:54:56.410643Z",
     "start_time": "2024-07-26T13:54:56.382941Z"
    }
   },
   "outputs": [],
   "source": [
    "def svd_adj(G):\n",
    "    ### BEGIN SOLUTION\n",
    "    A = nx.to_numpy_array(G)\n",
    "    u, s, vt = np.linalg.svd(A)\n",
    "    return u, np.diag(s), vt\n",
    "    ### END SOLUTION"
   ]
  },
  {
   "cell_type": "code",
   "execution_count": 30,
   "id": "0d3bdc95",
   "metadata": {
    "execution": {
     "iopub.execute_input": "2024-07-26T11:51:47.876848Z",
     "iopub.status.busy": "2024-07-26T11:51:47.876730Z",
     "iopub.status.idle": "2024-07-26T11:51:47.879261Z",
     "shell.execute_reply": "2024-07-26T11:51:47.879034Z"
    },
    "nbgrader": {
     "checksum": "29cd49c992ce7caba8457166294bc603",
     "grade": true,
     "grade_id": "cell-9916cee422e7e71a",
     "locked": true,
     "points": 0.0,
     "schema_version": 3,
     "solution": false,
     "task": false
    },
    "ExecuteTime": {
     "end_time": "2024-07-26T13:55:01.089755Z",
     "start_time": "2024-07-26T13:55:01.040180Z"
    }
   },
   "outputs": [],
   "source": [
    "A = nx.to_numpy_array(G)\n",
    "u, s, vt = svd_adj(G)\n",
    "A_ = u @ s @ vt\n",
    "assert np.allclose(A, A_)"
   ]
  },
  {
   "cell_type": "markdown",
   "id": "28b03d24",
   "metadata": {},
   "source": [
    "Write a function `svd_embedding` that takes np.arrays with $U$, $S$, a numer of dimensions $k$ and returns a np.array with node embeddings."
   ]
  },
  {
   "cell_type": "code",
   "execution_count": 31,
   "id": "56d1ac91",
   "metadata": {
    "execution": {
     "iopub.execute_input": "2024-07-26T11:51:47.880582Z",
     "iopub.status.busy": "2024-07-26T11:51:47.880507Z",
     "iopub.status.idle": "2024-07-26T11:51:47.882105Z",
     "shell.execute_reply": "2024-07-26T11:51:47.881902Z"
    },
    "nbgrader": {
     "checksum": "cebda4dc4d8f100434ebe7141675253c",
     "grade": false,
     "grade_id": "cell-b71bd633032058ce",
     "locked": false,
     "schema_version": 3,
     "solution": true,
     "task": false
    },
    "ExecuteTime": {
     "end_time": "2024-07-26T13:55:03.597957Z",
     "start_time": "2024-07-26T13:55:03.567161Z"
    }
   },
   "outputs": [],
   "source": [
    "def svd_embedding(u, s, k):\n",
    "    ### BEGIN SOLUTION\n",
    "    emb = u @ s\n",
    "    return emb[:, :k]\n",
    "    ### END SOLUTION"
   ]
  },
  {
   "cell_type": "code",
   "execution_count": 32,
   "id": "e0c71e1a",
   "metadata": {
    "execution": {
     "iopub.execute_input": "2024-07-26T11:51:47.883448Z",
     "iopub.status.busy": "2024-07-26T11:51:47.883404Z",
     "iopub.status.idle": "2024-07-26T11:51:47.891910Z",
     "shell.execute_reply": "2024-07-26T11:51:47.891614Z"
    },
    "nbgrader": {
     "checksum": "2a85312a7fa6157185328b3cc06d2b15",
     "grade": true,
     "grade_id": "cell-db2be10d307ead94",
     "locked": true,
     "points": 0.0,
     "schema_version": 3,
     "solution": false,
     "task": false
    },
    "ExecuteTime": {
     "end_time": "2024-07-26T13:55:16.188530Z",
     "start_time": "2024-07-26T13:55:16.159698Z"
    }
   },
   "outputs": [],
   "source": [
    "attr = nx.get_node_attributes(G, 'club')\n",
    "attr = ['tab:orange' if i == 'Mr. Hi' else 'tab:blue' for i in list(attr.values())]\n",
    "\n",
    "G = nx.karate_club_graph()\n",
    "u, s, vt = svd_adj(G)\n",
    "\n",
    "emb = svd_embedding(u, s, 2)\n",
    "assert emb.shape == (34, 2)\n",
    "\n",
    "clf = LogisticRegression().fit(emb, attr)\n",
    "assert 0.97 < clf.score(emb, attr) < 1\n",
    "\n",
    "emb = svd_embedding(u, s, 8)\n",
    "assert emb.shape == (34, 8)\n",
    "\n",
    "clf = LogisticRegression().fit(emb, attr)\n",
    "assert clf.score(emb, attr) == 1"
   ]
  },
  {
   "cell_type": "code",
   "execution_count": 33,
   "id": "646b1ef9",
   "metadata": {
    "execution": {
     "iopub.execute_input": "2024-07-26T11:51:47.893752Z",
     "iopub.status.busy": "2024-07-26T11:51:47.893673Z",
     "iopub.status.idle": "2024-07-26T11:51:48.030232Z",
     "shell.execute_reply": "2024-07-26T11:51:48.028802Z"
    },
    "ExecuteTime": {
     "end_time": "2024-07-26T13:55:18.791521Z",
     "start_time": "2024-07-26T13:55:18.743627Z"
    }
   },
   "outputs": [
    {
     "data": {
      "text/plain": "<Figure size 640x480 with 1 Axes>",
      "image/png": "[encoded data removed]"
     },
     "metadata": {},
     "output_type": "display_data"
    }
   ],
   "source": [
    "emb = svd_embedding(u, s, 2)\n",
    "plt.scatter(emb[:, 0], emb[:, 1], c=attr)\n",
    "plt.show()"
   ]
  },
  {
   "cell_type": "markdown",
   "id": "ab8235b6",
   "metadata": {},
   "source": [
    "As we see, SVD embeddings represent nodes in almost linearly seperable classes for the karate club graph."
   ]
  },
  {
   "cell_type": "markdown",
   "source": [
    "### 2. Link Prediction"
   ],
   "metadata": {
    "collapsed": false
   },
   "id": "e31f8cba0a8391ad"
  },
  {
   "cell_type": "markdown",
   "id": "31801916",
   "metadata": {},
   "source": [
    "#### 2.1. Dataset for link prediction"
   ]
  },
  {
   "cell_type": "markdown",
   "id": "0ce0c4c3",
   "metadata": {
    "id": "u-j6Lpn03K98"
   },
   "source": [
    "Consider link prediction on the [e-mails network](http://snap.stanford.edu/data/email-Eu-core-temporal.html) where nodes are members of a research institution and edges are e-mails given with timestamps. The goal is to predict occurrence of edges in the test time period using information from the train time period only."
   ]
  },
  {
   "cell_type": "code",
   "execution_count": 34,
   "id": "ed1a4b0f",
   "metadata": {
    "execution": {
     "iopub.execute_input": "2024-07-26T11:51:48.037797Z",
     "iopub.status.busy": "2024-07-26T11:51:48.037353Z",
     "iopub.status.idle": "2024-07-26T11:51:48.163335Z",
     "shell.execute_reply": "2024-07-26T11:51:48.159311Z"
    },
    "id": "RV1M-w9L3K99",
    "ExecuteTime": {
     "end_time": "2024-07-26T13:55:29.476626Z",
     "start_time": "2024-07-26T13:55:26.824669Z"
    }
   },
   "outputs": [],
   "source": [
    "url = 'https://raw.githubusercontent.com/netspractice/network-science/main/datasets/email-Eu-core-temporal.txt'\n",
    "open('email-Eu-core-temporal.txt', 'wb').write(requests.get(url).content);\n"
   ]
  },
  {
   "cell_type": "code",
   "execution_count": 35,
   "id": "494edd63",
   "metadata": {
    "colab": {
     "base_uri": "https://localhost:8080/",
     "height": 423
    },
    "execution": {
     "iopub.execute_input": "2024-07-26T11:51:48.175530Z",
     "iopub.status.busy": "2024-07-26T11:51:48.174638Z",
     "iopub.status.idle": "2024-07-26T11:51:48.200171Z",
     "shell.execute_reply": "2024-07-26T11:51:48.196692Z"
    },
    "id": "3UBncA5d3K99",
    "outputId": "b2a01072-204a-4278-af2f-f56f5df97fa5",
    "ExecuteTime": {
     "end_time": "2024-07-26T13:55:30.532072Z",
     "start_time": "2024-07-26T13:55:30.476344Z"
    }
   },
   "outputs": [
    {
     "data": {
      "text/plain": "        sender  receiver  timestamp\n0          582       364          0\n1          168       472       2797\n2          168       912       3304\n3            2       790       4523\n4            2       322       7926\n...        ...       ...        ...\n332329     324       367   45401817\n332330     790       126   45402441\n332331     790       126   45403709\n332332     782       126   45404903\n332333     685       643   45405138\n\n[332334 rows x 3 columns]",
      "text/html": "<div>\n<style scoped>\n    .dataframe tbody tr th:only-of-type {\n        vertical-align: middle;\n    }\n\n    .dataframe tbody tr th {\n        vertical-align: top;\n    }\n\n    .dataframe thead th {\n        text-align: right;\n    }\n</style>\n<table border=\"1\" class=\"dataframe\">\n  <thead>\n    <tr style=\"text-align: right;\">\n      <th></th>\n      <th>sender</th>\n      <th>receiver</th>\n      <th>timestamp</th>\n    </tr>\n  </thead>\n  <tbody>\n    <tr>\n      <th>0</th>\n      <td>582</td>\n      <td>364</td>\n      <td>0</td>\n    </tr>\n    <tr>\n      <th>1</th>\n      <td>168</td>\n      <td>472</td>\n      <td>2797</td>\n    </tr>\n    <tr>\n      <th>2</th>\n      <td>168</td>\n      <td>912</td>\n      <td>3304</td>\n    </tr>\n    <tr>\n      <th>3</th>\n      <td>2</td>\n      <td>790</td>\n      <td>4523</td>\n    </tr>\n    <tr>\n      <th>4</th>\n      <td>2</td>\n      <td>322</td>\n      <td>7926</td>\n    </tr>\n    <tr>\n      <th>...</th>\n      <td>...</td>\n      <td>...</td>\n      <td>...</td>\n    </tr>\n    <tr>\n      <th>332329</th>\n      <td>324</td>\n      <td>367</td>\n      <td>45401817</td>\n    </tr>\n    <tr>\n      <th>332330</th>\n      <td>790</td>\n      <td>126</td>\n      <td>45402441</td>\n    </tr>\n    <tr>\n      <th>332331</th>\n      <td>790</td>\n      <td>126</td>\n      <td>45403709</td>\n    </tr>\n    <tr>\n      <th>332332</th>\n      <td>782</td>\n      <td>126</td>\n      <td>45404903</td>\n    </tr>\n    <tr>\n      <th>332333</th>\n      <td>685</td>\n      <td>643</td>\n      <td>45405138</td>\n    </tr>\n  </tbody>\n</table>\n<p>332334 rows × 3 columns</p>\n</div>"
     },
     "execution_count": 35,
     "metadata": {},
     "output_type": "execute_result"
    }
   ],
   "source": [
    "email_df = pd.read_csv(\n",
    "    'email-Eu-core-temporal.txt', \n",
    "    delimiter=' ', \n",
    "    names=['sender', 'receiver', 'timestamp']\n",
    ")\n",
    "email_df"
   ]
  },
  {
   "cell_type": "markdown",
   "id": "3699afb1",
   "metadata": {
    "id": "vdjk0oKL3K9_"
   },
   "source": [
    "Next, consider the following preprocessing procedure:\n",
    "1. Select edges by given train and test time periods, for example, [0, 1000) is train and [1000, 2000) is test\n",
    "2. Build a _core_ — a connected network where every edge occurs at least $k_\\text{train}$ times in the train time period or at least $k_\\text{test}$ times in the test time period. Let the core be undirected, so occurrences edges (1, 0) and (0, 1) are computed together.\n",
    "3. From the core, select a train set of edges $E_\\text{train}$ that occur for the first time in the train period. All others are included to $E_\\text{test}$.\n",
    "3. Exclude test edges that contain nodes that do not occur in train edges.\n",
    "\n",
    "Write a function `train_test_edges` that takes a pd.DataFrame `email_df` with e-mail network, a tuple with the train time period borders `train_period`, say, (0, 1000), a similar tuple `test_period`, the number of edges occurrences `ktrain` and `ktest`. The function returns two lists with tuples — train and test edges. Every edge is returned of the form where the first node is less than the second, for example [(1, 2), (2, 3)] is ok, but [(2, 1), (3, 2)] is wrong."
   ]
  },
  {
   "cell_type": "code",
   "execution_count": 36,
   "id": "3252b5c4",
   "metadata": {
    "execution": {
     "iopub.execute_input": "2024-07-26T11:51:48.204985Z",
     "iopub.status.busy": "2024-07-26T11:51:48.204774Z",
     "iopub.status.idle": "2024-07-26T11:51:48.210969Z",
     "shell.execute_reply": "2024-07-26T11:51:48.210721Z"
    },
    "id": "WOtzLBpV3K-A",
    "nbgrader": {
     "checksum": "d02465886cf63caec30af195db4cf5b9",
     "grade": false,
     "grade_id": "cell-676bd18fcab3c342",
     "locked": false,
     "schema_version": 3,
     "solution": true,
     "task": false
    },
    "ExecuteTime": {
     "end_time": "2024-07-26T13:55:32.435999Z",
     "start_time": "2024-07-26T13:55:32.403702Z"
    }
   },
   "outputs": [],
   "source": [
    "def train_test_edges(email_df, train_period, test_period, ktrain, ktest):\n",
    "    \n",
    "    email_temp = email_df.copy()\n",
    "    email_temp = email_temp[\n",
    "        (train_period[0] <= email_temp.timestamp) \n",
    "        & (email_temp.timestamp < test_period[1])\n",
    "    ]\n",
    "    email_temp['from'] = email_temp[['sender', 'receiver']].min(axis=1)\n",
    "    email_temp['to'] = email_temp[['sender', 'receiver']].max(axis=1)\n",
    "    email_temp = email_temp.drop(['sender', 'receiver'], axis=1)\n",
    "    email_temp = email_temp.set_index(['from', 'to'])\n",
    "\n",
    "    email_train = email_temp[email_temp.timestamp < train_period[1]]\n",
    "    email_train = email_train.groupby(['from', 'to']).count()\n",
    "    train_core = email_train[email_train.timestamp >= ktrain].index.tolist()\n",
    "\n",
    "    email_test = email_temp[test_period[0] <= email_temp.timestamp]\n",
    "    email_test = email_test.groupby(['from', 'to']).count()\n",
    "    test_core = email_test[email_test.timestamp >= ktest].index.tolist()\n",
    "    \n",
    "    core = list(set(train_core + test_core))\n",
    "\n",
    "    ### BEGIN SOLUTION\n",
    "    email_first = email_temp.loc[core].groupby(['from', 'to']).min()\n",
    "\n",
    "    train_edges = email_first[email_first.timestamp < train_period[1]].index.tolist()\n",
    "    _test_edges = email_first[test_period[0] <= email_first.timestamp].index.tolist()\n",
    "    \n",
    "    train_nodes = set()\n",
    "    for (u, v) in train_edges:\n",
    "        train_nodes.add(u)\n",
    "        train_nodes.add(v)\n",
    "    test_edges = []\n",
    "    for (u, v) in _test_edges:\n",
    "        if u in train_nodes and v in train_nodes:\n",
    "            test_edges.append((u, v))\n",
    "    \n",
    "    return train_edges, test_edges\n",
    "    ### END SOLUTION"
   ]
  },
  {
   "cell_type": "code",
   "execution_count": 37,
   "id": "1adeb5e8",
   "metadata": {
    "execution": {
     "iopub.execute_input": "2024-07-26T11:51:48.212352Z",
     "iopub.status.busy": "2024-07-26T11:51:48.212302Z",
     "iopub.status.idle": "2024-07-26T11:51:48.227677Z",
     "shell.execute_reply": "2024-07-26T11:51:48.227440Z"
    },
    "id": "xtl9IT4V3K-B",
    "nbgrader": {
     "checksum": "986741c4dd56205f3c9f200d31ede426",
     "grade": true,
     "grade_id": "cell-a77f2fa764e87595",
     "locked": true,
     "points": 0.0,
     "schema_version": 3,
     "solution": false,
     "task": false
    },
    "ExecuteTime": {
     "end_time": "2024-07-26T13:55:33.672419Z",
     "start_time": "2024-07-26T13:55:33.483052Z"
    }
   },
   "outputs": [],
   "source": [
    "train_pos, test_pos = train_test_edges(email_df, (1e7, 2e7), (2e7, 2.5e7), 4, 2)\n",
    "_train_pos, _test_pos = np.array(train_pos), np.array(test_pos)\n",
    "assert np.all(_train_pos[:, 0] < _train_pos[:, 1])\n",
    "assert np.all(_test_pos[:, 0] < _test_pos[:, 1])\n",
    "assert len(set(train_pos).intersection(test_pos)) == 0\n",
    "assert _train_pos.shape == (3880, 2)\n",
    "assert _test_pos.shape == (720, 2)"
   ]
  },
  {
   "cell_type": "markdown",
   "id": "87538857",
   "metadata": {},
   "source": [
    "#### 2.2. Negative sampling"
   ]
  },
  {
   "cell_type": "markdown",
   "id": "3725bcc3",
   "metadata": {
    "id": "ycOjaWsk3K-D"
   },
   "source": [
    "Usually, graphs are sparse, so there is the high imbalance between existent (positive) edges and nonexistent (negative) edges. Since the link prediction can be considered as a classification problem, the imbalance leads to the high misclassification. To eliminate this problem, we can use the negative sampling techniques, that is using only a some random part of negative edges in training.\n",
    "\n",
    "<img src='https://raw.githubusercontent.com/netspractice/network-science/main/images/pos_neg_edges.png' width=500>\n",
    "\n",
    "The simplest sampling strategy is to copy positive edges and randomly replace one node checking they do not occur in positive set and they are not self-loops. Let the negative set be the same size as the positive.\n",
    "\n",
    "The `negative_sampling` function samples the unexisted edges from the graph. It takes list of train and test positive edges and returns train and test negative edges."
   ]
  },
  {
   "cell_type": "code",
   "execution_count": 38,
   "id": "beacad17",
   "metadata": {
    "execution": {
     "iopub.execute_input": "2024-07-26T11:51:48.229368Z",
     "iopub.status.busy": "2024-07-26T11:51:48.229297Z",
     "iopub.status.idle": "2024-07-26T11:51:48.231550Z",
     "shell.execute_reply": "2024-07-26T11:51:48.231335Z"
    },
    "id": "I85ekK3u3K-D",
    "nbgrader": {
     "checksum": "909994f38bc19f1e40c34bd32036ba50",
     "grade": false,
     "grade_id": "cell-2086061e022dc394",
     "locked": false,
     "schema_version": 3,
     "solution": true,
     "task": false
    },
    "ExecuteTime": {
     "end_time": "2024-07-26T13:55:43.120190Z",
     "start_time": "2024-07-26T13:55:43.085229Z"
    }
   },
   "outputs": [],
   "source": [
    "def negative_sampling(train_pos, test_pos):\n",
    "    ### BEGIN SOLUTION\n",
    "    pos_edges = train_pos + test_pos\n",
    "    nodes = np.unique(pos_edges)\n",
    "    neg_edges = []\n",
    "    for u, v in tqdm(pos_edges):\n",
    "        while True:\n",
    "            neg_v = np.random.choice(nodes)\n",
    "            if (u == neg_v) or ((u, neg_v) in pos_edges) or ((neg_v, u) in pos_edges):\n",
    "                continue\n",
    "            neg_edges.append((u, neg_v))\n",
    "            break\n",
    "    return neg_edges[:len(train_pos)], neg_edges[len(train_pos):]\n",
    "    ### END SOLUTION"
   ]
  },
  {
   "cell_type": "code",
   "execution_count": 39,
   "id": "cfce75a7",
   "metadata": {
    "colab": {
     "base_uri": "https://localhost:8080/",
     "height": 49,
     "referenced_widgets": [
      "0cced4d871564e8db7b8295a73a28d68",
      "17fa61f4ff0b46b9be276e408fa28e9d",
      "94f4745ef9ae489998f6103e00dfa3db",
      "cab500e00ae944bd8ac04fd54e8ad4e6",
      "b1ada846cad14d35994d6a84526a69c8",
      "832905f0361140a6b0b4b5612ad09085",
      "d906d704ee104f6a9cda9e0642cfa5fb",
      "1ea52339ba184d8f815849c5ee73c422",
      "e0a642b90ada43cf876d20d116cbbadd",
      "2d1d425d033e46d08f5e8f2d00b72145",
      "3bb0d394d5f64dffab946bb87f0aeaa3"
     ]
    },
    "execution": {
     "iopub.execute_input": "2024-07-26T11:51:48.232880Z",
     "iopub.status.busy": "2024-07-26T11:51:48.232816Z",
     "iopub.status.idle": "2024-07-26T11:51:48.299816Z",
     "shell.execute_reply": "2024-07-26T11:51:48.299490Z"
    },
    "id": "ZHEKYONa3K-E",
    "nbgrader": {
     "checksum": "51cc869994fb89807dc2842e2970853c",
     "grade": true,
     "grade_id": "cell-e71e5d52cb2cae88",
     "locked": true,
     "points": 0.0,
     "schema_version": 3,
     "solution": false,
     "task": false
    },
    "outputId": "dad996e9-486b-40f6-cd7d-7ee11ba692e1",
    "ExecuteTime": {
     "end_time": "2024-07-26T13:55:45.581548Z",
     "start_time": "2024-07-26T13:55:44.632723Z"
    }
   },
   "outputs": [
    {
     "data": {
      "text/plain": "  0%|          | 0/4600 [00:00<?, ?it/s]",
      "application/vnd.jupyter.widget-view+json": {
       "version_major": 2,
       "version_minor": 0,
       "model_id": "b63b1ef5bf424767ab7a9b99b71ab04b"
      }
     },
     "metadata": {},
     "output_type": "display_data"
    }
   ],
   "source": [
    "train_neg, test_neg = negative_sampling(train_pos, test_pos)\n",
    "neg_edges = train_neg + test_neg\n",
    "pos_edges = train_pos + test_pos\n",
    "assert len(train_neg) == len(train_pos)\n",
    "assert len(test_neg) == len(test_neg)\n",
    "# negative edges has nodes from only positive edges\n",
    "assert len(set(np.unique(neg_edges)).difference(np.unique(pos_edges))) == 0\n",
    "# source nodes are the same\n",
    "assert np.all(np.array(pos_edges)[:, 0] == np.array(neg_edges)[:, 0])\n",
    "# no edges in both\n",
    "assert len(set(pos_edges) & set(neg_edges)) == 0\n",
    "# reversed negative edges are not positive\n",
    "reversed_neg_edges = [(v, u) for u, v in neg_edges]\n",
    "assert len(set(pos_edges) & set(reversed_neg_edges)) == 0"
   ]
  },
  {
   "cell_type": "markdown",
   "id": "1c56d874",
   "metadata": {
    "id": "fUZJSmH43K-E"
   },
   "source": [
    "Form train and test pairs of nodes that contain positive and negative edges:\n",
    "* $X_\\text{train}, X_\\text{test}$ — pairs of nodes, contains positive and negative edges\n",
    "* $y_\\text{train}, y_\\text{test}$ — labels of pairs, 1 is positive, 0 is negative"
   ]
  },
  {
   "cell_type": "code",
   "execution_count": 40,
   "id": "b8873584",
   "metadata": {
    "colab": {
     "base_uri": "https://localhost:8080/"
    },
    "execution": {
     "iopub.execute_input": "2024-07-26T11:51:48.301466Z",
     "iopub.status.busy": "2024-07-26T11:51:48.301380Z",
     "iopub.status.idle": "2024-07-26T11:51:48.304202Z",
     "shell.execute_reply": "2024-07-26T11:51:48.303968Z"
    },
    "id": "TeUE20TO3K-F",
    "outputId": "6fc5c485-c73f-45db-d173-f9d29bfd1a94",
    "ExecuteTime": {
     "end_time": "2024-07-26T13:55:47.533604Z",
     "start_time": "2024-07-26T13:55:46.842456Z"
    }
   },
   "outputs": [
    {
     "data": {
      "text/plain": "[0, 1, 0, 1, 0, 0, 1, 1, 0, 1]"
     },
     "execution_count": 40,
     "metadata": {},
     "output_type": "execute_result"
    }
   ],
   "source": [
    "x_train = np.random.permutation(train_pos + train_neg)\n",
    "y_train = [int((u, v) in train_pos) for (u, v) in x_train]\n",
    "\n",
    "x_test = np.random.permutation(test_pos + test_neg)\n",
    "y_test = [int((u, v) in test_pos) for (u, v) in x_test]\n",
    "y_test[:10]"
   ]
  },
  {
   "cell_type": "markdown",
   "id": "8f20bd35",
   "metadata": {},
   "source": [
    "#### 2.3. Prediction by similarity score (Optional)"
   ]
  },
  {
   "cell_type": "markdown",
   "id": "10d51e91",
   "metadata": {
    "id": "khMqP2le3K-F"
   },
   "source": [
    "Similarity based algorithm predicts the existence of a link using the similarity score of a pair of nodes: $P(A_{i, j}) \\propto \\text{sim}(i, j)$. The algorithm builds a graph using only train positive edges, compute similarity score for all test pairs and then predicts the link existence by the threshold on ordered by similarity score pairs.\n",
    "\n",
    "Write a function `sim_link_prediction` that takes edges and labels. The function predicts links and returns a tuple with metrics: \n",
    "* FPR (false positive rate) and TPR (true positive rate) in descending of thresholds obtained by Jaccard coefficient, `nx.jaccard_coefficient`: $$\\text{sim}(i, j) = \\frac{|N(i) \\cap N(j)|}{|N(i) \\cup N(j)|}$$\n",
    "* FPR, TPR by Adamic-Adar index, `nx.adamic_adar_index`: $$\\text{sim}(i, j) = \\sum_{x \\in N(i) \\cap N(j)} \\frac{1}{\\log|N(x)|}$$\n",
    "* FPR, TPR by resource allocation index, `nx.resource_allocation_index`: $$\\text{sim}(i, j) = \\sum_{x \\in N(i) \\cap N(j)} \\frac{1}{|N(x)|}$$\n",
    "\n",
    "_Hint: use `sklearn.metrics.roc_curve`._"
   ]
  },
  {
   "cell_type": "code",
   "execution_count": 41,
   "id": "de96ab8f",
   "metadata": {
    "execution": {
     "iopub.execute_input": "2024-07-26T11:51:48.305577Z",
     "iopub.status.busy": "2024-07-26T11:51:48.305505Z",
     "iopub.status.idle": "2024-07-26T11:51:48.307600Z",
     "shell.execute_reply": "2024-07-26T11:51:48.307389Z"
    },
    "id": "mMc429-f3K-G",
    "nbgrader": {
     "checksum": "32af6091446052edf14c97545c0e6da2",
     "grade": false,
     "grade_id": "cell-4125af6f7f2c4f56",
     "locked": false,
     "schema_version": 3,
     "solution": true,
     "task": false
    },
    "ExecuteTime": {
     "end_time": "2024-07-26T13:55:50.061972Z",
     "start_time": "2024-07-26T13:55:50.036405Z"
    }
   },
   "outputs": [],
   "source": [
    "def sim_link_prediction(train_pos, x_test, y_test):\n",
    "    ### BEGIN SOLUTION\n",
    "    G = nx.Graph()\n",
    "    G.add_edges_from(train_pos)\n",
    "    res = []\n",
    "    similarities = [\n",
    "        nx.jaccard_coefficient, \n",
    "        nx.adamic_adar_index, \n",
    "        nx.resource_allocation_index]\n",
    "    for sim in similarities:\n",
    "        y_score = [p for u, v, p in sim(G, x_test)]\n",
    "        fpr, tpr, _ = roc_curve(y_test, y_score)\n",
    "        res.append((fpr, tpr))\n",
    "    return res\n",
    "    ### END SOLUTION"
   ]
  },
  {
   "cell_type": "code",
   "execution_count": 42,
   "id": "52e4e489",
   "metadata": {
    "execution": {
     "iopub.execute_input": "2024-07-26T11:51:48.308755Z",
     "iopub.status.busy": "2024-07-26T11:51:48.308694Z",
     "iopub.status.idle": "2024-07-26T11:51:48.361454Z",
     "shell.execute_reply": "2024-07-26T11:51:48.361198Z"
    },
    "id": "Olu-c1D63K-G",
    "nbgrader": {
     "checksum": "4a3967a4ee95707916508fbf44c47d3f",
     "grade": true,
     "grade_id": "cell-ea34274053a92113",
     "locked": true,
     "points": 0.0,
     "schema_version": 3,
     "solution": false,
     "task": false
    },
    "ExecuteTime": {
     "end_time": "2024-07-26T13:55:50.486790Z",
     "start_time": "2024-07-26T13:55:50.453663Z"
    }
   },
   "outputs": [],
   "source": [
    "jac, adam, res = sim_link_prediction(\n",
    "    train_pos, \n",
    "    [[53, 500], [500, 843], [509, 969], [40, 91], [147, 28], [91, 535], [890, 15]],\n",
    "    [1, 0, 1, 0, 0, 1, 0],\n",
    ")\n",
    "assert jac[0].shape == jac[1].shape\n",
    "assert adam[0].shape == adam[1].shape\n",
    "assert res[0].shape == res[1].shape\n",
    "assert round(auc(jac[0], jac[1]), 4) == 0.5\n",
    "assert round(auc(adam[0], adam[1]), 4) == 0.4167\n",
    "assert round(auc(res[0], res[1]), 4) == 0.4167"
   ]
  },
  {
   "cell_type": "markdown",
   "id": "1193fcf4",
   "metadata": {
    "id": "I4T2Kwcl3K-G"
   },
   "source": [
    "Let us look at the ROC AUC curve to compare results."
   ]
  },
  {
   "cell_type": "code",
   "execution_count": 43,
   "id": "1cbe30a2",
   "metadata": {
    "colab": {
     "base_uri": "https://localhost:8080/",
     "height": 404
    },
    "execution": {
     "iopub.execute_input": "2024-07-26T11:51:48.363029Z",
     "iopub.status.busy": "2024-07-26T11:51:48.362962Z",
     "iopub.status.idle": "2024-07-26T11:51:48.452390Z",
     "shell.execute_reply": "2024-07-26T11:51:48.452125Z"
    },
    "id": "PYjpeOSV3K-H",
    "outputId": "8392ab61-5274-4868-d0b5-561d0b930cf2",
    "ExecuteTime": {
     "end_time": "2024-07-26T13:55:51.351797Z",
     "start_time": "2024-07-26T13:55:51.185372Z"
    }
   },
   "outputs": [
    {
     "data": {
      "text/plain": "<Figure size 1000x600 with 1 Axes>",
      "image/png": "[encoded data removed]"
     },
     "metadata": {},
     "output_type": "display_data"
    }
   ],
   "source": [
    "jac, adam, res = sim_link_prediction(train_pos, x_test, y_test)\n",
    "plt.figure(figsize=(10, 6))\n",
    "cases = [[jac[0], jac[1], 'Jaccard'], \n",
    "         [adam[0], adam[1], 'Adamic-Adar'], \n",
    "         [res[0], res[1], 'Resource alloc.']]\n",
    "for fpr, tpr, label in cases:\n",
    "    plt.plot(fpr, tpr, lw=2, \n",
    "             label='{}, AUC={:.4f}'.format(label, auc(fpr, tpr)))\n",
    "plt.plot([0, 1], [0, 1], lw=2, linestyle='--')\n",
    "plt.xlabel('FPR')\n",
    "plt.ylabel('TPR')\n",
    "plt.title('ROC AUC')\n",
    "plt.legend()\n",
    "plt.show()"
   ]
  },
  {
   "cell_type": "markdown",
   "id": "ba469082",
   "metadata": {},
   "source": [
    "#### 2.4. Classification on edge emdeddings"
   ]
  },
  {
   "cell_type": "markdown",
   "id": "5ec773cd",
   "metadata": {
    "id": "EpflXtvt3K-J"
   },
   "source": [
    "Edge emeddings can be used for edge classification by any supervised algorithm (e.g. logistic regression). We can compute edge embeddings using embeddings of adjacent nodes. Let us compare several techniques of a such calculation from the paper: *Makarov I, Gerasimova O, Sulimov P, Zhukov LE. 2019. Dual network embedding for representing research interests in the link prediction problem on co-authorship networks*. Let us use SVD node embeddings for calculating edge embeddings."
   ]
  },
  {
   "cell_type": "code",
   "execution_count": 44,
   "id": "81e0f0f5",
   "metadata": {
    "colab": {
     "base_uri": "https://localhost:8080/"
    },
    "execution": {
     "iopub.execute_input": "2024-07-26T11:51:48.453981Z",
     "iopub.status.busy": "2024-07-26T11:51:48.453906Z",
     "iopub.status.idle": "2024-07-26T11:51:48.486728Z",
     "shell.execute_reply": "2024-07-26T11:51:48.486493Z"
    },
    "id": "g_GS4A6L3K-J",
    "outputId": "477b62d9-fe30-4601-d3cd-5b714d4a372b",
    "ExecuteTime": {
     "end_time": "2024-07-26T13:55:54.283660Z",
     "start_time": "2024-07-26T13:55:52.394047Z"
    }
   },
   "outputs": [
    {
     "data": {
      "text/plain": "array([[ 0.77, -0.75, -0.46,  1.53],\n       [ 0.04, -0.01, -0.04, -0.03],\n       [ 1.83,  0.95,  0.24,  0.33],\n       ...,\n       [ 0.01, -0.  , -0.01, -0.01],\n       [ 0.14, -0.05, -0.12, -0.06],\n       [ 0.35, -0.3 , -0.37,  0.85]])"
     },
     "execution_count": 44,
     "metadata": {},
     "output_type": "execute_result"
    }
   ],
   "source": [
    "G = nx.Graph()\n",
    "G.add_nodes_from(range(np.max(train_pos) + 1))\n",
    "G.add_edges_from(train_pos)\n",
    "A = nx.to_numpy_array(G)\n",
    "model = TruncatedSVD(n_components=4, random_state=0)\n",
    "emb = model.fit_transform(A)\n",
    "emb.round(2)"
   ]
  },
  {
   "cell_type": "markdown",
   "id": "abcdea69",
   "metadata": {
    "id": "eftkuSkg3K-K"
   },
   "source": [
    "All following functions return edge embeddings for given graph, node embeddings, edges. Average operator is the elementwise average of node embeddings. \n",
    "$$\n",
    "\\frac{f(u)+f(v)}{2}\n",
    "$$\n",
    "where $f(u)$, $f(v)$ are node embeddings of nodes $u$ and $v$."
   ]
  },
  {
   "cell_type": "code",
   "execution_count": 59,
   "id": "82b44f52",
   "metadata": {
    "execution": {
     "iopub.execute_input": "2024-07-26T11:51:48.488124Z",
     "iopub.status.busy": "2024-07-26T11:51:48.488070Z",
     "iopub.status.idle": "2024-07-26T11:51:48.489788Z",
     "shell.execute_reply": "2024-07-26T11:51:48.489586Z"
    },
    "id": "NRWbyl-t3K-K",
    "nbgrader": {
     "checksum": "58f462d94128ad39168d5c1651115bbc",
     "grade": false,
     "grade_id": "cell-26173c0c479136b7",
     "locked": false,
     "schema_version": 3,
     "solution": true,
     "task": false
    },
    "ExecuteTime": {
     "end_time": "2024-07-26T13:56:18.162846Z",
     "start_time": "2024-07-26T13:56:18.134708Z"
    }
   },
   "outputs": [],
   "source": [
    "def average_operator(G, embeddings, edges):\n",
    "    ### BEGIN SOLUTION\n",
    "    return (embeddings[edges[:, 0]] + embeddings[edges[:, 1]]) / 2\n",
    "    ### END SOLUTION"
   ]
  },
  {
   "cell_type": "code",
   "execution_count": 60,
   "id": "634d7047",
   "metadata": {
    "execution": {
     "iopub.execute_input": "2024-07-26T11:51:48.491244Z",
     "iopub.status.busy": "2024-07-26T11:51:48.491181Z",
     "iopub.status.idle": "2024-07-26T11:51:48.503467Z",
     "shell.execute_reply": "2024-07-26T11:51:48.503214Z"
    },
    "id": "rxNYOmnM3K-K",
    "nbgrader": {
     "checksum": "a02f6396222ae547075b2a3396ce3da3",
     "grade": true,
     "grade_id": "cell-eaefe9963be3c2d0",
     "locked": true,
     "points": 0.0,
     "schema_version": 3,
     "solution": false,
     "task": false
    },
    "ExecuteTime": {
     "end_time": "2024-07-26T13:56:18.401767Z",
     "start_time": "2024-07-26T13:56:18.351240Z"
    }
   },
   "outputs": [],
   "source": [
    "assert np.allclose(\n",
    "    average_operator(G, emb, np.array([[42,70]])).round(1),\n",
    "    [[ 0.6, -0.2, -0.3, -0.2]]\n",
    ")"
   ]
  },
  {
   "cell_type": "markdown",
   "id": "35477186",
   "metadata": {
    "id": "DMJ11_b83K-K"
   },
   "source": [
    "Hadamard product is the elementwise product of node embeddings $$f(u) \\odot f(v)$$"
   ]
  },
  {
   "cell_type": "code",
   "execution_count": 61,
   "id": "0115b93b",
   "metadata": {
    "execution": {
     "iopub.execute_input": "2024-07-26T11:51:48.504905Z",
     "iopub.status.busy": "2024-07-26T11:51:48.504856Z",
     "iopub.status.idle": "2024-07-26T11:51:48.506663Z",
     "shell.execute_reply": "2024-07-26T11:51:48.506453Z"
    },
    "id": "wIXD6FBw3K-L",
    "nbgrader": {
     "checksum": "dca0930cdead56210ac1d3ed38a1da2d",
     "grade": false,
     "grade_id": "cell-f662abe3d0579575",
     "locked": false,
     "schema_version": 3,
     "solution": true,
     "task": false
    },
    "ExecuteTime": {
     "end_time": "2024-07-26T13:56:19.032993Z",
     "start_time": "2024-07-26T13:56:19.009374Z"
    }
   },
   "outputs": [],
   "source": [
    "def hadamard_operator(G, embeddings, edges):\n",
    "    ### BEGIN SOLUTION\n",
    "    return (embeddings[edges[:, 0]] * embeddings[edges[:, 1]])\n",
    "    ### END SOLUTION"
   ]
  },
  {
   "cell_type": "code",
   "execution_count": 62,
   "id": "94347b1f",
   "metadata": {
    "execution": {
     "iopub.execute_input": "2024-07-26T11:51:48.507940Z",
     "iopub.status.busy": "2024-07-26T11:51:48.507892Z",
     "iopub.status.idle": "2024-07-26T11:51:48.520279Z",
     "shell.execute_reply": "2024-07-26T11:51:48.520039Z"
    },
    "id": "eeW9uqZ03K-L",
    "nbgrader": {
     "checksum": "69ebc0ff8925d40912c143afff63ed15",
     "grade": true,
     "grade_id": "cell-db04660af550adc7",
     "locked": true,
     "points": 0.0,
     "schema_version": 3,
     "solution": false,
     "task": false
    },
    "ExecuteTime": {
     "end_time": "2024-07-26T13:56:19.575997Z",
     "start_time": "2024-07-26T13:56:19.532644Z"
    }
   },
   "outputs": [],
   "source": [
    "assert np.allclose(\n",
    "    hadamard_operator(G, emb, np.array([[42,70]])).round(2),\n",
    "    [[0.21, 0.02, 0.09, 0.02]]\n",
    ")"
   ]
  },
  {
   "cell_type": "markdown",
   "id": "b197e55c",
   "metadata": {
    "id": "CXouLM733K-L"
   },
   "source": [
    "Weighted L1 is the absolute elementwise difference between node embeddings $$\n",
    "\\left|f(u)-f(v)\\right|\n",
    "$$"
   ]
  },
  {
   "cell_type": "code",
   "execution_count": 63,
   "id": "565fefa8",
   "metadata": {
    "execution": {
     "iopub.execute_input": "2024-07-26T11:51:48.521662Z",
     "iopub.status.busy": "2024-07-26T11:51:48.521614Z",
     "iopub.status.idle": "2024-07-26T11:51:48.523421Z",
     "shell.execute_reply": "2024-07-26T11:51:48.523180Z"
    },
    "id": "yvyRYGfg3K-L",
    "nbgrader": {
     "checksum": "d6257c4c2eb4680600acc5867ddba862",
     "grade": false,
     "grade_id": "cell-5e44fbdf6a64715d",
     "locked": false,
     "schema_version": 3,
     "solution": true,
     "task": false
    },
    "ExecuteTime": {
     "end_time": "2024-07-26T13:56:20.455521Z",
     "start_time": "2024-07-26T13:56:20.429294Z"
    }
   },
   "outputs": [],
   "source": [
    "def weighted_l1_operator(G, embeddings, edges):\n",
    "    ### BEGIN SOLUTION\n",
    "    return np.abs(embeddings[edges[:, 0]] - embeddings[edges[:, 1]])\n",
    "    ### END SOLUTION"
   ]
  },
  {
   "cell_type": "code",
   "execution_count": 64,
   "id": "e31bf99f",
   "metadata": {
    "execution": {
     "iopub.execute_input": "2024-07-26T11:51:48.524708Z",
     "iopub.status.busy": "2024-07-26T11:51:48.524657Z",
     "iopub.status.idle": "2024-07-26T11:51:48.537281Z",
     "shell.execute_reply": "2024-07-26T11:51:48.537068Z"
    },
    "id": "7EmL5V-v3K-M",
    "nbgrader": {
     "checksum": "d10ebd2296f827e69b1eec0598b5ca5f",
     "grade": true,
     "grade_id": "cell-f2c7878af729fcb5",
     "locked": true,
     "points": 0.0,
     "schema_version": 3,
     "solution": false,
     "task": false
    },
    "ExecuteTime": {
     "end_time": "2024-07-26T13:56:21.126806Z",
     "start_time": "2024-07-26T13:56:21.081804Z"
    }
   },
   "outputs": [],
   "source": [
    "assert np.allclose(\n",
    "    weighted_l1_operator(G, emb, np.array([[42,70]])).round(2),\n",
    "    [[0.88, 0.12, 0.28, 0.17]]\n",
    ")"
   ]
  },
  {
   "cell_type": "markdown",
   "id": "b2091216",
   "metadata": {
    "id": "XqHW52fK3K-M"
   },
   "source": [
    "Weighted L2 is the squared elementwise difference between node embeddings $$\n",
    "\\left(f(u)-f(v)\\right)^{2}\n",
    "$$"
   ]
  },
  {
   "cell_type": "code",
   "execution_count": 65,
   "id": "b4166651",
   "metadata": {
    "execution": {
     "iopub.execute_input": "2024-07-26T11:51:48.538630Z",
     "iopub.status.busy": "2024-07-26T11:51:48.538581Z",
     "iopub.status.idle": "2024-07-26T11:51:48.540280Z",
     "shell.execute_reply": "2024-07-26T11:51:48.540077Z"
    },
    "id": "KAnCPzPt3K-M",
    "nbgrader": {
     "checksum": "c81ca1cb9941e2216cb755dcb6b1d6df",
     "grade": false,
     "grade_id": "cell-0f7f5b3663337374",
     "locked": false,
     "schema_version": 3,
     "solution": true,
     "task": false
    },
    "ExecuteTime": {
     "end_time": "2024-07-26T13:56:22.232259Z",
     "start_time": "2024-07-26T13:56:22.209518Z"
    }
   },
   "outputs": [],
   "source": [
    "def weighted_l2_operator(G, embeddings, edges):\n",
    "    ### BEGIN SOLUTION\n",
    "    return (embeddings[edges[:, 0]] - embeddings[edges[:, 1]]) ** 2\n",
    "    ### END SOLUTION"
   ]
  },
  {
   "cell_type": "code",
   "execution_count": 66,
   "id": "0b2126ce",
   "metadata": {
    "execution": {
     "iopub.execute_input": "2024-07-26T11:51:48.541547Z",
     "iopub.status.busy": "2024-07-26T11:51:48.541500Z",
     "iopub.status.idle": "2024-07-26T11:51:48.553495Z",
     "shell.execute_reply": "2024-07-26T11:51:48.553251Z"
    },
    "id": "xp9w2Arx3K-M",
    "nbgrader": {
     "checksum": "28a2376c73a114b68bcb1767f4a94f6a",
     "grade": true,
     "grade_id": "cell-957e1faea3e9127d",
     "locked": true,
     "points": 0.0,
     "schema_version": 3,
     "solution": false,
     "task": false
    },
    "ExecuteTime": {
     "end_time": "2024-07-26T13:56:22.689498Z",
     "start_time": "2024-07-26T13:56:22.638132Z"
    }
   },
   "outputs": [],
   "source": [
    "assert np.allclose(\n",
    "    weighted_l2_operator(G, emb, np.array([[42,70]])).round(2),\n",
    "    [[0.77, 0.01, 0.08, 0.03]]\n",
    ")"
   ]
  },
  {
   "cell_type": "markdown",
   "id": "80923fca",
   "metadata": {
    "id": "5lo3bJTu3K-N"
   },
   "source": [
    "Neighbor weighted L1 is the absolute elementwise difference between mean embeddings of nodes neigbors $$\n",
    "\\left|\\frac{\\sum_{w \\in N(u) \\cup\\{u\\}} f(w)}{|N(u)|+1}-\\frac{\\sum_{t \\in N(v) \\cup\\{v\\}} f(t)}{|N(v)|+1}\\right|\n",
    "$$"
   ]
  },
  {
   "cell_type": "code",
   "execution_count": 67,
   "id": "52895520",
   "metadata": {
    "execution": {
     "iopub.execute_input": "2024-07-26T11:51:48.554891Z",
     "iopub.status.busy": "2024-07-26T11:51:48.554845Z",
     "iopub.status.idle": "2024-07-26T11:51:48.557083Z",
     "shell.execute_reply": "2024-07-26T11:51:48.556867Z"
    },
    "id": "8FNs6X_d3K-N",
    "nbgrader": {
     "checksum": "91862e3967ecf48894e45a0adf8af354",
     "grade": false,
     "grade_id": "cell-9663ec4df9dbb751",
     "locked": false,
     "schema_version": 3,
     "solution": true,
     "task": false
    },
    "ExecuteTime": {
     "end_time": "2024-07-26T13:56:24.220777Z",
     "start_time": "2024-07-26T13:56:24.198497Z"
    }
   },
   "outputs": [],
   "source": [
    "def neighbor_weighted_l1_operator(G, embeddings, edges):\n",
    "    ### BEGIN SOLUTION\n",
    "    emb = []\n",
    "    for i, j in edges:\n",
    "        ni = list(G.neighbors(i)) + [i]\n",
    "        nj = list(G.neighbors(j)) + [j]\n",
    "        emb.append(np.abs(embeddings[ni].sum(axis=0) / len(ni) - embeddings[nj].sum(axis=0) / len(nj)))\n",
    "    return np.array(emb)\n",
    "    ### END SOLUTION"
   ]
  },
  {
   "cell_type": "code",
   "execution_count": 68,
   "id": "09acf6cc",
   "metadata": {
    "execution": {
     "iopub.execute_input": "2024-07-26T11:51:48.558365Z",
     "iopub.status.busy": "2024-07-26T11:51:48.558296Z",
     "iopub.status.idle": "2024-07-26T11:51:48.577817Z",
     "shell.execute_reply": "2024-07-26T11:51:48.577574Z"
    },
    "id": "_DITuFV73K-N",
    "nbgrader": {
     "checksum": "98dfb9720fed0b13091b73c1ca12e79c",
     "grade": true,
     "grade_id": "cell-fe7f124fa265373c",
     "locked": true,
     "points": 0.0,
     "schema_version": 3,
     "solution": false,
     "task": false
    },
    "ExecuteTime": {
     "end_time": "2024-07-26T13:56:25.705153Z",
     "start_time": "2024-07-26T13:56:25.659424Z"
    }
   },
   "outputs": [],
   "source": [
    "assert np.allclose(\n",
    "    neighbor_weighted_l1_operator(G, emb, np.array([[42,70]])).round(2),\n",
    "    [[1.89, 0.14, 0.3 , 0.18]]\n",
    ")"
   ]
  },
  {
   "cell_type": "markdown",
   "id": "af470fcb",
   "metadata": {
    "id": "mjrYTU7S3K-N"
   },
   "source": [
    "Neighbor weighted L2 is the squared elementwise difference between mean embeddings of nodes neigbors\n",
    "$$\n",
    "\\left(\\frac{\\sum_{w \\in N(u) \\cup\\{u\\}} f(w)}{|N(u)|+1}-\\frac{\\sum_{t \\in N(v) \\cup\\{v\\}} f(t)}{|N(v)|+1}\\right)^{2}\n",
    "$$"
   ]
  },
  {
   "cell_type": "code",
   "execution_count": 69,
   "id": "54ef05a6",
   "metadata": {
    "execution": {
     "iopub.execute_input": "2024-07-26T11:51:48.579470Z",
     "iopub.status.busy": "2024-07-26T11:51:48.579399Z",
     "iopub.status.idle": "2024-07-26T11:51:48.581547Z",
     "shell.execute_reply": "2024-07-26T11:51:48.581341Z"
    },
    "id": "fjoXpQPm3K-O",
    "nbgrader": {
     "checksum": "6fe87475999a79b39066260f060f80ca",
     "grade": false,
     "grade_id": "cell-cb55782d381636cd",
     "locked": false,
     "schema_version": 3,
     "solution": true,
     "task": false
    },
    "ExecuteTime": {
     "end_time": "2024-07-26T13:56:36.801063Z",
     "start_time": "2024-07-26T13:56:36.771956Z"
    }
   },
   "outputs": [],
   "source": [
    "def neighbor_weighted_l2_operator(G, embeddings, edges):\n",
    "    ### BEGIN SOLUTION\n",
    "    emb = []\n",
    "    for i, j in edges:\n",
    "        ni = list(G.neighbors(i)) + [i]\n",
    "        nj = list(G.neighbors(j)) + [j]\n",
    "        emb.append((embeddings[ni].sum(axis=0) / len(ni) - embeddings[nj].sum(axis=0) / len(nj)) ** 2)\n",
    "    return np.array(emb)\n",
    "    ### END SOLUTION"
   ]
  },
  {
   "cell_type": "code",
   "execution_count": 70,
   "id": "f9ae4612",
   "metadata": {
    "execution": {
     "iopub.execute_input": "2024-07-26T11:51:48.582776Z",
     "iopub.status.busy": "2024-07-26T11:51:48.582714Z",
     "iopub.status.idle": "2024-07-26T11:51:48.601602Z",
     "shell.execute_reply": "2024-07-26T11:51:48.601371Z"
    },
    "id": "ZjodsRuH3K-O",
    "nbgrader": {
     "checksum": "3822139fe62836fe8d6cdf6446400c59",
     "grade": true,
     "grade_id": "cell-b3ea740a7d8e7422",
     "locked": true,
     "points": 0.0,
     "schema_version": 3,
     "solution": false,
     "task": false
    },
    "ExecuteTime": {
     "end_time": "2024-07-26T13:56:47.206466Z",
     "start_time": "2024-07-26T13:56:47.181910Z"
    }
   },
   "outputs": [],
   "source": [
    "assert np.allclose(\n",
    "    neighbor_weighted_l2_operator(G, emb, np.array([[42,70]])).round(2),\n",
    "    [[3.58, 0.02, 0.09, 0.03]]\n",
    ")"
   ]
  },
  {
   "cell_type": "markdown",
   "id": "65608fe5",
   "metadata": {
    "id": "brYnvdtAP5ww"
   },
   "source": [
    "Now let us look at the ROC AUC for different operators on 16d SVD nome embeddings."
   ]
  },
  {
   "cell_type": "code",
   "execution_count": 71,
   "id": "3cac8bea",
   "metadata": {
    "execution": {
     "iopub.execute_input": "2024-07-26T11:51:48.603072Z",
     "iopub.status.busy": "2024-07-26T11:51:48.603025Z",
     "iopub.status.idle": "2024-07-26T11:51:48.619709Z",
     "shell.execute_reply": "2024-07-26T11:51:48.619515Z"
    },
    "id": "ilk6IipN3K-O",
    "nbgrader": {
     "checksum": "73e522bc667fbf2a7c0b7b670f16a3f5",
     "grade": true,
     "grade_id": "cell-a5776c997347476f",
     "locked": true,
     "points": 0.0,
     "schema_version": 3,
     "solution": false,
     "task": false
    },
    "ExecuteTime": {
     "end_time": "2024-07-26T13:57:03.623718Z",
     "start_time": "2024-07-26T13:56:58.806127Z"
    }
   },
   "outputs": [],
   "source": [
    "model = TruncatedSVD(n_components=16, random_state=0)\n",
    "emb = model.fit_transform(A)\n",
    "\n",
    "operators = {\n",
    "    \"Average\": average_operator,\n",
    "    \"Hadamard product\": hadamard_operator,\n",
    "    \"Weighted L1\": weighted_l1_operator,\n",
    "    \"Weighted L2\": weighted_l2_operator,\n",
    "    \"Neighbor weighted L1\": neighbor_weighted_l1_operator,\n",
    "    \"Neighbor weighted L2\": neighbor_weighted_l2_operator\n",
    "}\n",
    "\n",
    "res = dict()\n",
    "for name, operator in operators.items():\n",
    "    lr = LogisticRegression()\n",
    "    train_emb = operator(G, emb, x_train)\n",
    "    lr.fit(train_emb, y_train)\n",
    "    test_emb = operator(G, emb, x_test)\n",
    "    y_pred = lr.predict_proba(test_emb)[:, 1]\n",
    "    fpr, tpr, _ = roc_curve(y_test, y_pred)\n",
    "    res[name] = {\n",
    "        'fpr': fpr,\n",
    "        'tpr': tpr\n",
    "    }\n",
    "\n",
    "assert auc(fpr, tpr) > 0.75"
   ]
  },
  {
   "cell_type": "code",
   "execution_count": 72,
   "id": "34b254cd",
   "metadata": {
    "colab": {
     "base_uri": "https://localhost:8080/",
     "height": 404
    },
    "execution": {
     "iopub.execute_input": "2024-07-26T11:51:48.621335Z",
     "iopub.status.busy": "2024-07-26T11:51:48.621285Z",
     "iopub.status.idle": "2024-07-26T11:51:48.844579Z",
     "shell.execute_reply": "2024-07-26T11:51:48.842764Z"
    },
    "id": "RsYeKdgQ3K-O",
    "outputId": "97f7bfc6-e6d9-4b21-aa85-2eeadef2a71b",
    "ExecuteTime": {
     "end_time": "2024-07-26T13:57:03.838549Z",
     "start_time": "2024-07-26T13:57:03.628305Z"
    }
   },
   "outputs": [
    {
     "data": {
      "text/plain": "<Figure size 1000x600 with 1 Axes>",
      "image/png": "[encoded data removed]"
     },
     "metadata": {},
     "output_type": "display_data"
    }
   ],
   "source": [
    "plt.figure(figsize=(10, 6))\n",
    "for label, v in res.items():\n",
    "    fpr, tpr = v['fpr'], v['tpr']\n",
    "    plt.plot(fpr, tpr, lw=2, \n",
    "             label='{}, AUC={:.4f}'.format(label, auc(fpr, tpr)))\n",
    "plt.plot([0, 1], [0, 1], lw=2, linestyle='--')\n",
    "plt.xlabel('FPR')\n",
    "plt.ylabel('TPR')\n",
    "plt.title('ROC AUC')\n",
    "plt.legend()\n",
    "plt.show()"
   ]
  },
  {
   "cell_type": "markdown",
   "source": [
    "### 3. Graph Neural Networks"
   ],
   "metadata": {
    "collapsed": false
   },
   "id": "1cbb44b3159d16a8"
  },
  {
   "cell_type": "code",
   "execution_count": 39,
   "id": "8217ac0c",
   "metadata": {
    "colab": {
     "base_uri": "https://localhost:8080/"
    },
    "execution": {
     "iopub.execute_input": "2024-07-26T11:51:48.850331Z",
     "iopub.status.busy": "2024-07-26T11:51:48.850212Z",
     "iopub.status.idle": "2024-07-26T11:51:53.633756Z",
     "shell.execute_reply": "2024-07-26T11:51:53.633376Z"
    },
    "id": "pQGhI8qBbVIM",
    "outputId": "29e2a7b9-51d8-4b46-b0bd-d9b28b647162"
   },
   "outputs": [
    {
     "name": "stdout",
     "output_type": "stream",
     "text": [
      "\r\n",
      "\u001B[1m[\u001B[0m\u001B[34;49mnotice\u001B[0m\u001B[1;39;49m]\u001B[0m\u001B[39;49m A new release of pip is available: \u001B[0m\u001B[31;49m23.1.2\u001B[0m\u001B[39;49m -> \u001B[0m\u001B[32;49m24.1.2\u001B[0m\r\n",
      "\u001B[1m[\u001B[0m\u001B[34;49mnotice\u001B[0m\u001B[1;39;49m]\u001B[0m\u001B[39;49m To update, run: \u001B[0m\u001B[32;49mpip install --upgrade pip\u001B[0m\r\n"
     ]
    }
   ],
   "source": [
    "!pip install dgl==1.0.1 dglgo -f https://data.dgl.ai/wheels/repo.html -q  # install DGL"
   ]
  },
  {
   "cell_type": "markdown",
   "source": [
    "#### 3.1. CORA dataset"
   ],
   "metadata": {
    "collapsed": false
   },
   "id": "048196c1"
  },
  {
   "cell_type": "code",
   "execution_count": 73,
   "id": "97f7e59c",
   "metadata": {
    "execution": {
     "iopub.execute_input": "2024-07-26T11:51:53.636005Z",
     "iopub.status.busy": "2024-07-26T11:51:53.635882Z",
     "iopub.status.idle": "2024-07-26T11:51:53.899359Z",
     "shell.execute_reply": "2024-07-26T11:51:53.899087Z"
    },
    "ExecuteTime": {
     "end_time": "2024-07-26T13:58:56.368914Z",
     "start_time": "2024-07-26T13:58:56.264883Z"
    }
   },
   "outputs": [],
   "source": [
    "import dgl\n",
    "from dgl.data import CoraGraphDataset\n",
    "from dgl import function as fn\n",
    "from dgl.nn import SAGEConv"
   ]
  },
  {
   "cell_type": "code",
   "execution_count": 74,
   "id": "b9a52628",
   "metadata": {
    "execution": {
     "iopub.execute_input": "2024-07-26T11:51:53.901070Z",
     "iopub.status.busy": "2024-07-26T11:51:53.900996Z",
     "iopub.status.idle": "2024-07-26T11:51:53.902979Z",
     "shell.execute_reply": "2024-07-26T11:51:53.902714Z"
    },
    "id": "mf6KqavDvSoU",
    "ExecuteTime": {
     "end_time": "2024-07-26T13:58:57.751344Z",
     "start_time": "2024-07-26T13:58:57.706540Z"
    }
   },
   "outputs": [],
   "source": [
    "import warnings\n",
    "warnings.filterwarnings(action='ignore', category=UserWarning)\n",
    "warnings.simplefilter(action='ignore', category=FutureWarning)"
   ]
  },
  {
   "cell_type": "markdown",
   "id": "6f992762",
   "metadata": {},
   "source": [
    "The Cora dataset consists of 2708 scientific publications classified into one of seven classes. The citation network consists of 10556/2 links. Let us take a closer look at this dataset. Each publication in the dataset is described by a 0/1-valued word vector indicating the absence/presence of the corresponding word from the dictionary. The dictionary consists of 1433 unique words."
   ]
  },
  {
   "cell_type": "code",
   "execution_count": 75,
   "id": "3876dd0c",
   "metadata": {
    "colab": {
     "base_uri": "https://localhost:8080/"
    },
    "execution": {
     "iopub.execute_input": "2024-07-26T11:51:53.904423Z",
     "iopub.status.busy": "2024-07-26T11:51:53.904354Z",
     "iopub.status.idle": "2024-07-26T11:51:54.013970Z",
     "shell.execute_reply": "2024-07-26T11:51:54.013741Z"
    },
    "id": "kTetgXDXzjnu",
    "outputId": "05465fea-279c-43f9-9c3a-a03007db031f",
    "ExecuteTime": {
     "end_time": "2024-07-26T13:59:02.973370Z",
     "start_time": "2024-07-26T13:59:02.858847Z"
    }
   },
   "outputs": [
    {
     "name": "stdout",
     "output_type": "stream",
     "text": [
      "Finished data loading and preprocessing.\n",
      "  NumNodes: 2708\n",
      "  NumEdges: 10556\n",
      "  NumFeats: 1433\n",
      "  NumClasses: 7\n",
      "  NumTrainingSamples: 140\n",
      "  NumValidationSamples: 500\n",
      "  NumTestSamples: 1000\n",
      "Done saving data into cached files.\n"
     ]
    }
   ],
   "source": [
    "data = CoraGraphDataset(force_reload=True)"
   ]
  },
  {
   "cell_type": "code",
   "execution_count": 76,
   "id": "60459d90",
   "metadata": {
    "colab": {
     "base_uri": "https://localhost:8080/"
    },
    "execution": {
     "iopub.execute_input": "2024-07-26T11:51:54.015768Z",
     "iopub.status.busy": "2024-07-26T11:51:54.015694Z",
     "iopub.status.idle": "2024-07-26T11:51:54.017742Z",
     "shell.execute_reply": "2024-07-26T11:51:54.017534Z"
    },
    "id": "tBJ_L77O0h0l",
    "outputId": "1f61b270-2b4a-44de-c0ac-a003bb783f66",
    "ExecuteTime": {
     "end_time": "2024-07-26T13:59:04.111311Z",
     "start_time": "2024-07-26T13:59:04.072429Z"
    }
   },
   "outputs": [
    {
     "data": {
      "text/plain": "Graph(num_nodes=2708, num_edges=10556,\n      ndata_schemes={'train_mask': Scheme(shape=(), dtype=torch.bool), 'val_mask': Scheme(shape=(), dtype=torch.bool), 'test_mask': Scheme(shape=(), dtype=torch.bool), 'label': Scheme(shape=(), dtype=torch.int64), 'feat': Scheme(shape=(1433,), dtype=torch.float32)}\n      edata_schemes={})"
     },
     "execution_count": 76,
     "metadata": {},
     "output_type": "execute_result"
    }
   ],
   "source": [
    "graph = data[0]\n",
    "graph"
   ]
  },
  {
   "cell_type": "markdown",
   "id": "8e97b108",
   "metadata": {},
   "source": [
    "Adjacency matrix can be obtained as follows"
   ]
  },
  {
   "cell_type": "code",
   "execution_count": 77,
   "id": "2cc92084",
   "metadata": {
    "colab": {
     "base_uri": "https://localhost:8080/"
    },
    "execution": {
     "iopub.execute_input": "2024-07-26T11:51:54.019065Z",
     "iopub.status.busy": "2024-07-26T11:51:54.018998Z",
     "iopub.status.idle": "2024-07-26T11:51:54.088198Z",
     "shell.execute_reply": "2024-07-26T11:51:54.087972Z"
    },
    "id": "XlByC4PmweNb",
    "outputId": "b12fc24a-32da-4fb5-8fc3-b1e31d2eeef7",
    "ExecuteTime": {
     "end_time": "2024-07-26T13:59:05.554621Z",
     "start_time": "2024-07-26T13:59:05.511369Z"
    }
   },
   "outputs": [
    {
     "data": {
      "text/plain": "tensor([[0., 0., 0.,  ..., 0., 0., 0.],\n        [0., 0., 1.,  ..., 0., 0., 0.],\n        [0., 1., 0.,  ..., 0., 0., 0.],\n        ...,\n        [0., 0., 0.,  ..., 0., 0., 0.],\n        [0., 0., 0.,  ..., 0., 0., 1.],\n        [0., 0., 0.,  ..., 0., 1., 0.]])"
     },
     "execution_count": 77,
     "metadata": {},
     "output_type": "execute_result"
    }
   ],
   "source": [
    "adj = graph.adj().to_dense()\n",
    "adj"
   ]
  },
  {
   "cell_type": "markdown",
   "id": "613d60e2",
   "metadata": {},
   "source": [
    "Feature matrix is stored in node features `feat`."
   ]
  },
  {
   "cell_type": "code",
   "execution_count": 78,
   "id": "ffe904f8",
   "metadata": {
    "colab": {
     "base_uri": "https://localhost:8080/"
    },
    "execution": {
     "iopub.execute_input": "2024-07-26T11:51:54.089588Z",
     "iopub.status.busy": "2024-07-26T11:51:54.089534Z",
     "iopub.status.idle": "2024-07-26T11:51:54.092499Z",
     "shell.execute_reply": "2024-07-26T11:51:54.092283Z"
    },
    "id": "N6tSuSip0_4x",
    "outputId": "8b4d3c3e-9255-433e-b131-44414f988464",
    "ExecuteTime": {
     "end_time": "2024-07-26T13:59:06.552890Z",
     "start_time": "2024-07-26T13:59:06.512454Z"
    }
   },
   "outputs": [
    {
     "name": "stdout",
     "output_type": "stream",
     "text": [
      "torch.Size([2708, 1433])\n"
     ]
    },
    {
     "data": {
      "text/plain": "tensor([[0., 0., 0.,  ..., 0., 0., 0.],\n        [0., 0., 0.,  ..., 0., 0., 0.],\n        [0., 0., 0.,  ..., 0., 0., 0.],\n        ...,\n        [0., 0., 0.,  ..., 0., 0., 0.],\n        [0., 0., 0.,  ..., 0., 0., 0.],\n        [0., 0., 0.,  ..., 0., 0., 0.]])"
     },
     "execution_count": 78,
     "metadata": {},
     "output_type": "execute_result"
    }
   ],
   "source": [
    "feat = graph.ndata['feat']\n",
    "print(feat.shape)\n",
    "feat"
   ]
  },
  {
   "cell_type": "markdown",
   "id": "a22e2f36",
   "metadata": {},
   "source": [
    "In DGL, Cora feature matrix are normalized so that the sum per row is 1. Labels are represent type of the publication, they are stored in `label`."
   ]
  },
  {
   "cell_type": "code",
   "execution_count": 79,
   "id": "9c85b87c",
   "metadata": {
    "colab": {
     "base_uri": "https://localhost:8080/"
    },
    "execution": {
     "iopub.execute_input": "2024-07-26T11:51:54.093792Z",
     "iopub.status.busy": "2024-07-26T11:51:54.093727Z",
     "iopub.status.idle": "2024-07-26T11:51:54.095804Z",
     "shell.execute_reply": "2024-07-26T11:51:54.095592Z"
    },
    "id": "mEjkhbW-1B7B",
    "outputId": "099191ec-be12-4c2f-8eef-1d03b97f5793",
    "ExecuteTime": {
     "end_time": "2024-07-26T13:59:07.474323Z",
     "start_time": "2024-07-26T13:59:07.427841Z"
    }
   },
   "outputs": [
    {
     "data": {
      "text/plain": "tensor([3, 4, 4,  ..., 3, 3, 3])"
     },
     "execution_count": 79,
     "metadata": {},
     "output_type": "execute_result"
    }
   ],
   "source": [
    "label = graph.ndata['label']\n",
    "label"
   ]
  },
  {
   "cell_type": "markdown",
   "id": "8ffdf1c0",
   "metadata": {},
   "source": [
    "Here are train, validation and test masks."
   ]
  },
  {
   "cell_type": "code",
   "execution_count": 80,
   "id": "a0cb7ad4",
   "metadata": {
    "colab": {
     "base_uri": "https://localhost:8080/"
    },
    "execution": {
     "iopub.execute_input": "2024-07-26T11:51:54.097013Z",
     "iopub.status.busy": "2024-07-26T11:51:54.096952Z",
     "iopub.status.idle": "2024-07-26T11:51:54.099404Z",
     "shell.execute_reply": "2024-07-26T11:51:54.099186Z"
    },
    "id": "vMIQwuZz1HLT",
    "outputId": "29137f18-15b3-4733-9798-caf037f9664f",
    "ExecuteTime": {
     "end_time": "2024-07-26T13:59:08.655040Z",
     "start_time": "2024-07-26T13:59:08.613746Z"
    }
   },
   "outputs": [
    {
     "data": {
      "text/plain": "(tensor([False, False, False,  ..., False, False, False]),\n tensor([ True,  True,  True,  ..., False, False, False]),\n tensor([False, False, False,  ...,  True,  True,  True]))"
     },
     "execution_count": 80,
     "metadata": {},
     "output_type": "execute_result"
    }
   ],
   "source": [
    "train_mask = graph.ndata['train_mask']\n",
    "val_mask = graph.ndata['val_mask']\n",
    "test_mask = graph.ndata['test_mask']\n",
    "val_mask, train_mask, test_mask"
   ]
  },
  {
   "cell_type": "markdown",
   "id": "7cc003cb",
   "metadata": {},
   "source": [
    "#### 3.2. Graph convolution as matrix product"
   ]
  },
  {
   "cell_type": "markdown",
   "id": "ddc79913",
   "metadata": {},
   "source": [
    "Graph convolutional network (GCN) was proposed in [[1]](#references) and defined on an undirected graph as the following propagation rule:\n",
    "\n",
    "$$H^{(l)}=\\sigma\\left(\\tilde D^{-1 / 2} \\tilde A \\tilde D^{-1 / 2} H^{(l-1)} W^{(l)}\\right)$$\n",
    "\n",
    "where $\\tilde A = A + I_N$ is the adjacency matrix with added self-connections. $I_N$ is the identity matrix, $\\tilde D_{ii} = \\sum_j \\tilde A_{ij}$ is the degree matrix and $W^{(l)}$ is trainable matrix at the layer $l$. $\\sigma$ represents non-linear activation function such as ReLU. $H^{(l)}$ is the hidden states at the layer $l$ and $H^{(0)} = X$ is the initial feature matrix.\n",
    "\n",
    "Write a class `GCNMatrixProductLayer` that takes adjacency matrix, hidden states and returns the next hidden states before activation."
   ]
  },
  {
   "cell_type": "code",
   "execution_count": 81,
   "id": "7ff5b791",
   "metadata": {
    "execution": {
     "iopub.execute_input": "2024-07-26T11:51:54.100686Z",
     "iopub.status.busy": "2024-07-26T11:51:54.100623Z",
     "iopub.status.idle": "2024-07-26T11:51:54.103016Z",
     "shell.execute_reply": "2024-07-26T11:51:54.102811Z"
    },
    "id": "f_mBC5dKnnww",
    "nbgrader": {
     "checksum": "a8e8bb1c6da30605ca8ba49a6c4ecfa9",
     "grade": false,
     "grade_id": "cell-b71f48a8f9c231a0",
     "locked": false,
     "schema_version": 3,
     "solution": true,
     "task": false
    },
    "ExecuteTime": {
     "end_time": "2024-07-26T13:59:12.241531Z",
     "start_time": "2024-07-26T13:59:12.191486Z"
    }
   },
   "outputs": [],
   "source": [
    "class GCNMatrixProductLayer(nn.Module):\n",
    "    def __init__(self, in_dim, out_dim):\n",
    "        super().__init__()\n",
    "        self.dense = nn.Linear(in_dim, out_dim)\n",
    "        \n",
    "    def forward(self, adj, h):\n",
    "        _adj = adj.clone()\n",
    "        ### BEGIN SOLUTION\n",
    "        _adj = _adj + np.eye(adj.shape[0], dtype='float32')\n",
    "        norm = _adj.sum(dim=0)**-0.5\n",
    "        _adj = norm[:, None] * _adj * norm[None, :]\n",
    "        h = _adj @ self.dense(h)\n",
    "        return h\n",
    "        ### END SOLUTION"
   ]
  },
  {
   "cell_type": "code",
   "execution_count": 82,
   "id": "904fa061",
   "metadata": {
    "colab": {
     "base_uri": "https://localhost:8080/"
    },
    "execution": {
     "iopub.execute_input": "2024-07-26T11:51:54.104165Z",
     "iopub.status.busy": "2024-07-26T11:51:54.104103Z",
     "iopub.status.idle": "2024-07-26T11:51:54.141865Z",
     "shell.execute_reply": "2024-07-26T11:51:54.141577Z"
    },
    "id": "8lynaeRSot46",
    "nbgrader": {
     "checksum": "ec3085e621cf0a0c1cf8c2339ac0208d",
     "grade": true,
     "grade_id": "cell-59516dd351a3b233",
     "locked": true,
     "points": 0.67,
     "schema_version": 3,
     "solution": false,
     "task": false
    },
    "outputId": "ec164c99-e61b-4f76-d52f-f9869a46570a",
    "ExecuteTime": {
     "end_time": "2024-07-26T13:59:12.665804Z",
     "start_time": "2024-07-26T13:59:12.607681Z"
    }
   },
   "outputs": [],
   "source": [
    "layer = GCNMatrixProductLayer(in_dim=2708, out_dim=10)\n",
    "with torch.no_grad():\n",
    "    layer.dense.weight.fill_(0.1)\n",
    "    layer.dense.bias.fill_(0.1)\n",
    "    h = layer(adj, torch.eye(2708))\n",
    "assert round(h[0, 0].item(), 2) == 0.19"
   ]
  },
  {
   "cell_type": "markdown",
   "id": "1b041722",
   "metadata": {},
   "source": [
    "Write a class `GCNMatrixProduct` that takes the adjacency matrix and feature matrix and performs two-layer convolution with intermediate ReLU activation. The class initialized by input, hidden and output dimensions."
   ]
  },
  {
   "cell_type": "code",
   "execution_count": 83,
   "id": "1c9ef4e4",
   "metadata": {
    "execution": {
     "iopub.execute_input": "2024-07-26T11:51:54.143461Z",
     "iopub.status.busy": "2024-07-26T11:51:54.143398Z",
     "iopub.status.idle": "2024-07-26T11:51:54.145644Z",
     "shell.execute_reply": "2024-07-26T11:51:54.145418Z"
    },
    "id": "KqTq6pF05jM-",
    "nbgrader": {
     "checksum": "856ad1e1e46a477d61fb9ebbde928fa4",
     "grade": false,
     "grade_id": "cell-5cecc368828015e4",
     "locked": false,
     "schema_version": 3,
     "solution": true,
     "task": false
    },
    "ExecuteTime": {
     "end_time": "2024-07-26T13:59:13.165853Z",
     "start_time": "2024-07-26T13:59:13.126661Z"
    }
   },
   "outputs": [],
   "source": [
    "class GCNMatrixProduct(nn.Module):\n",
    "    def __init__(self, in_dim, hid_dim, out_dim):\n",
    "        super().__init__()\n",
    "        ### BEGIN SOLUTION\n",
    "        self.conv1 = GCNMatrixProductLayer(in_dim, hid_dim)\n",
    "        self.conv2 = GCNMatrixProductLayer(hid_dim, out_dim)\n",
    "        ### END SOLUTION\n",
    "    def forward(self, adj, feat):\n",
    "        ### BEGIN SOLUTION\n",
    "        h = F.relu(self.conv1(adj, feat))\n",
    "        h = self.conv2(adj, h)\n",
    "        return h\n",
    "        ### END SOLUTION"
   ]
  },
  {
   "cell_type": "code",
   "execution_count": 84,
   "id": "13b3e790",
   "metadata": {
    "execution": {
     "iopub.execute_input": "2024-07-26T11:51:54.146831Z",
     "iopub.status.busy": "2024-07-26T11:51:54.146783Z",
     "iopub.status.idle": "2024-07-26T11:51:54.180365Z",
     "shell.execute_reply": "2024-07-26T11:51:54.180095Z"
    },
    "nbgrader": {
     "checksum": "f40307125a20f2612ae08df15dd0e326",
     "grade": true,
     "grade_id": "cell-13a9aa3e489245ee",
     "locked": true,
     "points": 0.67,
     "schema_version": 3,
     "solution": false,
     "task": false
    },
    "ExecuteTime": {
     "end_time": "2024-07-26T13:59:13.494411Z",
     "start_time": "2024-07-26T13:59:13.438873Z"
    }
   },
   "outputs": [],
   "source": [
    "model = GCNMatrixProduct(2708, 32, 7)\n",
    "logits = model(adj, torch.eye(2708))\n",
    "assert logits.shape == (2708, 7)\n",
    "assert logits.min() < 0"
   ]
  },
  {
   "cell_type": "markdown",
   "id": "217ab100",
   "metadata": {},
   "source": [
    "Let us create the two-layer GCN for node classification task."
   ]
  },
  {
   "cell_type": "code",
   "execution_count": 85,
   "id": "a83c6c89",
   "metadata": {
    "execution": {
     "iopub.execute_input": "2024-07-26T11:51:54.182124Z",
     "iopub.status.busy": "2024-07-26T11:51:54.182066Z",
     "iopub.status.idle": "2024-07-26T11:51:54.184179Z",
     "shell.execute_reply": "2024-07-26T11:51:54.183996Z"
    },
    "id": "3ugUQ8Ts50bm",
    "ExecuteTime": {
     "end_time": "2024-07-26T13:59:13.890238Z",
     "start_time": "2024-07-26T13:59:13.842290Z"
    }
   },
   "outputs": [],
   "source": [
    "model = GCNMatrixProduct(1433, 32, 7)\n",
    "opt = torch.optim.Adam(model.parameters(), lr=0.01)\n",
    "log = []"
   ]
  },
  {
   "cell_type": "markdown",
   "id": "0569ff05",
   "metadata": {},
   "source": [
    "We train the model in semi-supervised setting: propagate information over the full graph, but optimize it by only train cross-entropy loss."
   ]
  },
  {
   "cell_type": "code",
   "execution_count": 86,
   "id": "e2e7d012",
   "metadata": {
    "colab": {
     "base_uri": "https://localhost:8080/",
     "height": 313,
     "referenced_widgets": [
      "4fa7c5a860a74ae0be0404b2842ec809",
      "2307d5ed730f4c6fa82e8a178c243d0d",
      "b1270003ede94d53bfdd2df025c772ee",
      "10ec7d4c95d4495cb71f2c04ea634ee0",
      "cbd72762d02c41f2a34916daf6114d22",
      "8106dd0f5e1f4b0c9c84954bdce1d579",
      "42708e15359446719803bb38facedbab",
      "796b2558fb2f43e396b0f68b01b3a6fb",
      "08ae5472e6524b86a7d9844f087f1b83",
      "76c2090b6819432ab829350fa469d75e",
      "36ba71ca6f1d429b96e01b3e3335c970"
     ]
    },
    "execution": {
     "iopub.execute_input": "2024-07-26T11:51:54.185428Z",
     "iopub.status.busy": "2024-07-26T11:51:54.185377Z",
     "iopub.status.idle": "2024-07-26T11:52:00.964569Z",
     "shell.execute_reply": "2024-07-26T11:52:00.956245Z"
    },
    "id": "A5734iOi6O5x",
    "outputId": "63c71b97-2ab3-4081-b817-2cc866d574d5",
    "ExecuteTime": {
     "end_time": "2024-07-26T13:59:22.404427Z",
     "start_time": "2024-07-26T13:59:14.292559Z"
    }
   },
   "outputs": [
    {
     "data": {
      "text/plain": "  0%|          | 0/200 [00:00<?, ?it/s]",
      "application/vnd.jupyter.widget-view+json": {
       "version_major": 2,
       "version_minor": 0,
       "model_id": "bd382f6c7b354c0fbf1611bc4795df45"
      }
     },
     "metadata": {},
     "output_type": "display_data"
    },
    {
     "data": {
      "text/plain": "<Figure size 640x480 with 1 Axes>",
      "image/png": "[encoded data removed]"
     },
     "metadata": {},
     "output_type": "display_data"
    }
   ],
   "source": [
    "n_epochs = 200\n",
    "for i in trange(n_epochs):\n",
    "    \n",
    "    logits = model(adj, feat)\n",
    "    train_loss = F.cross_entropy(logits[train_mask], label[train_mask])\n",
    "\n",
    "    opt.zero_grad()\n",
    "    train_loss.backward()\n",
    "    opt.step()\n",
    "\n",
    "    with torch.no_grad():\n",
    "        val_loss = F.cross_entropy(logits[val_mask], label[val_mask])\n",
    "    \n",
    "    log.append([train_loss.item(), val_loss.item()])\n",
    "    \n",
    "plt.plot(np.array(log))\n",
    "plt.title('Loss')\n",
    "plt.legend(['train', 'val'])\n",
    "plt.show()"
   ]
  },
  {
   "cell_type": "markdown",
   "id": "9e222fe4",
   "metadata": {},
   "source": [
    "We evaluate the model by balanced accuracy that accounts for inbalanced classes."
   ]
  },
  {
   "cell_type": "code",
   "execution_count": 87,
   "id": "7945090a",
   "metadata": {
    "colab": {
     "base_uri": "https://localhost:8080/"
    },
    "execution": {
     "iopub.execute_input": "2024-07-26T11:52:00.974246Z",
     "iopub.status.busy": "2024-07-26T11:52:00.974165Z",
     "iopub.status.idle": "2024-07-26T11:52:01.016055Z",
     "shell.execute_reply": "2024-07-26T11:52:01.014897Z"
    },
    "id": "_fV6MI9q6_GL",
    "nbgrader": {
     "checksum": "65319f1d48a76e609193434b64ab924c",
     "grade": true,
     "grade_id": "cell-d77d156cd37bfe99",
     "locked": true,
     "points": 0.6599999999999999,
     "schema_version": 3,
     "solution": false,
     "task": false
    },
    "outputId": "52c02a31-1298-43b4-8065-6952aef793c1",
    "ExecuteTime": {
     "end_time": "2024-07-26T13:59:22.410406Z",
     "start_time": "2024-07-26T13:59:22.369288Z"
    }
   },
   "outputs": [
    {
     "name": "stdout",
     "output_type": "stream",
     "text": [
      "Balanced accuracy: 0.80\n"
     ]
    }
   ],
   "source": [
    "with torch.no_grad():\n",
    "    logits = model(adj, feat)\n",
    "y_pred = torch.argmax(logits[test_mask], 1)\n",
    "score = balanced_accuracy_score(label[test_mask], y_pred)\n",
    "assert score > 0.7\n",
    "print(f'Balanced accuracy: {score:.2f}')"
   ]
  },
  {
   "cell_type": "markdown",
   "id": "abb4221c",
   "metadata": {},
   "source": [
    "#### 3.3. Graph convolution as message passing (Optional)"
   ]
  },
  {
   "cell_type": "markdown",
   "id": "d23ffa87",
   "metadata": {},
   "source": [
    "The original GCN is computationally expensive for large graphs since it requires to compute matrix product $\\tilde D^{-1 / 2} \\tilde A \\tilde D^{-1 / 2} H^{l}$, that costs $O(|V|^2)$. However, the information is propagated along edges, the number of which is linearly depends on the number of nodes in scale-free networks, that is $O(|V|)$. Message passing framework was proposed in [[2]](#references) to reduce computation costs by representing a graph neural network's layer as the composition of two functions:\n",
    "\n",
    "$$m_{ij}^l = \\text{Message}\\left(h_i^{l-1}, h_j^{l-1}\\right)$$\n",
    "$$h_i^l = \\text{Reduce}_{j \\in \\mathcal{N}_\\text{in}(i)}\\left(m_{ji}^l\\right)$$\n",
    "\n",
    "where $\\text{Message}(\\cdot)$ is the message function that applied on each edges in the graph and stores computed values (messages) on edges. $\\text{Reduce}_{j \\in \\mathcal{N}_\\text{in}(i)}(\\cdot)$ is the reduce (aka aggregation, reduction) function that applied on each node and aggregates messages from incoming links (mailboxes). \n",
    "\n",
    "<img src='https://raw.githubusercontent.com/netspractice/network-science/main/images/messpass.png' width=600>\n",
    "\n",
    "In particular, GCN can be represented as follows:\n",
    "\n",
    "$$h_i^l = \\sigma \\left(W^l \\sum_{j \\in \\mathcal{N}_\\text{in}(i)}\\frac{h_j^{l-1}}{\\sqrt{|\\mathcal{N}_\\text{in}(j)||\\mathcal{N}_\\text{in}(i)|}}\\right)$$\n",
    "\n",
    "where the message function\n",
    "\n",
    "$$m_{ji}^l = \\frac{W^l h_j^{l-1}}{\\sqrt{|\\mathcal{N}_\\text{in}(j)|}}$$ \n",
    "\n",
    "is the transformed source node's hidden state normalized by the in-degree of the source node. The reduce function\n",
    "\n",
    "$$h_i^l = \\sigma \\left(\\frac{\\sum_{j \\in \\mathcal{N}_\\text{in}(i)} m_{ji}^l}{\\sqrt{|\\mathcal{N}_\\text{in}(i)|}}\\right)$$\n",
    "\n",
    "is the sum over all incoming neighbors' hidden states with in-degree normalization and subsequent activation $\\sigma$. Here we assume that the graph includes self-connections, that is a node is in its neighborhood. We also assume that the graph is equivalent to its undirected representation, that is $A = A^\\top$.\n",
    "\n",
    "In DGL, message passing is applied by `graph.update_all(message_func, reduce_func)` where `message_func` is defined on edges and `reduce_func` on nodes. DGL contains built-in message and reduce functions, but it is also possible to define your own functions. GCN can be implemented using following functions: \n",
    "* message function `fn.copy_src(src='h', out='m')` copies the source node feature `h` into the mailbox `m`\n",
    "* reduce function `fn.sum(msg='m', out='h')` sums messages from mailboxes `m` and save the result into the node feature `h`\n",
    "\n",
    "Write a class `GCNMessagePassingLayer` that takes a graph, hidden states and returns the next hidden states before activation.\n",
    "\n",
    "*Hints:*\n",
    "* _adding node features is similar to adding values to a dictionary: `graph.ndata['h'] = h`_\n",
    "* _in-degrees can be computed by `graph.in_degrees()`_\n",
    "\n",
    "*Remark: `graph.local_scope()` makes all operations isolated from the original graphs.*"
   ]
  },
  {
   "cell_type": "code",
   "execution_count": 88,
   "id": "f5984036",
   "metadata": {
    "execution": {
     "iopub.execute_input": "2024-07-26T11:52:01.019884Z",
     "iopub.status.busy": "2024-07-26T11:52:01.019661Z",
     "iopub.status.idle": "2024-07-26T11:52:01.024338Z",
     "shell.execute_reply": "2024-07-26T11:52:01.023035Z"
    },
    "id": "gpikkab-1g61",
    "nbgrader": {
     "checksum": "b7285e6772f70805893fd9df8c98dd43",
     "grade": false,
     "grade_id": "cell-7e663cf5c1afa659",
     "locked": false,
     "schema_version": 3,
     "solution": true,
     "task": false
    },
    "ExecuteTime": {
     "end_time": "2024-07-26T13:59:22.425312Z",
     "start_time": "2024-07-26T13:59:22.403264Z"
    }
   },
   "outputs": [],
   "source": [
    "class GCNMessagePassingLayer(nn.Module):\n",
    "    def __init__(self, in_dim, out_dim):\n",
    "        super().__init__()\n",
    "        self.dense = nn.Linear(in_dim, out_dim)\n",
    "    def forward(self, graph, h):\n",
    "        with graph.local_scope():\n",
    "            graph = graph.add_self_loop()\n",
    "            ### BEGIN SOLUTION\n",
    "            norm = graph.in_degrees()[:, None]**-0.5\n",
    "            h = self.dense(h)\n",
    "            h = h * norm\n",
    "            graph.ndata['h'] = h\n",
    "            graph.update_all(\n",
    "                fn.copy_u(u='h', out='m'),\n",
    "                fn.sum(msg='m', out='h')\n",
    "            )\n",
    "            h = graph.ndata['h']\n",
    "            h = h * norm\n",
    "            return h\n",
    "            ### END SOLUTION"
   ]
  },
  {
   "cell_type": "code",
   "execution_count": 89,
   "id": "5d8f0c5f",
   "metadata": {
    "colab": {
     "base_uri": "https://localhost:8080/"
    },
    "execution": {
     "iopub.execute_input": "2024-07-26T11:52:01.028052Z",
     "iopub.status.busy": "2024-07-26T11:52:01.027675Z",
     "iopub.status.idle": "2024-07-26T11:52:01.038969Z",
     "shell.execute_reply": "2024-07-26T11:52:01.038228Z"
    },
    "id": "OefKyjCBP5h4",
    "nbgrader": {
     "checksum": "8073fd1f805718186c8fd3fd29de8351",
     "grade": true,
     "grade_id": "cell-b7b8314f51fe4d0f",
     "locked": true,
     "points": 0.0,
     "schema_version": 3,
     "solution": false,
     "task": false
    },
    "outputId": "ab615a6c-80bc-4cf5-b12b-ea539bde7f61",
    "ExecuteTime": {
     "end_time": "2024-07-26T13:59:22.447722Z",
     "start_time": "2024-07-26T13:59:22.408437Z"
    }
   },
   "outputs": [],
   "source": [
    "layer = GCNMessagePassingLayer(in_dim=2708, out_dim=10)\n",
    "with torch.no_grad():\n",
    "    layer.dense.weight.fill_(0.1)\n",
    "    layer.dense.bias.fill_(0.1)\n",
    "    h = layer(graph, torch.eye(2708))\n",
    "assert round(h[0, 0].item(), 2) == 0.19"
   ]
  },
  {
   "cell_type": "markdown",
   "id": "5fa85c8d",
   "metadata": {},
   "source": [
    "Write a class `GCNMessagePassing` that takes the graph and feature matrix and performs two-layer convolution with intermediate ReLU activation. The class initialized by input, hidden and output dimensions."
   ]
  },
  {
   "cell_type": "code",
   "execution_count": 90,
   "id": "c5391849",
   "metadata": {
    "execution": {
     "iopub.execute_input": "2024-07-26T11:52:01.046032Z",
     "iopub.status.busy": "2024-07-26T11:52:01.045636Z",
     "iopub.status.idle": "2024-07-26T11:52:01.051042Z",
     "shell.execute_reply": "2024-07-26T11:52:01.050438Z"
    },
    "id": "Je2rbOMiAW37",
    "nbgrader": {
     "checksum": "648906ac3877307e03e5e86946e862da",
     "grade": false,
     "grade_id": "cell-0e8fb3b6e5858162",
     "locked": false,
     "schema_version": 3,
     "solution": true,
     "task": false
    },
    "ExecuteTime": {
     "end_time": "2024-07-26T13:59:22.452459Z",
     "start_time": "2024-07-26T13:59:22.417793Z"
    }
   },
   "outputs": [],
   "source": [
    "class GCNMessagePassing(nn.Module):\n",
    "    def __init__(self, in_dim, hid_dim, out_dim):\n",
    "        super().__init__()\n",
    "        ### BEGIN SOLUTION\n",
    "        self.conv1 = GCNMessagePassingLayer(in_dim, hid_dim)\n",
    "        self.conv2 = GCNMessagePassingLayer(hid_dim, out_dim)\n",
    "        ### END SOLUTION\n",
    "    def forward(self, graph, feat):\n",
    "        ### BEGIN SOLUTION\n",
    "        h = F.relu(self.conv1(graph, feat))\n",
    "        h = self.conv2(graph, h)\n",
    "        return h\n",
    "        ### END SOLUTION"
   ]
  },
  {
   "cell_type": "code",
   "execution_count": 91,
   "id": "f6c274e7",
   "metadata": {
    "execution": {
     "iopub.execute_input": "2024-07-26T11:52:01.055463Z",
     "iopub.status.busy": "2024-07-26T11:52:01.055051Z",
     "iopub.status.idle": "2024-07-26T11:52:01.070024Z",
     "shell.execute_reply": "2024-07-26T11:52:01.068856Z"
    },
    "nbgrader": {
     "checksum": "39b9ccecacba09fdee61474dd14c580d",
     "grade": true,
     "grade_id": "cell-bbdfaaf84f5f19cf",
     "locked": true,
     "points": 0.0,
     "schema_version": 3,
     "solution": false,
     "task": false
    },
    "ExecuteTime": {
     "end_time": "2024-07-26T13:59:22.495798Z",
     "start_time": "2024-07-26T13:59:22.420702Z"
    }
   },
   "outputs": [],
   "source": [
    "model = GCNMessagePassing(2708, 32, 7)\n",
    "logits = model(graph, torch.eye(2708))\n",
    "assert logits.shape == (2708, 7)\n",
    "assert logits.min() < 0"
   ]
  },
  {
   "cell_type": "code",
   "execution_count": 92,
   "id": "7b8332d3",
   "metadata": {
    "execution": {
     "iopub.execute_input": "2024-07-26T11:52:01.073879Z",
     "iopub.status.busy": "2024-07-26T11:52:01.073522Z",
     "iopub.status.idle": "2024-07-26T11:52:01.080099Z",
     "shell.execute_reply": "2024-07-26T11:52:01.078756Z"
    },
    "id": "Serljs2Ssy_F",
    "ExecuteTime": {
     "end_time": "2024-07-26T13:59:22.496028Z",
     "start_time": "2024-07-26T13:59:22.428023Z"
    }
   },
   "outputs": [],
   "source": [
    "model = GCNMessagePassing(in_dim=1433, hid_dim=32, out_dim=7)\n",
    "opt = Adam(model.parameters(), lr=0.01)\n",
    "log = []"
   ]
  },
  {
   "cell_type": "markdown",
   "id": "8712d82d",
   "metadata": {},
   "source": [
    "We train the model in semi-supervised setting: propagate information over the full graph, but optimize it by only train cross-entropy loss."
   ]
  },
  {
   "cell_type": "code",
   "execution_count": 93,
   "id": "628bc120",
   "metadata": {
    "colab": {
     "base_uri": "https://localhost:8080/",
     "height": 313,
     "referenced_widgets": [
      "79cb6320d5ad480d8cb7af3e7eca1eaa",
      "b796ab1ee5ef404fa3f42eefb29988b2",
      "c70eda97e5fd4378b91dc2f84f17bd7d",
      "a905b95c060842d998fec0b53f107399",
      "6fa79bdfa40e4737a6d834edff1c6e98",
      "7f7e1ce3028d4078abc064f038200453",
      "5acd380e813446a4aabc84d890c1ea9f",
      "963ebc71728c480daa1b3e6d6b017259",
      "3118ff3e3ee640d887cdec0e45079fa3",
      "5fdc14fd269f4af9b96fc1516f792a69",
      "b9a0e4efbae148f58c6603f950cf3df6"
     ]
    },
    "execution": {
     "iopub.execute_input": "2024-07-26T11:52:01.084689Z",
     "iopub.status.busy": "2024-07-26T11:52:01.084083Z",
     "iopub.status.idle": "2024-07-26T11:52:02.163332Z",
     "shell.execute_reply": "2024-07-26T11:52:02.163085Z"
    },
    "id": "pOO2N3das06E",
    "outputId": "38c25ace-d774-4e3e-d387-c876661817ee",
    "ExecuteTime": {
     "end_time": "2024-07-26T13:59:24.949173Z",
     "start_time": "2024-07-26T13:59:23.611733Z"
    }
   },
   "outputs": [
    {
     "data": {
      "text/plain": "  0%|          | 0/200 [00:00<?, ?it/s]",
      "application/vnd.jupyter.widget-view+json": {
       "version_major": 2,
       "version_minor": 0,
       "model_id": "bc8887d45c1c40d4bb625368632d1305"
      }
     },
     "metadata": {},
     "output_type": "display_data"
    },
    {
     "data": {
      "text/plain": "<Figure size 640x480 with 1 Axes>",
      "image/png": "[encoded data removed]"
     },
     "metadata": {},
     "output_type": "display_data"
    }
   ],
   "source": [
    "n_epochs = 200\n",
    "for i in trange(n_epochs):\n",
    "    \n",
    "    logits = model(graph, feat)\n",
    "    train_loss = F.cross_entropy(logits[train_mask], label[train_mask])\n",
    "\n",
    "    opt.zero_grad()\n",
    "    train_loss.backward()\n",
    "    opt.step()\n",
    "\n",
    "    with torch.no_grad():\n",
    "        val_loss = F.cross_entropy(logits[val_mask], label[val_mask])\n",
    "    \n",
    "    log.append([train_loss.item(), val_loss.item()])\n",
    "    \n",
    "plt.plot(np.array(log))\n",
    "plt.title('Loss')\n",
    "plt.legend(['train', 'val'])\n",
    "plt.show()"
   ]
  },
  {
   "cell_type": "code",
   "execution_count": 94,
   "id": "709249ab",
   "metadata": {
    "colab": {
     "base_uri": "https://localhost:8080/"
    },
    "execution": {
     "iopub.execute_input": "2024-07-26T11:52:02.165166Z",
     "iopub.status.busy": "2024-07-26T11:52:02.165064Z",
     "iopub.status.idle": "2024-07-26T11:52:02.171384Z",
     "shell.execute_reply": "2024-07-26T11:52:02.171089Z"
    },
    "id": "KY_dG01As28Q",
    "nbgrader": {
     "checksum": "d96adaccfb3d3494968ec7a788b7db10",
     "grade": true,
     "grade_id": "cell-5ec89b78a948cb61",
     "locked": true,
     "points": 0.0,
     "schema_version": 3,
     "solution": false,
     "task": false
    },
    "outputId": "f3d27ae9-0577-4805-df01-c2e45fe14c2a",
    "ExecuteTime": {
     "end_time": "2024-07-26T13:59:24.949553Z",
     "start_time": "2024-07-26T13:59:24.936306Z"
    }
   },
   "outputs": [
    {
     "name": "stdout",
     "output_type": "stream",
     "text": [
      "Balanced accuracy: 0.80\n"
     ]
    }
   ],
   "source": [
    "with torch.no_grad():\n",
    "    logits = model(graph, feat)\n",
    "y_pred = torch.argmax(logits[test_mask], 1)\n",
    "score = balanced_accuracy_score(label[test_mask], y_pred)\n",
    "assert score > 0.7\n",
    "print(f'Balanced accuracy: {score:.2f}')"
   ]
  },
  {
   "cell_type": "markdown",
   "id": "af9d1ee9",
   "metadata": {},
   "source": [
    "#### 3.4. Graph auto-encoder"
   ]
  },
  {
   "cell_type": "markdown",
   "id": "53670340",
   "metadata": {},
   "source": [
    "Graph auto-encoder (GAE) was proposed in [[3]](#references) as a simple node embedding model that incorporates node features. The model is consists of two parts:\n",
    "* GCN node encoder $Z = \\text{GCN}(X, A)$ where $X$ is the feature matrix\n",
    "* Dot product decoder $\\hat A = \\sigma(ZZ^\\top)$ where $\\sigma$ is the sigmoid function\n",
    "\n",
    "Write a class `DotProductDecoder` that takes node embeddgins and returns dot product before activation."
   ]
  },
  {
   "cell_type": "code",
   "execution_count": 95,
   "id": "15c460db",
   "metadata": {
    "execution": {
     "iopub.execute_input": "2024-07-26T11:52:02.173174Z",
     "iopub.status.busy": "2024-07-26T11:52:02.173073Z",
     "iopub.status.idle": "2024-07-26T11:52:02.175135Z",
     "shell.execute_reply": "2024-07-26T11:52:02.174823Z"
    },
    "nbgrader": {
     "checksum": "94fc1408b8ccdeccd59e8c5d6f6aa5c4",
     "grade": false,
     "grade_id": "cell-a67dd0513e743f58",
     "locked": false,
     "schema_version": 3,
     "solution": true,
     "task": false
    },
    "ExecuteTime": {
     "end_time": "2024-07-26T13:59:25.615139Z",
     "start_time": "2024-07-26T13:59:25.586465Z"
    }
   },
   "outputs": [],
   "source": [
    "class DotProductDecoder(nn.Module):\n",
    "    def __init__(self):\n",
    "        super().__init__()\n",
    "    def forward(self, z):\n",
    "        ### BEGIN SOLUTION\n",
    "        rec_adj = z @ z.t()\n",
    "        return rec_adj\n",
    "        ### END SOLUTION"
   ]
  },
  {
   "cell_type": "code",
   "execution_count": 96,
   "id": "c730e093",
   "metadata": {
    "execution": {
     "iopub.execute_input": "2024-07-26T11:52:02.176593Z",
     "iopub.status.busy": "2024-07-26T11:52:02.176523Z",
     "iopub.status.idle": "2024-07-26T11:52:02.178973Z",
     "shell.execute_reply": "2024-07-26T11:52:02.178742Z"
    },
    "nbgrader": {
     "checksum": "c003bce3fce6cdee675e6af192cba57a",
     "grade": true,
     "grade_id": "cell-4f9b59eac548798b",
     "locked": true,
     "points": 0.67,
     "schema_version": 3,
     "solution": false,
     "task": false
    },
    "ExecuteTime": {
     "end_time": "2024-07-26T13:59:26.038244Z",
     "start_time": "2024-07-26T13:59:25.995199Z"
    }
   },
   "outputs": [],
   "source": [
    "decoder = DotProductDecoder()\n",
    "assert torch.all(decoder(torch.eye(2)[:, :1]) * 2 == torch.tensor([[2, 0], [0, 0]]))"
   ]
  },
  {
   "cell_type": "markdown",
   "id": "34fb8d87",
   "metadata": {},
   "source": [
    "The GAE is trained to reconstruct the adjacency matrix, that is the decoder can be considered as the link prediction model. The reconstruction loss is the binary cross entropy between the adjacency matrix $A$ and reconstructed adjacency matrix $\\hat A$. To overcome the imbalance between positive and negative edges, the loss is computed with positive weights — the number of negative exaples divided by the number of positive examples, that is $(|V|^2 - E)/E$.\n",
    "\n",
    "Write a class `ReconstructionLoss` that takes reconstructed adjacency matrix and computes the binary cross entropy with positive weights `F.binary_cross_entropy_with_logits(label, target, pos_weights=...)`. The class is initialized by the adjacency matrix."
   ]
  },
  {
   "cell_type": "code",
   "execution_count": 97,
   "id": "38651b0b",
   "metadata": {
    "execution": {
     "iopub.execute_input": "2024-07-26T11:52:02.180363Z",
     "iopub.status.busy": "2024-07-26T11:52:02.180299Z",
     "iopub.status.idle": "2024-07-26T11:52:02.182301Z",
     "shell.execute_reply": "2024-07-26T11:52:02.182085Z"
    },
    "nbgrader": {
     "checksum": "e94ea2e39a78930a13843e844add7ee2",
     "grade": false,
     "grade_id": "cell-725f9456c5768b1e",
     "locked": false,
     "schema_version": 3,
     "solution": true,
     "task": false
    },
    "ExecuteTime": {
     "end_time": "2024-07-26T13:59:26.967037Z",
     "start_time": "2024-07-26T13:59:26.942360Z"
    }
   },
   "outputs": [],
   "source": [
    "class ReconstructionLoss:\n",
    "    def __init__(self, adj):\n",
    "        ### BEGIN SOLUTION\n",
    "        self.adj = adj\n",
    "        self.pos_weight = (adj.shape[0]**2 - adj.sum()) / adj.sum()\n",
    "        ### END SOLUTION\n",
    "    \n",
    "    def __call__(self, rec_adj):\n",
    "        ### BEGIN SOLUTION\n",
    "        return F.binary_cross_entropy_with_logits(\n",
    "            rec_adj, self.adj, pos_weight=self.pos_weight\n",
    "        )\n",
    "        ### END SOLUTION"
   ]
  },
  {
   "cell_type": "code",
   "execution_count": 98,
   "id": "575a9887",
   "metadata": {
    "execution": {
     "iopub.execute_input": "2024-07-26T11:52:02.183597Z",
     "iopub.status.busy": "2024-07-26T11:52:02.183531Z",
     "iopub.status.idle": "2024-07-26T11:52:02.185864Z",
     "shell.execute_reply": "2024-07-26T11:52:02.185582Z"
    },
    "nbgrader": {
     "checksum": "f885a91723afdceadf0e02101f3c3226",
     "grade": true,
     "grade_id": "cell-e6b239111250755e",
     "locked": true,
     "points": 0.67,
     "schema_version": 3,
     "solution": false,
     "task": false
    },
    "ExecuteTime": {
     "end_time": "2024-07-26T13:59:27.480238Z",
     "start_time": "2024-07-26T13:59:27.439064Z"
    }
   },
   "outputs": [],
   "source": [
    "rec_loss = ReconstructionLoss(torch.eye(2))\n",
    "assert round(rec_loss(1 - torch.eye(2)).item(), 4) == 1.0032"
   ]
  },
  {
   "cell_type": "markdown",
   "id": "e9403b0b",
   "metadata": {},
   "source": [
    "Here we initialize encoder, decoder, reconstruction loss and optimizer."
   ]
  },
  {
   "cell_type": "code",
   "execution_count": 99,
   "id": "0eb7900b",
   "metadata": {
    "execution": {
     "iopub.execute_input": "2024-07-26T11:52:02.187238Z",
     "iopub.status.busy": "2024-07-26T11:52:02.187173Z",
     "iopub.status.idle": "2024-07-26T11:52:02.190345Z",
     "shell.execute_reply": "2024-07-26T11:52:02.190109Z"
    },
    "ExecuteTime": {
     "end_time": "2024-07-26T13:59:28.238245Z",
     "start_time": "2024-07-26T13:59:28.183288Z"
    }
   },
   "outputs": [],
   "source": [
    "encoder = GCNMessagePassing(in_dim=1433, hid_dim=64, out_dim=32)\n",
    "decoder = DotProductDecoder()\n",
    "rec_loss = ReconstructionLoss(adj)\n",
    "opt = Adam(encoder.parameters(), lr=0.02)\n",
    "log = []"
   ]
  },
  {
   "cell_type": "markdown",
   "id": "6b5b5f88",
   "metadata": {},
   "source": [
    "Complete the training loop for GAE. Train the model in unsupervised setting: calculate the reconstruction loss over all edges."
   ]
  },
  {
   "cell_type": "code",
   "execution_count": 100,
   "id": "26457fa7",
   "metadata": {
    "execution": {
     "iopub.execute_input": "2024-07-26T11:52:02.191852Z",
     "iopub.status.busy": "2024-07-26T11:52:02.191798Z",
     "iopub.status.idle": "2024-07-26T11:52:25.832453Z",
     "shell.execute_reply": "2024-07-26T11:52:25.832178Z"
    },
    "nbgrader": {
     "checksum": "e25fc920277cbb62e8b52c82bd0732c0",
     "grade": false,
     "grade_id": "cell-f1fe4005cbb20b73",
     "locked": false,
     "schema_version": 3,
     "solution": true,
     "task": false
    },
    "ExecuteTime": {
     "end_time": "2024-07-26T13:59:54.559230Z",
     "start_time": "2024-07-26T13:59:29.037669Z"
    }
   },
   "outputs": [
    {
     "data": {
      "text/plain": "  0%|          | 0/400 [00:00<?, ?it/s]",
      "application/vnd.jupyter.widget-view+json": {
       "version_major": 2,
       "version_minor": 0,
       "model_id": "891e7c74d429495bbc2a29090ddf4962"
      }
     },
     "metadata": {},
     "output_type": "display_data"
    },
    {
     "data": {
      "text/plain": "<Figure size 640x480 with 1 Axes>",
      "image/png": "[encoded data removed]"
     },
     "metadata": {},
     "output_type": "display_data"
    }
   ],
   "source": [
    "n_epochs = 400\n",
    "for i in trange(n_epochs):\n",
    "    ### BEGIN SOLUTION\n",
    "    z = encoder(graph, feat)\n",
    "    rec_adj = decoder(z)\n",
    "    loss = rec_loss(rec_adj)\n",
    "\n",
    "    opt.zero_grad()\n",
    "    loss.backward()\n",
    "    opt.step()\n",
    "\n",
    "    log.append(loss.item())\n",
    "    ### END SOLUTION\n",
    "    \n",
    "plt.plot(np.array(log))\n",
    "plt.title('Loss')\n",
    "plt.show()"
   ]
  },
  {
   "cell_type": "markdown",
   "id": "63152cb4",
   "metadata": {},
   "source": [
    "We evaluate GAE by obtaining node embeddings via GCN encoder and training the logistic regression for node classification task."
   ]
  },
  {
   "cell_type": "code",
   "execution_count": 101,
   "id": "8219af43",
   "metadata": {
    "execution": {
     "iopub.execute_input": "2024-07-26T11:52:25.833968Z",
     "iopub.status.busy": "2024-07-26T11:52:25.833895Z",
     "iopub.status.idle": "2024-07-26T11:52:25.843769Z",
     "shell.execute_reply": "2024-07-26T11:52:25.843424Z"
    },
    "nbgrader": {
     "checksum": "84e72bbc7d0ff7ed3bfeb3efec5ef5d9",
     "grade": true,
     "grade_id": "cell-85a3ec5453dd8fc2",
     "locked": true,
     "points": 0.6599999999999999,
     "schema_version": 3,
     "solution": false,
     "task": false
    },
    "ExecuteTime": {
     "end_time": "2024-07-26T14:00:36.085306Z",
     "start_time": "2024-07-26T14:00:36.039013Z"
    }
   },
   "outputs": [
    {
     "name": "stdout",
     "output_type": "stream",
     "text": [
      "Balanced accuracy: 0.78\n"
     ]
    }
   ],
   "source": [
    "with torch.no_grad():\n",
    "    X = encoder.forward(graph, feat).numpy()\n",
    "y = label.numpy()\n",
    "\n",
    "lr = LogisticRegression()\n",
    "lr.fit(X[train_mask], y[train_mask])\n",
    "\n",
    "y_true = y[test_mask]\n",
    "y_pred = lr.predict(X[test_mask])\n",
    "score = balanced_accuracy_score(y_true, y_pred)\n",
    "assert score >= 0.6\n",
    "print(f'Balanced accuracy: {score:.2f}')"
   ]
  },
  {
   "cell_type": "markdown",
   "id": "ba9a163e",
   "metadata": {},
   "source": [
    "Let us visualize node embeddings via t-SNE."
   ]
  },
  {
   "cell_type": "code",
   "execution_count": 102,
   "id": "7bd996e0",
   "metadata": {
    "execution": {
     "iopub.execute_input": "2024-07-26T11:52:25.845184Z",
     "iopub.status.busy": "2024-07-26T11:52:25.845135Z",
     "iopub.status.idle": "2024-07-26T11:52:32.259312Z",
     "shell.execute_reply": "2024-07-26T11:52:32.258791Z"
    },
    "ExecuteTime": {
     "end_time": "2024-07-26T14:00:45.689834Z",
     "start_time": "2024-07-26T14:00:39.546201Z"
    }
   },
   "outputs": [
    {
     "data": {
      "text/plain": "<Figure size 800x800 with 1 Axes>",
      "image/png": "[encoded data removed]"
     },
     "metadata": {},
     "output_type": "display_data"
    }
   ],
   "source": [
    "xy_emb = TSNE(n_components=2).fit_transform(X)\n",
    "plt.figure(figsize=(8, 8))\n",
    "plt.title('Node embeddings of graph auto-encoder')\n",
    "scatter = plt.scatter(xy_emb[:, 0], xy_emb[:, 1], c=label, s=10, cmap=plt.cm.Set2)"
   ]
  },
  {
   "cell_type": "markdown",
   "id": "46be1142",
   "metadata": {},
   "source": [
    "Note that GAE is the simplest encoder-decoder graph model that can be extended to the variational graph auto-encoder (VGAE) [[3]](#references) and GraphVAE [[4]](#references)."
   ]
  },
  {
   "cell_type": "markdown",
   "id": "2bec0ee9",
   "metadata": {},
   "source": [
    "### References"
   ]
  },
  {
   "cell_type": "markdown",
   "id": "299c1dae",
   "metadata": {},
   "source": [
    "<a id='references'></a>\n",
    "\n",
    "[1] Kipf, T. N., & Welling, M. (2016). Semi-Supervised Classification with Graph Convolutional Networks. CoRR, abs/1609.02907. http://arxiv.org/abs/1609.02907\n",
    "\n",
    "[2] Gilmer, J., Schoenholz, S. S., Riley, P. F., Vinyals, O., & Dahl, G. E. (2017). Neural Message Passing for Quantum Chemistry. CoRR, abs/1704.01212. http://arxiv.org/abs/1704.01212\n",
    "\n",
    "[3] Kipf, T. N., & Welling, M. (2016). Variational Graph Auto-Encoders. arXiv. https://doi.org/10.48550/ARXIV.1611.07308\n",
    "\n",
    "[4] Simonovsky, M., & Komodakis, N. (2018). GraphVAE: Towards Generation of Small Graphs Using Variational Autoencoders. CoRR, abs/1802.03480. http://arxiv.org/abs/1802.03480"
   ]
  },
  {
   "cell_type": "code",
   "execution_count": null,
   "id": "3140314a",
   "metadata": {},
   "outputs": [],
   "source": []
  }
 ],
 "metadata": {
  "celltoolbar": "Create Assignment",
  "kernelspec": {
   "display_name": "Python 3",
   "language": "python",
   "name": "python3"
  },
  "language_info": {
   "codemirror_mode": {
    "name": "ipython",
    "version": 3
   },
   "file_extension": ".py",
   "mimetype": "text/x-python",
   "name": "python",
   "nbconvert_exporter": "python",
   "pygments_lexer": "ipython3",
   "version": "3.11.4"
  },
  "widgets": {
   "application/vnd.jupyter.widget-state+json": {
    "state": {
     "032712ce589f4d48acfd8b7a13290e69": {
      "model_module": "@jupyter-widgets/base",
      "model_module_version": "2.0.0",
      "model_name": "LayoutModel",
      "state": {
       "_model_module": "@jupyter-widgets/base",
       "_model_module_version": "2.0.0",
       "_model_name": "LayoutModel",
       "_view_count": null,
       "_view_module": "@jupyter-widgets/base",
       "_view_module_version": "2.0.0",
       "_view_name": "LayoutView",
       "align_content": null,
       "align_items": null,
       "align_self": null,
       "border_bottom": null,
       "border_left": null,
       "border_right": null,
       "border_top": null,
       "bottom": null,
       "display": null,
       "flex": null,
       "flex_flow": null,
       "grid_area": null,
       "grid_auto_columns": null,
       "grid_auto_flow": null,
       "grid_auto_rows": null,
       "grid_column": null,
       "grid_gap": null,
       "grid_row": null,
       "grid_template_areas": null,
       "grid_template_columns": null,
       "grid_template_rows": null,
       "height": null,
       "justify_content": null,
       "justify_items": null,
       "left": null,
       "margin": null,
       "max_height": null,
       "max_width": null,
       "min_height": null,
       "min_width": null,
       "object_fit": null,
       "object_position": null,
       "order": null,
       "overflow": null,
       "padding": null,
       "right": null,
       "top": null,
       "visibility": null,
       "width": null
      }
     },
     "098b32c3025e4650b25344a199fc86fb": {
      "model_module": "@jupyter-widgets/controls",
      "model_module_version": "2.0.0",
      "model_name": "FloatProgressModel",
      "state": {
       "_dom_classes": [],
       "_model_module": "@jupyter-widgets/controls",
       "_model_module_version": "2.0.0",
       "_model_name": "FloatProgressModel",
       "_view_count": null,
       "_view_module": "@jupyter-widgets/controls",
       "_view_module_version": "2.0.0",
       "_view_name": "ProgressView",
       "bar_style": "success",
       "description": "",
       "description_allow_html": false,
       "layout": "IPY_MODEL_2338d56b3b9c46d2979f8de8874dd373",
       "max": 1.0,
       "min": 0.0,
       "orientation": "horizontal",
       "style": "IPY_MODEL_626e9887a9f04c6c89ff0ff162292527",
       "tabbable": null,
       "tooltip": null,
       "value": 0.0
      }
     },
     "0fd2c331ffc742d591789ade4ef8b1ff": {
      "model_module": "@jupyter-widgets/base",
      "model_module_version": "2.0.0",
      "model_name": "LayoutModel",
      "state": {
       "_model_module": "@jupyter-widgets/base",
       "_model_module_version": "2.0.0",
       "_model_name": "LayoutModel",
       "_view_count": null,
       "_view_module": "@jupyter-widgets/base",
       "_view_module_version": "2.0.0",
       "_view_name": "LayoutView",
       "align_content": null,
       "align_items": null,
       "align_self": null,
       "border_bottom": null,
       "border_left": null,
       "border_right": null,
       "border_top": null,
       "bottom": null,
       "display": null,
       "flex": null,
       "flex_flow": null,
       "grid_area": null,
       "grid_auto_columns": null,
       "grid_auto_flow": null,
       "grid_auto_rows": null,
       "grid_column": null,
       "grid_gap": null,
       "grid_row": null,
       "grid_template_areas": null,
       "grid_template_columns": null,
       "grid_template_rows": null,
       "height": null,
       "justify_content": null,
       "justify_items": null,
       "left": null,
       "margin": null,
       "max_height": null,
       "max_width": null,
       "min_height": null,
       "min_width": null,
       "object_fit": null,
       "object_position": null,
       "order": null,
       "overflow": null,
       "padding": null,
       "right": null,
       "top": null,
       "visibility": null,
       "width": null
      }
     },
     "1d03cc3ef05948b6b3156818a8846f13": {
      "model_module": "@jupyter-widgets/base",
      "model_module_version": "2.0.0",
      "model_name": "LayoutModel",
      "state": {
       "_model_module": "@jupyter-widgets/base",
       "_model_module_version": "2.0.0",
       "_model_name": "LayoutModel",
       "_view_count": null,
       "_view_module": "@jupyter-widgets/base",
       "_view_module_version": "2.0.0",
       "_view_name": "LayoutView",
       "align_content": null,
       "align_items": null,
       "align_self": null,
       "border_bottom": null,
       "border_left": null,
       "border_right": null,
       "border_top": null,
       "bottom": null,
       "display": null,
       "flex": null,
       "flex_flow": null,
       "grid_area": null,
       "grid_auto_columns": null,
       "grid_auto_flow": null,
       "grid_auto_rows": null,
       "grid_column": null,
       "grid_gap": null,
       "grid_row": null,
       "grid_template_areas": null,
       "grid_template_columns": null,
       "grid_template_rows": null,
       "height": null,
       "justify_content": null,
       "justify_items": null,
       "left": null,
       "margin": null,
       "max_height": null,
       "max_width": null,
       "min_height": null,
       "min_width": null,
       "object_fit": null,
       "object_position": null,
       "order": null,
       "overflow": null,
       "padding": null,
       "right": null,
       "top": null,
       "visibility": null,
       "width": null
      }
     },
     "1d1a19b0c90343278caf120a6884304d": {
      "model_module": "@jupyter-widgets/base",
      "model_module_version": "2.0.0",
      "model_name": "LayoutModel",
      "state": {
       "_model_module": "@jupyter-widgets/base",
       "_model_module_version": "2.0.0",
       "_model_name": "LayoutModel",
       "_view_count": null,
       "_view_module": "@jupyter-widgets/base",
       "_view_module_version": "2.0.0",
       "_view_name": "LayoutView",
       "align_content": null,
       "align_items": null,
       "align_self": null,
       "border_bottom": null,
       "border_left": null,
       "border_right": null,
       "border_top": null,
       "bottom": null,
       "display": null,
       "flex": null,
       "flex_flow": null,
       "grid_area": null,
       "grid_auto_columns": null,
       "grid_auto_flow": null,
       "grid_auto_rows": null,
       "grid_column": null,
       "grid_gap": null,
       "grid_row": null,
       "grid_template_areas": null,
       "grid_template_columns": null,
       "grid_template_rows": null,
       "height": null,
       "justify_content": null,
       "justify_items": null,
       "left": null,
       "margin": null,
       "max_height": null,
       "max_width": null,
       "min_height": null,
       "min_width": null,
       "object_fit": null,
       "object_position": null,
       "order": null,
       "overflow": null,
       "padding": null,
       "right": null,
       "top": null,
       "visibility": null,
       "width": null
      }
     },
     "1f11dd76dfa141b5b274b3e447f23f45": {
      "model_module": "@jupyter-widgets/controls",
      "model_module_version": "2.0.0",
      "model_name": "HTMLStyleModel",
      "state": {
       "_model_module": "@jupyter-widgets/controls",
       "_model_module_version": "2.0.0",
       "_model_name": "HTMLStyleModel",
       "_view_count": null,
       "_view_module": "@jupyter-widgets/base",
       "_view_module_version": "2.0.0",
       "_view_name": "StyleView",
       "background": null,
       "description_width": "",
       "font_size": null,
       "text_color": null
      }
     },
     "2338d56b3b9c46d2979f8de8874dd373": {
      "model_module": "@jupyter-widgets/base",
      "model_module_version": "2.0.0",
      "model_name": "LayoutModel",
      "state": {
       "_model_module": "@jupyter-widgets/base",
       "_model_module_version": "2.0.0",
       "_model_name": "LayoutModel",
       "_view_count": null,
       "_view_module": "@jupyter-widgets/base",
       "_view_module_version": "2.0.0",
       "_view_name": "LayoutView",
       "align_content": null,
       "align_items": null,
       "align_self": null,
       "border_bottom": null,
       "border_left": null,
       "border_right": null,
       "border_top": null,
       "bottom": null,
       "display": null,
       "flex": null,
       "flex_flow": null,
       "grid_area": null,
       "grid_auto_columns": null,
       "grid_auto_flow": null,
       "grid_auto_rows": null,
       "grid_column": null,
       "grid_gap": null,
       "grid_row": null,
       "grid_template_areas": null,
       "grid_template_columns": null,
       "grid_template_rows": null,
       "height": null,
       "justify_content": null,
       "justify_items": null,
       "left": null,
       "margin": null,
       "max_height": null,
       "max_width": null,
       "min_height": null,
       "min_width": null,
       "object_fit": null,
       "object_position": null,
       "order": null,
       "overflow": null,
       "padding": null,
       "right": null,
       "top": null,
       "visibility": null,
       "width": "20px"
      }
     },
     "28512f52847a479f8c917d9d04cdd1a5": {
      "model_module": "@jupyter-widgets/controls",
      "model_module_version": "2.0.0",
      "model_name": "HTMLModel",
      "state": {
       "_dom_classes": [],
       "_model_module": "@jupyter-widgets/controls",
       "_model_module_version": "2.0.0",
       "_model_name": "HTMLModel",
       "_view_count": null,
       "_view_module": "@jupyter-widgets/controls",
       "_view_module_version": "2.0.0",
       "_view_name": "HTMLView",
       "description": "",
       "description_allow_html": false,
       "layout": "IPY_MODEL_42652b7bba834d36b42ec9502061ffb8",
       "placeholder": "​",
       "style": "IPY_MODEL_df038019373848ffb2a7e45fda673d85",
       "tabbable": null,
       "tooltip": null,
       "value": "100%"
      }
     },
     "2b7b73068033469fb1104da124606332": {
      "model_module": "@jupyter-widgets/controls",
      "model_module_version": "2.0.0",
      "model_name": "HTMLModel",
      "state": {
       "_dom_classes": [],
       "_model_module": "@jupyter-widgets/controls",
       "_model_module_version": "2.0.0",
       "_model_name": "HTMLModel",
       "_view_count": null,
       "_view_module": "@jupyter-widgets/controls",
       "_view_module_version": "2.0.0",
       "_view_name": "HTMLView",
       "description": "",
       "description_allow_html": false,
       "layout": "IPY_MODEL_0fd2c331ffc742d591789ade4ef8b1ff",
       "placeholder": "​",
       "style": "IPY_MODEL_1f11dd76dfa141b5b274b3e447f23f45",
       "tabbable": null,
       "tooltip": null,
       "value": " 400/400 [00:23&lt;00:00, 16.20it/s]"
      }
     },
     "3033782e3595489990425862db7f3b81": {
      "model_module": "@jupyter-widgets/base",
      "model_module_version": "2.0.0",
      "model_name": "LayoutModel",
      "state": {
       "_model_module": "@jupyter-widgets/base",
       "_model_module_version": "2.0.0",
       "_model_name": "LayoutModel",
       "_view_count": null,
       "_view_module": "@jupyter-widgets/base",
       "_view_module_version": "2.0.0",
       "_view_name": "LayoutView",
       "align_content": null,
       "align_items": null,
       "align_self": null,
       "border_bottom": null,
       "border_left": null,
       "border_right": null,
       "border_top": null,
       "bottom": null,
       "display": null,
       "flex": null,
       "flex_flow": null,
       "grid_area": null,
       "grid_auto_columns": null,
       "grid_auto_flow": null,
       "grid_auto_rows": null,
       "grid_column": null,
       "grid_gap": null,
       "grid_row": null,
       "grid_template_areas": null,
       "grid_template_columns": null,
       "grid_template_rows": null,
       "height": null,
       "justify_content": null,
       "justify_items": null,
       "left": null,
       "margin": null,
       "max_height": null,
       "max_width": null,
       "min_height": null,
       "min_width": null,
       "object_fit": null,
       "object_position": null,
       "order": null,
       "overflow": null,
       "padding": null,
       "right": null,
       "top": null,
       "visibility": null,
       "width": null
      }
     },
     "3e366ea21f084988b5cf3902cca684d9": {
      "model_module": "@jupyter-widgets/controls",
      "model_module_version": "2.0.0",
      "model_name": "HBoxModel",
      "state": {
       "_dom_classes": [],
       "_model_module": "@jupyter-widgets/controls",
       "_model_module_version": "2.0.0",
       "_model_name": "HBoxModel",
       "_view_count": null,
       "_view_module": "@jupyter-widgets/controls",
       "_view_module_version": "2.0.0",
       "_view_name": "HBoxView",
       "box_style": "",
       "children": [
        "IPY_MODEL_b2b5ae956d9a48d1a60fff0c466c5ad3",
        "IPY_MODEL_098b32c3025e4650b25344a199fc86fb",
        "IPY_MODEL_705b73acd6954da99adbf05a70d5168a"
       ],
       "layout": "IPY_MODEL_c20efaf819a74869a14435deb83542c0",
       "tabbable": null,
       "tooltip": null
      }
     },
     "42652b7bba834d36b42ec9502061ffb8": {
      "model_module": "@jupyter-widgets/base",
      "model_module_version": "2.0.0",
      "model_name": "LayoutModel",
      "state": {
       "_model_module": "@jupyter-widgets/base",
       "_model_module_version": "2.0.0",
       "_model_name": "LayoutModel",
       "_view_count": null,
       "_view_module": "@jupyter-widgets/base",
       "_view_module_version": "2.0.0",
       "_view_name": "LayoutView",
       "align_content": null,
       "align_items": null,
       "align_self": null,
       "border_bottom": null,
       "border_left": null,
       "border_right": null,
       "border_top": null,
       "bottom": null,
       "display": null,
       "flex": null,
       "flex_flow": null,
       "grid_area": null,
       "grid_auto_columns": null,
       "grid_auto_flow": null,
       "grid_auto_rows": null,
       "grid_column": null,
       "grid_gap": null,
       "grid_row": null,
       "grid_template_areas": null,
       "grid_template_columns": null,
       "grid_template_rows": null,
       "height": null,
       "justify_content": null,
       "justify_items": null,
       "left": null,
       "margin": null,
       "max_height": null,
       "max_width": null,
       "min_height": null,
       "min_width": null,
       "object_fit": null,
       "object_position": null,
       "order": null,
       "overflow": null,
       "padding": null,
       "right": null,
       "top": null,
       "visibility": null,
       "width": null
      }
     },
     "475c59aaf4a0434cad950ea8a7d2f152": {
      "model_module": "@jupyter-widgets/base",
      "model_module_version": "2.0.0",
      "model_name": "LayoutModel",
      "state": {
       "_model_module": "@jupyter-widgets/base",
       "_model_module_version": "2.0.0",
       "_model_name": "LayoutModel",
       "_view_count": null,
       "_view_module": "@jupyter-widgets/base",
       "_view_module_version": "2.0.0",
       "_view_name": "LayoutView",
       "align_content": null,
       "align_items": null,
       "align_self": null,
       "border_bottom": null,
       "border_left": null,
       "border_right": null,
       "border_top": null,
       "bottom": null,
       "display": null,
       "flex": null,
       "flex_flow": null,
       "grid_area": null,
       "grid_auto_columns": null,
       "grid_auto_flow": null,
       "grid_auto_rows": null,
       "grid_column": null,
       "grid_gap": null,
       "grid_row": null,
       "grid_template_areas": null,
       "grid_template_columns": null,
       "grid_template_rows": null,
       "height": null,
       "justify_content": null,
       "justify_items": null,
       "left": null,
       "margin": null,
       "max_height": null,
       "max_width": null,
       "min_height": null,
       "min_width": null,
       "object_fit": null,
       "object_position": null,
       "order": null,
       "overflow": null,
       "padding": null,
       "right": null,
       "top": null,
       "visibility": null,
       "width": null
      }
     },
     "49355acb80f84d428cb7573c61a30329": {
      "model_module": "@jupyter-widgets/base",
      "model_module_version": "2.0.0",
      "model_name": "LayoutModel",
      "state": {
       "_model_module": "@jupyter-widgets/base",
       "_model_module_version": "2.0.0",
       "_model_name": "LayoutModel",
       "_view_count": null,
       "_view_module": "@jupyter-widgets/base",
       "_view_module_version": "2.0.0",
       "_view_name": "LayoutView",
       "align_content": null,
       "align_items": null,
       "align_self": null,
       "border_bottom": null,
       "border_left": null,
       "border_right": null,
       "border_top": null,
       "bottom": null,
       "display": null,
       "flex": null,
       "flex_flow": null,
       "grid_area": null,
       "grid_auto_columns": null,
       "grid_auto_flow": null,
       "grid_auto_rows": null,
       "grid_column": null,
       "grid_gap": null,
       "grid_row": null,
       "grid_template_areas": null,
       "grid_template_columns": null,
       "grid_template_rows": null,
       "height": null,
       "justify_content": null,
       "justify_items": null,
       "left": null,
       "margin": null,
       "max_height": null,
       "max_width": null,
       "min_height": null,
       "min_width": null,
       "object_fit": null,
       "object_position": null,
       "order": null,
       "overflow": null,
       "padding": null,
       "right": null,
       "top": null,
       "visibility": null,
       "width": null
      }
     },
     "4b6984a362fd46af8f6de693f1a8983b": {
      "model_module": "@jupyter-widgets/base",
      "model_module_version": "2.0.0",
      "model_name": "LayoutModel",
      "state": {
       "_model_module": "@jupyter-widgets/base",
       "_model_module_version": "2.0.0",
       "_model_name": "LayoutModel",
       "_view_count": null,
       "_view_module": "@jupyter-widgets/base",
       "_view_module_version": "2.0.0",
       "_view_name": "LayoutView",
       "align_content": null,
       "align_items": null,
       "align_self": null,
       "border_bottom": null,
       "border_left": null,
       "border_right": null,
       "border_top": null,
       "bottom": null,
       "display": null,
       "flex": null,
       "flex_flow": null,
       "grid_area": null,
       "grid_auto_columns": null,
       "grid_auto_flow": null,
       "grid_auto_rows": null,
       "grid_column": null,
       "grid_gap": null,
       "grid_row": null,
       "grid_template_areas": null,
       "grid_template_columns": null,
       "grid_template_rows": null,
       "height": null,
       "justify_content": null,
       "justify_items": null,
       "left": null,
       "margin": null,
       "max_height": null,
       "max_width": null,
       "min_height": null,
       "min_width": null,
       "object_fit": null,
       "object_position": null,
       "order": null,
       "overflow": null,
       "padding": null,
       "right": null,
       "top": null,
       "visibility": null,
       "width": null
      }
     },
     "59732f6ab5e74cf7b5dd8926cf665fd3": {
      "model_module": "@jupyter-widgets/controls",
      "model_module_version": "2.0.0",
      "model_name": "HTMLStyleModel",
      "state": {
       "_model_module": "@jupyter-widgets/controls",
       "_model_module_version": "2.0.0",
       "_model_name": "HTMLStyleModel",
       "_view_count": null,
       "_view_module": "@jupyter-widgets/base",
       "_view_module_version": "2.0.0",
       "_view_name": "StyleView",
       "background": null,
       "description_width": "",
       "font_size": null,
       "text_color": null
      }
     },
     "5d43059f43664a0e99d70e97ee8f011c": {
      "model_module": "@jupyter-widgets/base",
      "model_module_version": "2.0.0",
      "model_name": "LayoutModel",
      "state": {
       "_model_module": "@jupyter-widgets/base",
       "_model_module_version": "2.0.0",
       "_model_name": "LayoutModel",
       "_view_count": null,
       "_view_module": "@jupyter-widgets/base",
       "_view_module_version": "2.0.0",
       "_view_name": "LayoutView",
       "align_content": null,
       "align_items": null,
       "align_self": null,
       "border_bottom": null,
       "border_left": null,
       "border_right": null,
       "border_top": null,
       "bottom": null,
       "display": null,
       "flex": null,
       "flex_flow": null,
       "grid_area": null,
       "grid_auto_columns": null,
       "grid_auto_flow": null,
       "grid_auto_rows": null,
       "grid_column": null,
       "grid_gap": null,
       "grid_row": null,
       "grid_template_areas": null,
       "grid_template_columns": null,
       "grid_template_rows": null,
       "height": null,
       "justify_content": null,
       "justify_items": null,
       "left": null,
       "margin": null,
       "max_height": null,
       "max_width": null,
       "min_height": null,
       "min_width": null,
       "object_fit": null,
       "object_position": null,
       "order": null,
       "overflow": null,
       "padding": null,
       "right": null,
       "top": null,
       "visibility": null,
       "width": null
      }
     },
     "626e9887a9f04c6c89ff0ff162292527": {
      "model_module": "@jupyter-widgets/controls",
      "model_module_version": "2.0.0",
      "model_name": "ProgressStyleModel",
      "state": {
       "_model_module": "@jupyter-widgets/controls",
       "_model_module_version": "2.0.0",
       "_model_name": "ProgressStyleModel",
       "_view_count": null,
       "_view_module": "@jupyter-widgets/base",
       "_view_module_version": "2.0.0",
       "_view_name": "StyleView",
       "bar_color": null,
       "description_width": ""
      }
     },
     "691b73f1c9be46098e9e72a434b3cff1": {
      "model_module": "@jupyter-widgets/controls",
      "model_module_version": "2.0.0",
      "model_name": "HBoxModel",
      "state": {
       "_dom_classes": [],
       "_model_module": "@jupyter-widgets/controls",
       "_model_module_version": "2.0.0",
       "_model_name": "HBoxModel",
       "_view_count": null,
       "_view_module": "@jupyter-widgets/controls",
       "_view_module_version": "2.0.0",
       "_view_name": "HBoxView",
       "box_style": "",
       "children": [
        "IPY_MODEL_f4ff84d3186b4408876cf2fe0a2f32c7",
        "IPY_MODEL_d45199e47ad94afcbe86335ac3f109c6",
        "IPY_MODEL_2b7b73068033469fb1104da124606332"
       ],
       "layout": "IPY_MODEL_475c59aaf4a0434cad950ea8a7d2f152",
       "tabbable": null,
       "tooltip": null
      }
     },
     "705b73acd6954da99adbf05a70d5168a": {
      "model_module": "@jupyter-widgets/controls",
      "model_module_version": "2.0.0",
      "model_name": "HTMLModel",
      "state": {
       "_dom_classes": [],
       "_model_module": "@jupyter-widgets/controls",
       "_model_module_version": "2.0.0",
       "_model_name": "HTMLModel",
       "_view_count": null,
       "_view_module": "@jupyter-widgets/controls",
       "_view_module_version": "2.0.0",
       "_view_name": "HTMLView",
       "description": "",
       "description_allow_html": false,
       "layout": "IPY_MODEL_032712ce589f4d48acfd8b7a13290e69",
       "placeholder": "​",
       "style": "IPY_MODEL_59732f6ab5e74cf7b5dd8926cf665fd3",
       "tabbable": null,
       "tooltip": null,
       "value": " 0/0 [00:00&lt;?, ?it/s]"
      }
     },
     "74ceee5537ca48e1910108e3a489c891": {
      "model_module": "@jupyter-widgets/controls",
      "model_module_version": "2.0.0",
      "model_name": "HTMLStyleModel",
      "state": {
       "_model_module": "@jupyter-widgets/controls",
       "_model_module_version": "2.0.0",
       "_model_name": "HTMLStyleModel",
       "_view_count": null,
       "_view_module": "@jupyter-widgets/base",
       "_view_module_version": "2.0.0",
       "_view_name": "StyleView",
       "background": null,
       "description_width": "",
       "font_size": null,
       "text_color": null
      }
     },
     "78ee11a66f9e4696a8d44364e757bb72": {
      "model_module": "@jupyter-widgets/controls",
      "model_module_version": "2.0.0",
      "model_name": "FloatProgressModel",
      "state": {
       "_dom_classes": [],
       "_model_module": "@jupyter-widgets/controls",
       "_model_module_version": "2.0.0",
       "_model_name": "FloatProgressModel",
       "_view_count": null,
       "_view_module": "@jupyter-widgets/controls",
       "_view_module_version": "2.0.0",
       "_view_name": "ProgressView",
       "bar_style": "success",
       "description": "",
       "description_allow_html": false,
       "layout": "IPY_MODEL_4b6984a362fd46af8f6de693f1a8983b",
       "max": 200.0,
       "min": 0.0,
       "orientation": "horizontal",
       "style": "IPY_MODEL_bb4ff829631a4c0ba693f67025c5026a",
       "tabbable": null,
       "tooltip": null,
       "value": 200.0
      }
     },
     "808aafe256fc435bbdf37df126544313": {
      "model_module": "@jupyter-widgets/controls",
      "model_module_version": "2.0.0",
      "model_name": "HTMLStyleModel",
      "state": {
       "_model_module": "@jupyter-widgets/controls",
       "_model_module_version": "2.0.0",
       "_model_name": "HTMLStyleModel",
       "_view_count": null,
       "_view_module": "@jupyter-widgets/base",
       "_view_module_version": "2.0.0",
       "_view_name": "StyleView",
       "background": null,
       "description_width": "",
       "font_size": null,
       "text_color": null
      }
     },
     "9ba57ed0ae4f4769933ed4c91a244803": {
      "model_module": "@jupyter-widgets/controls",
      "model_module_version": "2.0.0",
      "model_name": "HTMLModel",
      "state": {
       "_dom_classes": [],
       "_model_module": "@jupyter-widgets/controls",
       "_model_module_version": "2.0.0",
       "_model_name": "HTMLModel",
       "_view_count": null,
       "_view_module": "@jupyter-widgets/controls",
       "_view_module_version": "2.0.0",
       "_view_name": "HTMLView",
       "description": "",
       "description_allow_html": false,
       "layout": "IPY_MODEL_3033782e3595489990425862db7f3b81",
       "placeholder": "​",
       "style": "IPY_MODEL_808aafe256fc435bbdf37df126544313",
       "tabbable": null,
       "tooltip": null,
       "value": "100%"
      }
     },
     "9be2e86494f14c90b0ac9feb63a401bc": {
      "model_module": "@jupyter-widgets/base",
      "model_module_version": "2.0.0",
      "model_name": "LayoutModel",
      "state": {
       "_model_module": "@jupyter-widgets/base",
       "_model_module_version": "2.0.0",
       "_model_name": "LayoutModel",
       "_view_count": null,
       "_view_module": "@jupyter-widgets/base",
       "_view_module_version": "2.0.0",
       "_view_name": "LayoutView",
       "align_content": null,
       "align_items": null,
       "align_self": null,
       "border_bottom": null,
       "border_left": null,
       "border_right": null,
       "border_top": null,
       "bottom": null,
       "display": null,
       "flex": null,
       "flex_flow": null,
       "grid_area": null,
       "grid_auto_columns": null,
       "grid_auto_flow": null,
       "grid_auto_rows": null,
       "grid_column": null,
       "grid_gap": null,
       "grid_row": null,
       "grid_template_areas": null,
       "grid_template_columns": null,
       "grid_template_rows": null,
       "height": null,
       "justify_content": null,
       "justify_items": null,
       "left": null,
       "margin": null,
       "max_height": null,
       "max_width": null,
       "min_height": null,
       "min_width": null,
       "object_fit": null,
       "object_position": null,
       "order": null,
       "overflow": null,
       "padding": null,
       "right": null,
       "top": null,
       "visibility": null,
       "width": null
      }
     },
     "a98f144f044848d0afd0bd8aefd86e75": {
      "model_module": "@jupyter-widgets/controls",
      "model_module_version": "2.0.0",
      "model_name": "HTMLStyleModel",
      "state": {
       "_model_module": "@jupyter-widgets/controls",
       "_model_module_version": "2.0.0",
       "_model_name": "HTMLStyleModel",
       "_view_count": null,
       "_view_module": "@jupyter-widgets/base",
       "_view_module_version": "2.0.0",
       "_view_name": "StyleView",
       "background": null,
       "description_width": "",
       "font_size": null,
       "text_color": null
      }
     },
     "ab7fc42c1f9d4e388cbc492be74a3237": {
      "model_module": "@jupyter-widgets/base",
      "model_module_version": "2.0.0",
      "model_name": "LayoutModel",
      "state": {
       "_model_module": "@jupyter-widgets/base",
       "_model_module_version": "2.0.0",
       "_model_name": "LayoutModel",
       "_view_count": null,
       "_view_module": "@jupyter-widgets/base",
       "_view_module_version": "2.0.0",
       "_view_name": "LayoutView",
       "align_content": null,
       "align_items": null,
       "align_self": null,
       "border_bottom": null,
       "border_left": null,
       "border_right": null,
       "border_top": null,
       "bottom": null,
       "display": null,
       "flex": null,
       "flex_flow": null,
       "grid_area": null,
       "grid_auto_columns": null,
       "grid_auto_flow": null,
       "grid_auto_rows": null,
       "grid_column": null,
       "grid_gap": null,
       "grid_row": null,
       "grid_template_areas": null,
       "grid_template_columns": null,
       "grid_template_rows": null,
       "height": null,
       "justify_content": null,
       "justify_items": null,
       "left": null,
       "margin": null,
       "max_height": null,
       "max_width": null,
       "min_height": null,
       "min_width": null,
       "object_fit": null,
       "object_position": null,
       "order": null,
       "overflow": null,
       "padding": null,
       "right": null,
       "top": null,
       "visibility": null,
       "width": null
      }
     },
     "acae20374f5e437293916b301f475a05": {
      "model_module": "@jupyter-widgets/base",
      "model_module_version": "2.0.0",
      "model_name": "LayoutModel",
      "state": {
       "_model_module": "@jupyter-widgets/base",
       "_model_module_version": "2.0.0",
       "_model_name": "LayoutModel",
       "_view_count": null,
       "_view_module": "@jupyter-widgets/base",
       "_view_module_version": "2.0.0",
       "_view_name": "LayoutView",
       "align_content": null,
       "align_items": null,
       "align_self": null,
       "border_bottom": null,
       "border_left": null,
       "border_right": null,
       "border_top": null,
       "bottom": null,
       "display": null,
       "flex": null,
       "flex_flow": null,
       "grid_area": null,
       "grid_auto_columns": null,
       "grid_auto_flow": null,
       "grid_auto_rows": null,
       "grid_column": null,
       "grid_gap": null,
       "grid_row": null,
       "grid_template_areas": null,
       "grid_template_columns": null,
       "grid_template_rows": null,
       "height": null,
       "justify_content": null,
       "justify_items": null,
       "left": null,
       "margin": null,
       "max_height": null,
       "max_width": null,
       "min_height": null,
       "min_width": null,
       "object_fit": null,
       "object_position": null,
       "order": null,
       "overflow": null,
       "padding": null,
       "right": null,
       "top": null,
       "visibility": null,
       "width": null
      }
     },
     "ae65e214ad474c4a9dd87e5562811f86": {
      "model_module": "@jupyter-widgets/base",
      "model_module_version": "2.0.0",
      "model_name": "LayoutModel",
      "state": {
       "_model_module": "@jupyter-widgets/base",
       "_model_module_version": "2.0.0",
       "_model_name": "LayoutModel",
       "_view_count": null,
       "_view_module": "@jupyter-widgets/base",
       "_view_module_version": "2.0.0",
       "_view_name": "LayoutView",
       "align_content": null,
       "align_items": null,
       "align_self": null,
       "border_bottom": null,
       "border_left": null,
       "border_right": null,
       "border_top": null,
       "bottom": null,
       "display": null,
       "flex": null,
       "flex_flow": null,
       "grid_area": null,
       "grid_auto_columns": null,
       "grid_auto_flow": null,
       "grid_auto_rows": null,
       "grid_column": null,
       "grid_gap": null,
       "grid_row": null,
       "grid_template_areas": null,
       "grid_template_columns": null,
       "grid_template_rows": null,
       "height": null,
       "justify_content": null,
       "justify_items": null,
       "left": null,
       "margin": null,
       "max_height": null,
       "max_width": null,
       "min_height": null,
       "min_width": null,
       "object_fit": null,
       "object_position": null,
       "order": null,
       "overflow": null,
       "padding": null,
       "right": null,
       "top": null,
       "visibility": null,
       "width": null
      }
     },
     "b2b5ae956d9a48d1a60fff0c466c5ad3": {
      "model_module": "@jupyter-widgets/controls",
      "model_module_version": "2.0.0",
      "model_name": "HTMLModel",
      "state": {
       "_dom_classes": [],
       "_model_module": "@jupyter-widgets/controls",
       "_model_module_version": "2.0.0",
       "_model_name": "HTMLModel",
       "_view_count": null,
       "_view_module": "@jupyter-widgets/controls",
       "_view_module_version": "2.0.0",
       "_view_name": "HTMLView",
       "description": "",
       "description_allow_html": false,
       "layout": "IPY_MODEL_ae65e214ad474c4a9dd87e5562811f86",
       "placeholder": "​",
       "style": "IPY_MODEL_e3ca69ccc49f4f7fbd3a78a07aa3c67d",
       "tabbable": null,
       "tooltip": null,
       "value": ""
      }
     },
     "bb4ff829631a4c0ba693f67025c5026a": {
      "model_module": "@jupyter-widgets/controls",
      "model_module_version": "2.0.0",
      "model_name": "ProgressStyleModel",
      "state": {
       "_model_module": "@jupyter-widgets/controls",
       "_model_module_version": "2.0.0",
       "_model_name": "ProgressStyleModel",
       "_view_count": null,
       "_view_module": "@jupyter-widgets/base",
       "_view_module_version": "2.0.0",
       "_view_name": "StyleView",
       "bar_color": null,
       "description_width": ""
      }
     },
     "c20efaf819a74869a14435deb83542c0": {
      "model_module": "@jupyter-widgets/base",
      "model_module_version": "2.0.0",
      "model_name": "LayoutModel",
      "state": {
       "_model_module": "@jupyter-widgets/base",
       "_model_module_version": "2.0.0",
       "_model_name": "LayoutModel",
       "_view_count": null,
       "_view_module": "@jupyter-widgets/base",
       "_view_module_version": "2.0.0",
       "_view_name": "LayoutView",
       "align_content": null,
       "align_items": null,
       "align_self": null,
       "border_bottom": null,
       "border_left": null,
       "border_right": null,
       "border_top": null,
       "bottom": null,
       "display": null,
       "flex": null,
       "flex_flow": null,
       "grid_area": null,
       "grid_auto_columns": null,
       "grid_auto_flow": null,
       "grid_auto_rows": null,
       "grid_column": null,
       "grid_gap": null,
       "grid_row": null,
       "grid_template_areas": null,
       "grid_template_columns": null,
       "grid_template_rows": null,
       "height": null,
       "justify_content": null,
       "justify_items": null,
       "left": null,
       "margin": null,
       "max_height": null,
       "max_width": null,
       "min_height": null,
       "min_width": null,
       "object_fit": null,
       "object_position": null,
       "order": null,
       "overflow": null,
       "padding": null,
       "right": null,
       "top": null,
       "visibility": null,
       "width": null
      }
     },
     "c687feeed542453e89b3e09a737706de": {
      "model_module": "@jupyter-widgets/controls",
      "model_module_version": "2.0.0",
      "model_name": "HTMLModel",
      "state": {
       "_dom_classes": [],
       "_model_module": "@jupyter-widgets/controls",
       "_model_module_version": "2.0.0",
       "_model_name": "HTMLModel",
       "_view_count": null,
       "_view_module": "@jupyter-widgets/controls",
       "_view_module_version": "2.0.0",
       "_view_name": "HTMLView",
       "description": "",
       "description_allow_html": false,
       "layout": "IPY_MODEL_49355acb80f84d428cb7573c61a30329",
       "placeholder": "​",
       "style": "IPY_MODEL_a98f144f044848d0afd0bd8aefd86e75",
       "tabbable": null,
       "tooltip": null,
       "value": " 200/200 [00:06&lt;00:00, 30.20it/s]"
      }
     },
     "c8aea9425bd343dea600b2041b4ae3b7": {
      "model_module": "@jupyter-widgets/controls",
      "model_module_version": "2.0.0",
      "model_name": "ProgressStyleModel",
      "state": {
       "_model_module": "@jupyter-widgets/controls",
       "_model_module_version": "2.0.0",
       "_model_name": "ProgressStyleModel",
       "_view_count": null,
       "_view_module": "@jupyter-widgets/base",
       "_view_module_version": "2.0.0",
       "_view_name": "StyleView",
       "bar_color": null,
       "description_width": ""
      }
     },
     "d37f072fd2584cb094e349e50066bac2": {
      "model_module": "@jupyter-widgets/controls",
      "model_module_version": "2.0.0",
      "model_name": "HBoxModel",
      "state": {
       "_dom_classes": [],
       "_model_module": "@jupyter-widgets/controls",
       "_model_module_version": "2.0.0",
       "_model_name": "HBoxModel",
       "_view_count": null,
       "_view_module": "@jupyter-widgets/controls",
       "_view_module_version": "2.0.0",
       "_view_name": "HBoxView",
       "box_style": "",
       "children": [
        "IPY_MODEL_28512f52847a479f8c917d9d04cdd1a5",
        "IPY_MODEL_f311969e43ee47ac92ed4beac4d6e02e",
        "IPY_MODEL_d6f9211ea4044595b3972b9b17d115aa"
       ],
       "layout": "IPY_MODEL_5d43059f43664a0e99d70e97ee8f011c",
       "tabbable": null,
       "tooltip": null
      }
     },
     "d45199e47ad94afcbe86335ac3f109c6": {
      "model_module": "@jupyter-widgets/controls",
      "model_module_version": "2.0.0",
      "model_name": "FloatProgressModel",
      "state": {
       "_dom_classes": [],
       "_model_module": "@jupyter-widgets/controls",
       "_model_module_version": "2.0.0",
       "_model_name": "FloatProgressModel",
       "_view_count": null,
       "_view_module": "@jupyter-widgets/controls",
       "_view_module_version": "2.0.0",
       "_view_name": "ProgressView",
       "bar_style": "success",
       "description": "",
       "description_allow_html": false,
       "layout": "IPY_MODEL_1d1a19b0c90343278caf120a6884304d",
       "max": 400.0,
       "min": 0.0,
       "orientation": "horizontal",
       "style": "IPY_MODEL_c8aea9425bd343dea600b2041b4ae3b7",
       "tabbable": null,
       "tooltip": null,
       "value": 400.0
      }
     },
     "d6f9211ea4044595b3972b9b17d115aa": {
      "model_module": "@jupyter-widgets/controls",
      "model_module_version": "2.0.0",
      "model_name": "HTMLModel",
      "state": {
       "_dom_classes": [],
       "_model_module": "@jupyter-widgets/controls",
       "_model_module_version": "2.0.0",
       "_model_name": "HTMLModel",
       "_view_count": null,
       "_view_module": "@jupyter-widgets/controls",
       "_view_module_version": "2.0.0",
       "_view_name": "HTMLView",
       "description": "",
       "description_allow_html": false,
       "layout": "IPY_MODEL_9be2e86494f14c90b0ac9feb63a401bc",
       "placeholder": "​",
       "style": "IPY_MODEL_f8dc109dfcc94946bb8add9a5565a1c6",
       "tabbable": null,
       "tooltip": null,
       "value": " 200/200 [00:01&lt;00:00, 204.26it/s]"
      }
     },
     "df038019373848ffb2a7e45fda673d85": {
      "model_module": "@jupyter-widgets/controls",
      "model_module_version": "2.0.0",
      "model_name": "HTMLStyleModel",
      "state": {
       "_model_module": "@jupyter-widgets/controls",
       "_model_module_version": "2.0.0",
       "_model_name": "HTMLStyleModel",
       "_view_count": null,
       "_view_module": "@jupyter-widgets/base",
       "_view_module_version": "2.0.0",
       "_view_name": "StyleView",
       "background": null,
       "description_width": "",
       "font_size": null,
       "text_color": null
      }
     },
     "df6d44d3564848c48180773d6902e8b7": {
      "model_module": "@jupyter-widgets/controls",
      "model_module_version": "2.0.0",
      "model_name": "HBoxModel",
      "state": {
       "_dom_classes": [],
       "_model_module": "@jupyter-widgets/controls",
       "_model_module_version": "2.0.0",
       "_model_name": "HBoxModel",
       "_view_count": null,
       "_view_module": "@jupyter-widgets/controls",
       "_view_module_version": "2.0.0",
       "_view_name": "HBoxView",
       "box_style": "",
       "children": [
        "IPY_MODEL_9ba57ed0ae4f4769933ed4c91a244803",
        "IPY_MODEL_78ee11a66f9e4696a8d44364e757bb72",
        "IPY_MODEL_c687feeed542453e89b3e09a737706de"
       ],
       "layout": "IPY_MODEL_ab7fc42c1f9d4e388cbc492be74a3237",
       "tabbable": null,
       "tooltip": null
      }
     },
     "e3ca69ccc49f4f7fbd3a78a07aa3c67d": {
      "model_module": "@jupyter-widgets/controls",
      "model_module_version": "2.0.0",
      "model_name": "HTMLStyleModel",
      "state": {
       "_model_module": "@jupyter-widgets/controls",
       "_model_module_version": "2.0.0",
       "_model_name": "HTMLStyleModel",
       "_view_count": null,
       "_view_module": "@jupyter-widgets/base",
       "_view_module_version": "2.0.0",
       "_view_name": "StyleView",
       "background": null,
       "description_width": "",
       "font_size": null,
       "text_color": null
      }
     },
     "ec724fe7b9e3403396392b7921b08f99": {
      "model_module": "@jupyter-widgets/controls",
      "model_module_version": "2.0.0",
      "model_name": "ProgressStyleModel",
      "state": {
       "_model_module": "@jupyter-widgets/controls",
       "_model_module_version": "2.0.0",
       "_model_name": "ProgressStyleModel",
       "_view_count": null,
       "_view_module": "@jupyter-widgets/base",
       "_view_module_version": "2.0.0",
       "_view_name": "StyleView",
       "bar_color": null,
       "description_width": ""
      }
     },
     "f311969e43ee47ac92ed4beac4d6e02e": {
      "model_module": "@jupyter-widgets/controls",
      "model_module_version": "2.0.0",
      "model_name": "FloatProgressModel",
      "state": {
       "_dom_classes": [],
       "_model_module": "@jupyter-widgets/controls",
       "_model_module_version": "2.0.0",
       "_model_name": "FloatProgressModel",
       "_view_count": null,
       "_view_module": "@jupyter-widgets/controls",
       "_view_module_version": "2.0.0",
       "_view_name": "ProgressView",
       "bar_style": "success",
       "description": "",
       "description_allow_html": false,
       "layout": "IPY_MODEL_1d03cc3ef05948b6b3156818a8846f13",
       "max": 200.0,
       "min": 0.0,
       "orientation": "horizontal",
       "style": "IPY_MODEL_ec724fe7b9e3403396392b7921b08f99",
       "tabbable": null,
       "tooltip": null,
       "value": 200.0
      }
     },
     "f4ff84d3186b4408876cf2fe0a2f32c7": {
      "model_module": "@jupyter-widgets/controls",
      "model_module_version": "2.0.0",
      "model_name": "HTMLModel",
      "state": {
       "_dom_classes": [],
       "_model_module": "@jupyter-widgets/controls",
       "_model_module_version": "2.0.0",
       "_model_name": "HTMLModel",
       "_view_count": null,
       "_view_module": "@jupyter-widgets/controls",
       "_view_module_version": "2.0.0",
       "_view_name": "HTMLView",
       "description": "",
       "description_allow_html": false,
       "layout": "IPY_MODEL_acae20374f5e437293916b301f475a05",
       "placeholder": "​",
       "style": "IPY_MODEL_74ceee5537ca48e1910108e3a489c891",
       "tabbable": null,
       "tooltip": null,
       "value": "100%"
      }
     },
     "f8dc109dfcc94946bb8add9a5565a1c6": {
      "model_module": "@jupyter-widgets/controls",
      "model_module_version": "2.0.0",
      "model_name": "HTMLStyleModel",
      "state": {
       "_model_module": "@jupyter-widgets/controls",
       "_model_module_version": "2.0.0",
       "_model_name": "HTMLStyleModel",
       "_view_count": null,
       "_view_module": "@jupyter-widgets/base",
       "_view_module_version": "2.0.0",
       "_view_name": "StyleView",
       "background": null,
       "description_width": "",
       "font_size": null,
       "text_color": null
      }
     }
    },
    "version_major": 2,
    "version_minor": 0
   }
  }
 },
 "nbformat": 4,
 "nbformat_minor": 5
}
