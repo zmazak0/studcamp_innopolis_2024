{
  "nbformat": 4,
  "nbformat_minor": 0,
  "metadata": {
    "colab": {
      "provenance": []
    },
    "kernelspec": {
      "name": "python3",
      "display_name": "Python 3"
    },
    "language_info": {
      "name": "python"
    }
  },
  "cells": [
    {
      "cell_type": "code",
      "source": [
        "!pip install --quiet -U langgraph langchain-community langchain-openai tavily-python python-pptx-interface"
      ],
      "metadata": {
        "id": "GRuuPKWDrSDr"
      },
      "execution_count": null,
      "outputs": []
    },
    {
      "cell_type": "code",
      "source": [
        "import getpass\n",
        "import os\n",
        "\n",
        "def _set_if_undefined(var: str):\n",
        "    if not os.environ.get(var):\n",
        "        os.environ[var] = getpass.getpass(f\"Please provide your {var}\")\n",
        "\n",
        "_set_if_undefined(\"OPENAI_API_KEY\")\n",
        "_set_if_undefined(\"LANGCHAIN_API_KEY\")\n",
        "\n",
        "# Optional, add tracing in LangSmith.\n",
        "# This will help you visualize and debug the control flow\n",
        "os.environ[\"LANGCHAIN_TRACING_V2\"] = \"true\"\n",
        "os.environ[\"LANGCHAIN_PROJECT\"] = \"Multi-agent pptx\""
      ],
      "metadata": {
        "colab": {
          "base_uri": "https://localhost:8080/"
        },
        "id": "5vmGEQxwrbl6",
        "outputId": "9fbfaf61-8ae0-46e6-f46f-f5a971591df3"
      },
      "execution_count": null,
      "outputs": [
        {
          "name": "stdout",
          "output_type": "stream",
          "text": [
            "Please provide your OPENAI_API_KEY··········\n",
            "Please provide your LANGCHAIN_API_KEY··········\n"
          ]
        }
      ]
    },
    {
      "cell_type": "code",
      "source": [
        "import pandas as pd\n",
        "\n",
        "df = pd.DataFrame()\n",
        "df['year'] = [2002, 2003, 2004, 2005, 2006]\n",
        "df['value'] = [1213.2, 2341.2, 2741.2, 2003.2, 2453.2]\n",
        "df[:3].to_excel('data.xlsx', index=False)\n",
        "\n",
        "print(df[:3].to_markdown())"
      ],
      "metadata": {
        "colab": {
          "base_uri": "https://localhost:8080/"
        },
        "id": "89_w0w7wBnD-",
        "outputId": "82fb8b1a-68ad-4e46-b2a3-291a9476b148"
      },
      "execution_count": null,
      "outputs": [
        {
          "output_type": "stream",
          "name": "stdout",
          "text": [
            "|    |   year |   value |\n",
            "|---:|-------:|--------:|\n",
            "|  0 |   2002 |  1213.2 |\n",
            "|  1 |   2003 |  2341.2 |\n",
            "|  2 |   2004 |  2741.2 |\n"
          ]
        }
      ]
    },
    {
      "cell_type": "code",
      "source": [
        "from typing import Annotated, List, TypedDict\n",
        "from langchain_core.tools import tool\n",
        "\n",
        "\n",
        "@tool\n",
        "def read_table(\n",
        "    file_name: Annotated[str, \"The table file path.\"],\n",
        "    ) -> Annotated[str, \"Table as Markdown.\"]:\n",
        "    \"\"\"Read the xlsx file with the table and return it to Markdown.\"\"\"\n",
        "\n",
        "    df = pd.read_excel(file_name)\n",
        "    return df.to_markdown()\n",
        "\n",
        "\n",
        "@tool\n",
        "def read_document(\n",
        "    file_name: Annotated[str, \"The document file path.\"],\n",
        ") -> Annotated[str, \"Data from file.\"]:\n",
        "    \"\"\"Read the specified txt document.\"\"\"\n",
        "\n",
        "    with open(file_name, \"r\") as file:\n",
        "        data = file.read()\n",
        "    return data"
      ],
      "metadata": {
        "id": "Htfr-8ivrnKM"
      },
      "execution_count": null,
      "outputs": []
    },
    {
      "cell_type": "code",
      "source": [
        "import os\n",
        "from pptx_tools.creator import PPTXCreator\n",
        "from pptx_tools.position import PPTXPosition\n",
        "\n",
        "\n",
        "@tool\n",
        "def insert_table_to_presentation(\n",
        "    table_data: Annotated[list[list], \"Outer iter -> rows, inner iter -> cols.\"],\n",
        ") -> Annotated[str, \"Result.\"]:\n",
        "    \"\"\"Insert a table shape with given table_data to presentation.\n",
        "    For example, the table:\n",
        "    |    | column_1   | column_2   |\n",
        "    |---:|:-----------|:-----------|\n",
        "    |  0 | value_1    | value_2    |\n",
        "    |  1 | value_3    | value_4    |\n",
        "    should be given in this format:\n",
        "    table_data=[['column_1','column_2'], ['value_1','value_2'], ['value_3','value_4']]\"\"\"\n",
        "\n",
        "    pp = PPTXCreator()\n",
        "    slide_01 = pp.add_slide(\"\")\n",
        "    pp.add_table(slide_01, table_data, PPTXPosition(0.02, 0.14))\n",
        "    pp.save(\"table_style_example_01.pptx\", overwrite=True)\n",
        "\n",
        "    return 'Success'"
      ],
      "metadata": {
        "id": "fe2pkXLeFxfO"
      },
      "execution_count": null,
      "outputs": []
    },
    {
      "cell_type": "code",
      "source": [
        "from typing import List, Optional\n",
        "\n",
        "from langchain.agents import AgentExecutor, create_openai_functions_agent\n",
        "from langchain.output_parsers.openai_functions import JsonOutputFunctionsParser\n",
        "from langchain_core.prompts import ChatPromptTemplate, MessagesPlaceholder\n",
        "from langchain_openai import ChatOpenAI\n",
        "\n",
        "from langgraph.graph import END, StateGraph, START\n",
        "\n",
        "\n",
        "def create_agent(\n",
        "    llm: ChatOpenAI,\n",
        "    tools: list,\n",
        "    system_prompt: str,\n",
        ") -> str:\n",
        "    \"\"\"Create a function-calling agent and add it to the graph.\"\"\"\n",
        "\n",
        "    system_prompt += \"Work autonomously according to your specialty, using the tools available to you.\"\n",
        "    prompt = ChatPromptTemplate.from_messages(\n",
        "        [\n",
        "            (\n",
        "                \"system\",\n",
        "                system_prompt,\n",
        "            ),\n",
        "            MessagesPlaceholder(variable_name=\"messages\"),\n",
        "            MessagesPlaceholder(variable_name=\"agent_scratchpad\"),\n",
        "        ]\n",
        "    )\n",
        "    agent = create_openai_functions_agent(llm, tools, prompt)\n",
        "    executor = AgentExecutor(agent=agent, tools=tools)\n",
        "    return executor\n",
        "\n",
        "\n",
        "def agent_node(state, agent, name):\n",
        "    result = agent.invoke(state)\n",
        "    return {\"messages\": [HumanMessage(content=result[\"output\"], name=name)]}\n",
        "\n",
        "\n",
        "def create_team_supervisor(llm: ChatOpenAI, system_prompt, members) -> str:\n",
        "    \"\"\"An LLM-based router.\"\"\"\n",
        "    options = [\"FINISH\"] + members\n",
        "    function_def = {\n",
        "        \"name\": \"route\",\n",
        "        \"description\": \"Select the next role.\",\n",
        "        \"parameters\": {\n",
        "            \"title\": \"routeSchema\",\n",
        "            \"type\": \"object\",\n",
        "            \"properties\": {\n",
        "                \"next\": {\n",
        "                    \"title\": \"Next\",\n",
        "                    \"anyOf\": [\n",
        "                        {\"enum\": options},\n",
        "                    ],\n",
        "                },\n",
        "            },\n",
        "            \"required\": [\"next\"],\n",
        "        },\n",
        "    }\n",
        "    prompt = ChatPromptTemplate.from_messages(\n",
        "        [\n",
        "            (\"system\", system_prompt),\n",
        "            MessagesPlaceholder(variable_name=\"messages\"),\n",
        "            (\n",
        "                \"system\",\n",
        "                \"Given the conversation above, who should act next?\"\n",
        "                \" Or should we FINISH? Select one of: {options}\",\n",
        "            ),\n",
        "        ]\n",
        "    ).partial(options=str(options), team_members=\", \".join(members))\n",
        "    return (\n",
        "        prompt\n",
        "        | llm.bind_functions(functions=[function_def], function_call=\"route\")\n",
        "        | JsonOutputFunctionsParser()\n",
        "    )"
      ],
      "metadata": {
        "id": "IbztmIm5we0d"
      },
      "execution_count": null,
      "outputs": []
    },
    {
      "cell_type": "code",
      "source": [
        "import functools\n",
        "import operator\n",
        "\n",
        "from langchain_core.messages import BaseMessage, HumanMessage\n",
        "from langchain_openai.chat_models import ChatOpenAI\n",
        "\n",
        "\n",
        "\n",
        "class TeamState(TypedDict):\n",
        "    # A message is added after each team member finishes\n",
        "    messages: Annotated[List[BaseMessage], operator.add]\n",
        "    # The team members are tracked so they are aware of\n",
        "    # the others' skill-sets\n",
        "    team_members: List[str]\n",
        "    # Used to route work. The supervisor calls a function\n",
        "    # that will update this every time it makes a decision\n",
        "    next: str\n",
        "\n",
        "\n",
        "llm = ChatOpenAI(model=\"gpt-4o-mini\")\n",
        "\n",
        "file_reader_agent = create_agent(\n",
        "    llm,\n",
        "    [read_table, read_document],\n",
        "    \"You are a file_reader assistant who can read excel files with tables and txtx files.\",\n",
        ")\n",
        "file_read_node = functools.partial(agent_node, agent=file_reader_agent, name=\"FileReader\")\n",
        "\n",
        "presentation_editor_agent = create_agent(\n",
        "    llm,\n",
        "    [insert_table_to_presentation],\n",
        "    \"You are an assistant who can edit presentations and add tables to them\",\n",
        ")\n",
        "presentation_edit_node = functools.partial(agent_node, agent=presentation_editor_agent, name=\"PresentationEditor\")\n",
        "\n",
        "supervisor_agent = create_team_supervisor(\n",
        "    llm,\n",
        "    \"You are a supervisor tasked with managing a conversation between the\"\n",
        "    \" following workers: FileReader, PresentationEditor. Given the following user request,\"\n",
        "    \" respond with the worker to act next. Each worker will perform a\"\n",
        "    \" task and respond with their results and status. When finished,\"\n",
        "    \" respond with FINISH.\",\n",
        "    [\"FileReader\", \"PresentationEditor\"],\n",
        ")"
      ],
      "metadata": {
        "id": "FC7NXwt5wm9F"
      },
      "execution_count": null,
      "outputs": []
    },
    {
      "cell_type": "code",
      "source": [
        "research_graph = StateGraph(TeamState)\n",
        "research_graph.add_node(\"FileReader\", file_read_node)\n",
        "research_graph.add_node(\"PresentationEditor\", presentation_edit_node)\n",
        "research_graph.add_node(\"supervisor\", supervisor_agent)\n",
        "\n",
        "# Define the control flow\n",
        "research_graph.add_edge(\"FileReader\", \"supervisor\")\n",
        "research_graph.add_edge(\"PresentationEditor\", \"supervisor\")\n",
        "research_graph.add_conditional_edges(\n",
        "    \"supervisor\",\n",
        "    lambda x: x[\"next\"],\n",
        "    {\"FileReader\": \"FileReader\", \"PresentationEditor\": \"PresentationEditor\", \"FINISH\": END},\n",
        ")\n",
        "\n",
        "\n",
        "research_graph.add_edge(START, \"supervisor\")\n",
        "chain = research_graph.compile()\n",
        "\n",
        "\n",
        "# The following functions interoperate between the top level graph state\n",
        "# and the state of the research sub-graph\n",
        "# this makes it so that the states of each graph don't get intermixed\n",
        "def enter_chain(message: str):\n",
        "    results = {\n",
        "        \"messages\": [HumanMessage(content=message)],\n",
        "    }\n",
        "    return results\n",
        "\n",
        "\n",
        "research_chain = enter_chain | chain"
      ],
      "metadata": {
        "id": "Ptc86ZBXwqr8"
      },
      "execution_count": null,
      "outputs": []
    },
    {
      "cell_type": "code",
      "source": [
        "from IPython.display import Image, display\n",
        "\n",
        "display(Image(chain.get_graph(xray=True).draw_mermaid_png()))"
      ],
      "metadata": {
        "colab": {
          "base_uri": "https://localhost:8080/",
          "height": 423
        },
        "id": "3MoBRbsvxo-M",
        "outputId": "3373e75f-8cdb-4312-f143-feb58b42d667"
      },
      "execution_count": null,
      "outputs": [
        {
          "output_type": "display_data",
          "data": {
            "image/jpeg": "[encoded data removed]",
            "text/plain": [
              "<IPython.core.display.Image object>"
            ]
          },
          "metadata": {}
        }
      ]
    },
    {
      "cell_type": "code",
      "source": [
        "supervisor_node = create_team_supervisor(\n",
        "    llm,\n",
        "    \"You are a supervisor tasked with managing a conversation between the\"\n",
        "    \" following workers: {team_members}. Given the following user request,\"\n",
        "    \" respond with the worker to act next. Each worker will perform a\"\n",
        "    \" task and respond with their results and status. When finished,\"\n",
        "    \" respond with FINISH.\",\n",
        "    [\"FileReader\", \"PresentationEditor\"],\n",
        ")"
      ],
      "metadata": {
        "id": "X1gSOOjr1nh-"
      },
      "execution_count": null,
      "outputs": []
    },
    {
      "cell_type": "code",
      "source": [
        "supervisor_node"
      ],
      "metadata": {
        "colab": {
          "base_uri": "https://localhost:8080/"
        },
        "id": "hVNcTOKkW985",
        "outputId": "d21280f5-9142-4785-dff6-2bfbc3003abd"
      },
      "execution_count": null,
      "outputs": [
        {
          "output_type": "execute_result",
          "data": {
            "text/plain": [
              "ChatPromptTemplate(input_variables=['messages'], input_types={'messages': typing.List[typing.Union[langchain_core.messages.ai.AIMessage, langchain_core.messages.human.HumanMessage, langchain_core.messages.chat.ChatMessage, langchain_core.messages.system.SystemMessage, langchain_core.messages.function.FunctionMessage, langchain_core.messages.tool.ToolMessage]]}, partial_variables={'options': \"['FINISH', 'FileReader', 'PresentationEditor']\", 'team_members': 'FileReader, PresentationEditor'}, messages=[SystemMessagePromptTemplate(prompt=PromptTemplate(input_variables=['team_members'], template='You are a supervisor tasked with managing a conversation between the following workers: {team_members}. Given the following user request, respond with the worker to act next. Each worker will perform a task and respond with their results and status. When finished, respond with FINISH.')), MessagesPlaceholder(variable_name='messages'), SystemMessagePromptTemplate(prompt=PromptTemplate(input_variables=['options'], template='Given the conversation above, who should act next? Or should we FINISH? Select one of: {options}'))])\n",
              "| RunnableBinding(bound=ChatOpenAI(client=<openai.resources.chat.completions.Completions object at 0x7885a9c28d00>, async_client=<openai.resources.chat.completions.AsyncCompletions object at 0x7885a9c2a110>, model_name='gpt-4o-mini', openai_api_key=SecretStr('**********'), openai_proxy=''), kwargs={'functions': [{'name': 'route', 'description': 'Select the next role.', 'parameters': {'title': 'routeSchema', 'type': 'object', 'properties': {'next': {'title': 'Next', 'anyOf': [{'enum': ['FINISH', 'FileReader', 'PresentationEditor']}]}}, 'required': ['next']}}], 'function_call': {'name': 'route'}})\n",
              "| JsonOutputFunctionsParser()"
            ]
          },
          "metadata": {},
          "execution_count": 30
        }
      ]
    },
    {
      "cell_type": "code",
      "source": [
        "from langchain_core.messages import BaseMessage\n",
        "from langchain_openai.chat_models import ChatOpenAI"
      ],
      "metadata": {
        "id": "EJSa8tt-2JXL"
      },
      "execution_count": null,
      "outputs": []
    },
    {
      "cell_type": "code",
      "source": [
        "# Top-level graph state\n",
        "class State(TypedDict):\n",
        "    messages: Annotated[List[BaseMessage], operator.add]\n",
        "    next: str\n",
        "\n",
        "\n",
        "def get_last_message(state: State) -> str:\n",
        "    return state[\"messages\"][-1].content\n",
        "\n",
        "\n",
        "def join_graph(response: dict):\n",
        "    return {\"messages\": [response[\"messages\"][-1]]}\n",
        "\n",
        "\n",
        "# Define the graph.\n",
        "super_graph = StateGraph(State)\n",
        "# First add the nodes, which will do the work\n",
        "super_graph.add_node(\"FileReader\", file_read_node)\n",
        "super_graph.add_node(\"PresentationEditor\",presentation_edit_node)\n",
        "super_graph.add_node(\"supervisor\", supervisor_node)\n",
        "\n",
        "# Define the graph connections, which controls how the logic\n",
        "# propagates through the program\n",
        "super_graph.add_edge(\"FileReader\", \"supervisor\")\n",
        "super_graph.add_edge(\"PresentationEditor\", \"supervisor\")\n",
        "super_graph.add_conditional_edges(\n",
        "    \"supervisor\",\n",
        "    lambda x: x[\"next\"],\n",
        "    {\n",
        "        \"FileReader\": \"FileReader\",\n",
        "        \"PresentationEditor\": \"PresentationEditor\",\n",
        "        \"FINISH\": END,\n",
        "    },\n",
        ")\n",
        "super_graph.add_edge(START, \"supervisor\")\n",
        "super_graph = super_graph.compile()"
      ],
      "metadata": {
        "id": "i85SsBix2Nsu"
      },
      "execution_count": null,
      "outputs": []
    },
    {
      "cell_type": "code",
      "source": [
        "from IPython.display import Image, display\n",
        "\n",
        "display(Image(super_graph.get_graph().draw_mermaid_png()))"
      ],
      "metadata": {
        "colab": {
          "base_uri": "https://localhost:8080/",
          "height": 255
        },
        "id": "yENgX0FJ2Pz_",
        "outputId": "b634c7fe-a1aa-4150-fbcb-374216faeaf2"
      },
      "execution_count": null,
      "outputs": [
        {
          "output_type": "display_data",
          "data": {
            "image/jpeg": "[encoded data removed]",
            "text/plain": [
              "<IPython.core.display.Image object>"
            ]
          },
          "metadata": {}
        }
      ]
    },
    {
      "cell_type": "code",
      "source": [
        "for s in super_graph.stream(\n",
        "    {\n",
        "        \"messages\": [\n",
        "            HumanMessage(\n",
        "                content=\"Add table from data.xlsx to presentation\"\n",
        "            )\n",
        "        ],\n",
        "    },\n",
        "    {\"recursion_limit\": 10},\n",
        "):\n",
        "    if \"__end__\" not in s:\n",
        "        print(s)\n",
        "        print(\"---\")"
      ],
      "metadata": {
        "colab": {
          "base_uri": "https://localhost:8080/"
        },
        "id": "ycnJsI4X2RyQ",
        "outputId": "53b055db-035e-4b35-daa9-8ce9b099f29b"
      },
      "execution_count": null,
      "outputs": [
        {
          "output_type": "stream",
          "name": "stdout",
          "text": [
            "{'supervisor': {'next': 'FileReader'}}\n",
            "---\n",
            "{'FileReader': {'messages': [HumanMessage(content=\"Here's the table extracted from the `data.xlsx` file:\\n\\n| Year | Value  |\\n|------|--------|\\n| 2002 | 1213.2 |\\n| 2003 | 2341.2 |\\n| 2004 | 2741.2 |\\n\\nYou can now add this table to your presentation. Let me know if you need further assistance!\", name='FileReader')]}}\n",
            "---\n",
            "{'supervisor': {'next': 'PresentationEditor'}}\n",
            "---\n",
            "{'PresentationEditor': {'messages': [HumanMessage(content='The table has been successfully added to the presentation. If you need any further assistance or modifications, feel free to ask!', name='PresentationEditor')]}}\n",
            "---\n",
            "{'supervisor': {'next': 'FINISH'}}\n",
            "---\n"
          ]
        }
      ]
    },
    {
      "cell_type": "code",
      "source": [
        "for s in super_graph.stream(\n",
        "    {\n",
        "        \"messages\": [\n",
        "            HumanMessage(\n",
        "                content=\"Read info from data.txt, create table and add it to presentation\"\n",
        "            )\n",
        "        ],\n",
        "    },\n",
        "    {\"recursion_limit\": 10},\n",
        "):\n",
        "    if \"__end__\" not in s:\n",
        "        print(s)\n",
        "        print(\"---\")"
      ],
      "metadata": {
        "id": "Ole4ag8C3_yu",
        "colab": {
          "base_uri": "https://localhost:8080/"
        },
        "outputId": "2d623d96-485c-4dfd-946e-2125e0101c34"
      },
      "execution_count": null,
      "outputs": [
        {
          "output_type": "stream",
          "name": "stdout",
          "text": [
            "{'supervisor': {'next': 'FileReader'}}\n",
            "---\n",
            "{'FileReader': {'messages': [HumanMessage(content='The data from \"data.txt\" includes population information for the years 2001 to 2003. Here’s the table based on that information:\\n\\n| Year | Population |\\n|------|------------|\\n| 2001 | 30         |\\n| 2002 | 60         |\\n| 2003 | 100        |\\n\\nWould you like to do anything else with this table?', name='FileReader')]}}\n",
            "---\n",
            "{'supervisor': {'next': 'PresentationEditor'}}\n",
            "---\n",
            "{'PresentationEditor': {'messages': [HumanMessage(content='The table with population information for the years 2001 to 2003 has been successfully added to the presentation. If you need any further modifications or additional information, feel free to ask!', name='PresentationEditor')]}}\n",
            "---\n",
            "{'supervisor': {'next': 'FINISH'}}\n",
            "---\n"
          ]
        }
      ]
    },
    {
      "cell_type": "code",
      "source": [
        "for s in super_graph.stream(\n",
        "    {\n",
        "        \"messages\": [\n",
        "            HumanMessage(\n",
        "                content=\"Прочитай данные из файла data.txt, создай таблицу и добавь ее в презентацию\"\n",
        "            )\n",
        "        ],\n",
        "    },\n",
        "    {\"recursion_limit\": 10},\n",
        "):\n",
        "    if \"__end__\" not in s:\n",
        "        print(s)\n",
        "        print(\"---\")"
      ],
      "metadata": {
        "colab": {
          "base_uri": "https://localhost:8080/"
        },
        "id": "Ad-97r0AurKp",
        "outputId": "042daff6-43c9-48e6-8307-b9c0cef515db"
      },
      "execution_count": null,
      "outputs": [
        {
          "output_type": "stream",
          "name": "stdout",
          "text": [
            "{'supervisor': {'next': 'FileReader'}}\n",
            "---\n",
            "{'FileReader': {'messages': [HumanMessage(content='Из файла `data.txt` получены следующие данные:\\n\\n- В 2001 году население было 30 человек.\\n- В 2002 году население было 60 человек.\\n- В 2003 году население было 100 человек.\\n\\nНа основе этих данных можно создать таблицу:\\n\\n| Год  | Население |\\n|------|-----------|\\n| 2001 | 30        |\\n| 2002 | 60        |\\n| 2003 | 100       |\\n\\nЕсли вам нужно создать презентацию, пожалуйста, подтвердите, и я продолжу.', name='FileReader')]}}\n",
            "---\n",
            "{'supervisor': {'next': 'PresentationEditor'}}\n",
            "---\n",
            "{'PresentationEditor': {'messages': [HumanMessage(content='Таблица с данными о населении была успешно добавлена в презентацию. Если вам нужно что-то еще, дайте знать!', name='PresentationEditor')]}}\n",
            "---\n",
            "{'supervisor': {'next': 'FINISH'}}\n",
            "---\n"
          ]
        }
      ]
    },
    {
      "cell_type": "code",
      "source": [],
      "metadata": {
        "id": "WwYicgDMvWzl"
      },
      "execution_count": null,
      "outputs": []
    }
  ]
}