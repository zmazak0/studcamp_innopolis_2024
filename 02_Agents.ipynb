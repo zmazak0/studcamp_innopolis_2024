{
  "nbformat": 4,
  "nbformat_minor": 0,
  "metadata": {
    "colab": {
      "provenance": []
    },
    "kernelspec": {
      "name": "python3",
      "display_name": "Python 3"
    },
    "language_info": {
      "name": "python"
    }
  },
  "cells": [
    {
      "cell_type": "code",
      "source": [
        "pip install gigachain gigachain_community gigachain-cli duckduckgo-search pyfiglet"
      ],
      "metadata": {
        "colab": {
          "base_uri": "https://localhost:8080/"
        },
        "id": "x0bSfnbzUjCA",
        "outputId": "728b72c7-8ca2-458f-e058-0cc91d8d7b21"
      },
      "execution_count": null,
      "outputs": [
        {
          "output_type": "stream",
          "name": "stdout",
          "text": [
            "Requirement already satisfied: gigachain in /usr/local/lib/python3.10/dist-packages (0.2.6)\n",
            "Requirement already satisfied: gigachain_community in /usr/local/lib/python3.10/dist-packages (0.2.6)\n",
            "Requirement already satisfied: gigachain-cli in /usr/local/lib/python3.10/dist-packages (0.0.25)\n",
            "Requirement already satisfied: duckduckgo-search in /usr/local/lib/python3.10/dist-packages (6.2.4)\n",
            "Collecting pyfiglet\n",
            "  Downloading pyfiglet-1.0.2-py3-none-any.whl.metadata (7.1 kB)\n",
            "Requirement already satisfied: PyYAML>=5.3 in /usr/local/lib/python3.10/dist-packages (from gigachain) (6.0.1)\n",
            "Requirement already satisfied: SQLAlchemy<3,>=1.4 in /usr/local/lib/python3.10/dist-packages (from gigachain) (2.0.31)\n",
            "Requirement already satisfied: aiohttp<4.0.0,>=3.8.3 in /usr/local/lib/python3.10/dist-packages (from gigachain) (3.9.5)\n",
            "Requirement already satisfied: async-timeout<5.0.0,>=4.0.0 in /usr/local/lib/python3.10/dist-packages (from gigachain) (4.0.3)\n",
            "Requirement already satisfied: gigachain-core<0.3.0,>=0.2.10 in /usr/local/lib/python3.10/dist-packages (from gigachain) (0.2.10.post1)\n",
            "Requirement already satisfied: gigachain-text-splitters<0.3.0,>=0.2.0 in /usr/local/lib/python3.10/dist-packages (from gigachain) (0.2.2)\n",
            "Requirement already satisfied: gigachat<0.2.0,>=0.1.31 in /usr/local/lib/python3.10/dist-packages (from gigachain) (0.1.31)\n",
            "Requirement already satisfied: langsmith<0.2.0,>=0.1.17 in /usr/local/lib/python3.10/dist-packages (from gigachain) (0.1.93)\n",
            "Requirement already satisfied: numpy<2,>=1 in /usr/local/lib/python3.10/dist-packages (from gigachain) (1.25.2)\n",
            "Requirement already satisfied: pydantic<3,>=1 in /usr/local/lib/python3.10/dist-packages (from gigachain) (2.8.2)\n",
            "Requirement already satisfied: requests<3,>=2 in /usr/local/lib/python3.10/dist-packages (from gigachain) (2.31.0)\n",
            "Requirement already satisfied: tenacity!=8.4.0,<9.0.0,>=8.1.0 in /usr/local/lib/python3.10/dist-packages (from gigachain) (8.5.0)\n",
            "Requirement already satisfied: dataclasses-json<0.7,>=0.5.7 in /usr/local/lib/python3.10/dist-packages (from gigachain_community) (0.6.7)\n",
            "Requirement already satisfied: google-auth-httplib2<0.3.0,>=0.2.0 in /usr/local/lib/python3.10/dist-packages (from gigachain_community) (0.2.0)\n",
            "Requirement already satisfied: httplib2<0.23.0,>=0.22.0 in /usr/local/lib/python3.10/dist-packages (from gigachain_community) (0.22.0)\n",
            "Requirement already satisfied: gigaserve>=0.0.51 in /usr/local/lib/python3.10/dist-packages (from gigaserve[all]>=0.0.51->gigachain-cli) (0.2.2)\n",
            "Requirement already satisfied: gitpython<4.0.0,>=3.1.40 in /usr/local/lib/python3.10/dist-packages (from gigachain-cli) (3.1.43)\n",
            "Requirement already satisfied: libcst<2.0.0,>=1.3.1 in /usr/local/lib/python3.10/dist-packages (from gigachain-cli) (1.4.0)\n",
            "Requirement already satisfied: tomlkit<0.13.0,>=0.12.2 in /usr/local/lib/python3.10/dist-packages (from gigachain-cli) (0.12.5)\n",
            "Requirement already satisfied: typer<0.10.0,>=0.9.0 in /usr/local/lib/python3.10/dist-packages (from typer[all]<0.10.0,>=0.9.0->gigachain-cli) (0.9.4)\n",
            "Requirement already satisfied: uvicorn<0.24.0,>=0.23.2 in /usr/local/lib/python3.10/dist-packages (from gigachain-cli) (0.23.2)\n",
            "Requirement already satisfied: click>=8.1.7 in /usr/local/lib/python3.10/dist-packages (from duckduckgo-search) (8.1.7)\n",
            "Requirement already satisfied: primp>=0.5.4 in /usr/local/lib/python3.10/dist-packages (from duckduckgo-search) (0.5.4)\n",
            "Requirement already satisfied: aiosignal>=1.1.2 in /usr/local/lib/python3.10/dist-packages (from aiohttp<4.0.0,>=3.8.3->gigachain) (1.3.1)\n",
            "Requirement already satisfied: attrs>=17.3.0 in /usr/local/lib/python3.10/dist-packages (from aiohttp<4.0.0,>=3.8.3->gigachain) (23.2.0)\n",
            "Requirement already satisfied: frozenlist>=1.1.1 in /usr/local/lib/python3.10/dist-packages (from aiohttp<4.0.0,>=3.8.3->gigachain) (1.4.1)\n",
            "Requirement already satisfied: multidict<7.0,>=4.5 in /usr/local/lib/python3.10/dist-packages (from aiohttp<4.0.0,>=3.8.3->gigachain) (6.0.5)\n",
            "Requirement already satisfied: yarl<2.0,>=1.0 in /usr/local/lib/python3.10/dist-packages (from aiohttp<4.0.0,>=3.8.3->gigachain) (1.9.4)\n",
            "Requirement already satisfied: marshmallow<4.0.0,>=3.18.0 in /usr/local/lib/python3.10/dist-packages (from dataclasses-json<0.7,>=0.5.7->gigachain_community) (3.21.3)\n",
            "Requirement already satisfied: typing-inspect<1,>=0.4.0 in /usr/local/lib/python3.10/dist-packages (from dataclasses-json<0.7,>=0.5.7->gigachain_community) (0.9.0)\n",
            "Requirement already satisfied: jsonpatch<2.0,>=1.33 in /usr/local/lib/python3.10/dist-packages (from gigachain-core<0.3.0,>=0.2.10->gigachain) (1.33)\n",
            "Requirement already satisfied: packaging<25,>=23.2 in /usr/local/lib/python3.10/dist-packages (from gigachain-core<0.3.0,>=0.2.10->gigachain) (24.1)\n",
            "Requirement already satisfied: httpx<1 in /usr/local/lib/python3.10/dist-packages (from gigachat<0.2.0,>=0.1.31->gigachain) (0.27.0)\n",
            "Requirement already satisfied: orjson>=2 in /usr/local/lib/python3.10/dist-packages (from gigaserve>=0.0.51->gigaserve[all]>=0.0.51->gigachain-cli) (3.10.6)\n",
            "Requirement already satisfied: pyproject-toml<0.0.11,>=0.0.10 in /usr/local/lib/python3.10/dist-packages (from gigaserve>=0.0.51->gigaserve[all]>=0.0.51->gigachain-cli) (0.0.10)\n",
            "Requirement already satisfied: fastapi<1,>=0.90.1 in /usr/local/lib/python3.10/dist-packages (from gigaserve[all]>=0.0.51->gigachain-cli) (0.110.3)\n",
            "Requirement already satisfied: sse-starlette<2.0.0,>=1.3.0 in /usr/local/lib/python3.10/dist-packages (from gigaserve[all]>=0.0.51->gigachain-cli) (1.8.2)\n",
            "Requirement already satisfied: gitdb<5,>=4.0.1 in /usr/local/lib/python3.10/dist-packages (from gitpython<4.0.0,>=3.1.40->gigachain-cli) (4.0.11)\n",
            "Requirement already satisfied: google-auth in /usr/local/lib/python3.10/dist-packages (from google-auth-httplib2<0.3.0,>=0.2.0->gigachain_community) (2.27.0)\n",
            "Requirement already satisfied: pyparsing!=3.0.0,!=3.0.1,!=3.0.2,!=3.0.3,<4,>=2.4.2 in /usr/local/lib/python3.10/dist-packages (from httplib2<0.23.0,>=0.22.0->gigachain_community) (3.1.2)\n",
            "Requirement already satisfied: annotated-types>=0.4.0 in /usr/local/lib/python3.10/dist-packages (from pydantic<3,>=1->gigachain) (0.7.0)\n",
            "Requirement already satisfied: pydantic-core==2.20.1 in /usr/local/lib/python3.10/dist-packages (from pydantic<3,>=1->gigachain) (2.20.1)\n",
            "Requirement already satisfied: typing-extensions>=4.6.1 in /usr/local/lib/python3.10/dist-packages (from pydantic<3,>=1->gigachain) (4.12.2)\n",
            "Requirement already satisfied: charset-normalizer<4,>=2 in /usr/local/lib/python3.10/dist-packages (from requests<3,>=2->gigachain) (3.3.2)\n",
            "Requirement already satisfied: idna<4,>=2.5 in /usr/local/lib/python3.10/dist-packages (from requests<3,>=2->gigachain) (3.7)\n",
            "Requirement already satisfied: urllib3<3,>=1.21.1 in /usr/local/lib/python3.10/dist-packages (from requests<3,>=2->gigachain) (2.0.7)\n",
            "Requirement already satisfied: certifi>=2017.4.17 in /usr/local/lib/python3.10/dist-packages (from requests<3,>=2->gigachain) (2024.7.4)\n",
            "Requirement already satisfied: greenlet!=0.4.17 in /usr/local/lib/python3.10/dist-packages (from SQLAlchemy<3,>=1.4->gigachain) (3.0.3)\n",
            "Requirement already satisfied: colorama<0.5.0,>=0.4.3 in /usr/local/lib/python3.10/dist-packages (from typer[all]<0.10.0,>=0.9.0->gigachain-cli) (0.4.6)\n",
            "Requirement already satisfied: shellingham<2.0.0,>=1.3.0 in /usr/local/lib/python3.10/dist-packages (from typer[all]<0.10.0,>=0.9.0->gigachain-cli) (1.5.4)\n",
            "Requirement already satisfied: rich<14.0.0,>=10.11.0 in /usr/local/lib/python3.10/dist-packages (from typer[all]<0.10.0,>=0.9.0->gigachain-cli) (13.7.1)\n",
            "Requirement already satisfied: h11>=0.8 in /usr/local/lib/python3.10/dist-packages (from uvicorn<0.24.0,>=0.23.2->gigachain-cli) (0.14.0)\n",
            "Requirement already satisfied: starlette<0.38.0,>=0.37.2 in /usr/local/lib/python3.10/dist-packages (from fastapi<1,>=0.90.1->gigaserve[all]>=0.0.51->gigachain-cli) (0.37.2)\n",
            "Requirement already satisfied: smmap<6,>=3.0.1 in /usr/local/lib/python3.10/dist-packages (from gitdb<5,>=4.0.1->gitpython<4.0.0,>=3.1.40->gigachain-cli) (5.0.1)\n",
            "Requirement already satisfied: anyio in /usr/local/lib/python3.10/dist-packages (from httpx<1->gigachat<0.2.0,>=0.1.31->gigachain) (3.7.1)\n",
            "Requirement already satisfied: httpcore==1.* in /usr/local/lib/python3.10/dist-packages (from httpx<1->gigachat<0.2.0,>=0.1.31->gigachain) (1.0.5)\n",
            "Requirement already satisfied: sniffio in /usr/local/lib/python3.10/dist-packages (from httpx<1->gigachat<0.2.0,>=0.1.31->gigachain) (1.3.1)\n",
            "Requirement already satisfied: jsonpointer>=1.9 in /usr/local/lib/python3.10/dist-packages (from jsonpatch<2.0,>=1.33->gigachain-core<0.3.0,>=0.2.10->gigachain) (3.0.0)\n",
            "Requirement already satisfied: setuptools>=42 in /usr/local/lib/python3.10/dist-packages (from pyproject-toml<0.0.11,>=0.0.10->gigaserve>=0.0.51->gigaserve[all]>=0.0.51->gigachain-cli) (71.0.4)\n",
            "Requirement already satisfied: wheel in /usr/local/lib/python3.10/dist-packages (from pyproject-toml<0.0.11,>=0.0.10->gigaserve>=0.0.51->gigaserve[all]>=0.0.51->gigachain-cli) (0.43.0)\n",
            "Requirement already satisfied: toml in /usr/local/lib/python3.10/dist-packages (from pyproject-toml<0.0.11,>=0.0.10->gigaserve>=0.0.51->gigaserve[all]>=0.0.51->gigachain-cli) (0.10.2)\n",
            "Requirement already satisfied: jsonschema in /usr/local/lib/python3.10/dist-packages (from pyproject-toml<0.0.11,>=0.0.10->gigaserve>=0.0.51->gigaserve[all]>=0.0.51->gigachain-cli) (4.23.0)\n",
            "Requirement already satisfied: markdown-it-py>=2.2.0 in /usr/local/lib/python3.10/dist-packages (from rich<14.0.0,>=10.11.0->typer[all]<0.10.0,>=0.9.0->gigachain-cli) (3.0.0)\n",
            "Requirement already satisfied: pygments<3.0.0,>=2.13.0 in /usr/local/lib/python3.10/dist-packages (from rich<14.0.0,>=10.11.0->typer[all]<0.10.0,>=0.9.0->gigachain-cli) (2.16.1)\n",
            "Requirement already satisfied: mypy-extensions>=0.3.0 in /usr/local/lib/python3.10/dist-packages (from typing-inspect<1,>=0.4.0->dataclasses-json<0.7,>=0.5.7->gigachain_community) (1.0.0)\n",
            "Requirement already satisfied: cachetools<6.0,>=2.0.0 in /usr/local/lib/python3.10/dist-packages (from google-auth->google-auth-httplib2<0.3.0,>=0.2.0->gigachain_community) (5.4.0)\n",
            "Requirement already satisfied: pyasn1-modules>=0.2.1 in /usr/local/lib/python3.10/dist-packages (from google-auth->google-auth-httplib2<0.3.0,>=0.2.0->gigachain_community) (0.4.0)\n",
            "Requirement already satisfied: rsa<5,>=3.1.4 in /usr/local/lib/python3.10/dist-packages (from google-auth->google-auth-httplib2<0.3.0,>=0.2.0->gigachain_community) (4.9)\n",
            "Requirement already satisfied: mdurl~=0.1 in /usr/local/lib/python3.10/dist-packages (from markdown-it-py>=2.2.0->rich<14.0.0,>=10.11.0->typer[all]<0.10.0,>=0.9.0->gigachain-cli) (0.1.2)\n",
            "Requirement already satisfied: pyasn1<0.7.0,>=0.4.6 in /usr/local/lib/python3.10/dist-packages (from pyasn1-modules>=0.2.1->google-auth->google-auth-httplib2<0.3.0,>=0.2.0->gigachain_community) (0.6.0)\n",
            "Requirement already satisfied: exceptiongroup in /usr/local/lib/python3.10/dist-packages (from anyio->httpx<1->gigachat<0.2.0,>=0.1.31->gigachain) (1.2.2)\n",
            "Requirement already satisfied: jsonschema-specifications>=2023.03.6 in /usr/local/lib/python3.10/dist-packages (from jsonschema->pyproject-toml<0.0.11,>=0.0.10->gigaserve>=0.0.51->gigaserve[all]>=0.0.51->gigachain-cli) (2023.12.1)\n",
            "Requirement already satisfied: referencing>=0.28.4 in /usr/local/lib/python3.10/dist-packages (from jsonschema->pyproject-toml<0.0.11,>=0.0.10->gigaserve>=0.0.51->gigaserve[all]>=0.0.51->gigachain-cli) (0.35.1)\n",
            "Requirement already satisfied: rpds-py>=0.7.1 in /usr/local/lib/python3.10/dist-packages (from jsonschema->pyproject-toml<0.0.11,>=0.0.10->gigaserve>=0.0.51->gigaserve[all]>=0.0.51->gigachain-cli) (0.19.0)\n",
            "Downloading pyfiglet-1.0.2-py3-none-any.whl (1.1 MB)\n",
            "\u001b[2K   \u001b[90m━━━━━━━━━━━━━━━━━━━━━━━━━━━━━━━━━━━━━━━━\u001b[0m \u001b[32m1.1/1.1 MB\u001b[0m \u001b[31m10.7 MB/s\u001b[0m eta \u001b[36m0:00:00\u001b[0m\n",
            "\u001b[?25hInstalling collected packages: pyfiglet\n",
            "Successfully installed pyfiglet-1.0.2\n"
          ]
        }
      ]
    },
    {
      "cell_type": "code",
      "execution_count": null,
      "metadata": {
        "id": "U-bA_gS-UXyn"
      },
      "outputs": [],
      "source": [
        "from langchain.chat_models.gigachat import GigaChat"
      ]
    },
    {
      "cell_type": "code",
      "source": [
        "giga = GigaChat(credentials=\"none\",\n",
        "                model=\"GigaChat\", timeout=30, verify_ssl_certs=False)\n",
        "giga.verbose = True"
      ],
      "metadata": {
        "id": "K2pqdZeuVUKn",
        "colab": {
          "base_uri": "https://localhost:8080/",
          "height": 176
        },
        "outputId": "394e3bc2-7bd3-403c-d967-f6a0cfaa2911"
      },
      "execution_count": 1,
      "outputs": [
        {
          "output_type": "error",
          "ename": "NameError",
          "evalue": "name 'GigaChat' is not defined",
          "traceback": [
            "\u001b[0;31m---------------------------------------------------------------------------\u001b[0m",
            "\u001b[0;31mNameError\u001b[0m                                 Traceback (most recent call last)",
            "\u001b[0;32m<ipython-input-1-107cef606b1d>\u001b[0m in \u001b[0;36m<cell line: 1>\u001b[0;34m()\u001b[0m\n\u001b[0;32m----> 1\u001b[0;31m giga = GigaChat(credentials=\"none\",\n\u001b[0m\u001b[1;32m      2\u001b[0m                 model=\"GigaChat\", timeout=30, verify_ssl_certs=False)\n\u001b[1;32m      3\u001b[0m \u001b[0mgiga\u001b[0m\u001b[0;34m.\u001b[0m\u001b[0mverbose\u001b[0m \u001b[0;34m=\u001b[0m \u001b[0;32mTrue\u001b[0m\u001b[0;34m\u001b[0m\u001b[0;34m\u001b[0m\u001b[0m\n",
            "\u001b[0;31mNameError\u001b[0m: name 'GigaChat' is not defined"
          ]
        }
      ]
    },
    {
      "cell_type": "code",
      "source": [
        "from langchain.schema import HumanMessage, SystemMessage"
      ],
      "metadata": {
        "id": "kjWR_6FsWf91"
      },
      "execution_count": null,
      "outputs": []
    },
    {
      "cell_type": "code",
      "source": [
        "messages = [\n",
        "    SystemMessage(\n",
        "        content=\"Ты эмпатичный бот-психолог, который помогает пользователю решить его проблемы.\"\n",
        "    )\n",
        "]\n",
        "\n",
        "\n",
        "# Ввод пользователя\n",
        "user_input = input(\"User: \")\n",
        "messages.append(HumanMessage(content=user_input))\n",
        "res = giga(messages)\n",
        "messages.append(res)\n",
        "# Ответ модели\n",
        "print(\"Bot: \", res.content)"
      ],
      "metadata": {
        "colab": {
          "base_uri": "https://localhost:8080/"
        },
        "id": "B13UqMd5VfJO",
        "outputId": "a212b8c0-85aa-4066-b466-ebf327a92c5d"
      },
      "execution_count": null,
      "outputs": [
        {
          "name": "stdout",
          "output_type": "stream",
          "text": [
            "User: Привет\n"
          ]
        },
        {
          "output_type": "stream",
          "name": "stderr",
          "text": [
            "WARNING:langchain_community.chat_models.gigachat:Giga request: {\"messages\": [{\"role\": \"system\", \"content\": \"Ты эмпатичный бот-психолог, который помогает пользователю решить его проблемы.\"}, {\"role\": \"user\", \"content\": \"Привет\"}], \"functions\": []}\n",
            "WARNING:langchain_community.chat_models.gigachat:Giga response: Здравствуйте! Я могу вам чем-то помочь?\n"
          ]
        },
        {
          "output_type": "stream",
          "name": "stdout",
          "text": [
            "Bot:  Здравствуйте! Я могу вам чем-то помочь?\n"
          ]
        }
      ]
    },
    {
      "cell_type": "code",
      "source": [
        "from langchain.tools import tool\n",
        "from langchain_core.pydantic_v1 import BaseModel, Field\n",
        "\n",
        "\n",
        "class SendSmsResult(BaseModel):\n",
        "    status: str = Field(description=\"Статус отправки сообщения\")\n",
        "    message: str = Field(description=\"Сообщение о результате отправки SMS\")\n",
        "\n",
        "\n",
        "few_shot_examples = [\n",
        "    {\n",
        "        \"request\": \"Можешь ли ты отправить SMS-сообщение на номер 123456789 с содержимым 'Привет, как дела?'\",\n",
        "        \"params\": {\"recipient\": \"123456789\", \"message\": \"Привет, как дела?\"},\n",
        "    }\n",
        "]\n",
        "\n",
        "\n",
        "@tool(few_shot_examples=few_shot_examples)\n",
        "def send_sms(\n",
        "    recipient: str = Field(description=\"Номер телефона получателя\"),\n",
        "    message: str = Field(description=\"Содержимое сообщения\"),\n",
        ") -> SendSmsResult:\n",
        "    \"\"\"Отправить SMS-сообщение\"\"\"\n",
        "    print(f\"! send_sms to {recipient}, text: {message}\")\n",
        "    # Здесь должна быть реальная отправка СМС через внешний шлюз\n",
        "    return SendSmsResult(status=\"OK\", message=\"Сообщение отправлено!\")"
      ],
      "metadata": {
        "id": "81_e3WvRWcR6"
      },
      "execution_count": null,
      "outputs": []
    },
    {
      "cell_type": "code",
      "source": [
        "from langchain.agents import AgentExecutor, create_gigachat_functions_agent\n",
        "from langchain_core.messages import AIMessage, HumanMessage, SystemMessage\n",
        "\n",
        "tools = [send_sms]\n",
        "agent = create_gigachat_functions_agent(giga, tools)\n",
        "\n",
        "agent_executor = AgentExecutor(\n",
        "    agent=agent,\n",
        "    tools=tools,\n",
        "    verbose=False,\n",
        ")"
      ],
      "metadata": {
        "id": "r27vRKbXWrok"
      },
      "execution_count": null,
      "outputs": []
    },
    {
      "cell_type": "code",
      "source": [
        "import time\n",
        "\n",
        "\n",
        "def chat(agent_executor):\n",
        "    chat_history = [\n",
        "        SystemMessage(\n",
        "            content=\"Ты полезный ассистент. Выполняй команды пользователя, уточняй недостающие данные.\"\n",
        "        )\n",
        "    ]\n",
        "\n",
        "    while True:\n",
        "        user_input = input(\"Клиент: \")\n",
        "        if user_input == \"\":\n",
        "            break\n",
        "        print(f\"User: {user_input}\")\n",
        "        result = agent_executor.invoke(\n",
        "            {\n",
        "                \"chat_history\": chat_history,\n",
        "                \"input\": user_input,\n",
        "            }\n",
        "        )\n",
        "        chat_history.append(HumanMessage(content=user_input))\n",
        "        chat_history.append(AIMessage(content=result[\"output\"]))\n",
        "        print(\"\\033[93m\" + f\"Bot: {result['output']}\" + \"\\033[0m\")\n",
        "        time.sleep(0.2)\n",
        "\n",
        "\n",
        "chat(agent_executor)"
      ],
      "metadata": {
        "colab": {
          "base_uri": "https://localhost:8080/",
          "height": 446
        },
        "id": "go7Ou4mOW2ko",
        "outputId": "f7b0266b-7e4a-45cc-c07a-ea150e7e41a8"
      },
      "execution_count": null,
      "outputs": [
        {
          "name": "stdout",
          "output_type": "stream",
          "text": [
            "Клиент: Отправь поздравление с днем рождения на номер +79992223344\n"
          ]
        },
        {
          "output_type": "stream",
          "name": "stderr",
          "text": [
            "WARNING:langchain_community.chat_models.gigachat:Giga request: {\"messages\": [{\"role\": \"system\", \"content\": \"Ты полезный ассистент. Выполняй команды пользователя, уточняй недостающие данные.\"}, {\"role\": \"user\", \"content\": \"Отправь поздравление с днем рождения на номер +79992223344\"}], \"functions\": [{\"name\": \"send_sms\", \"description\": \"Отправить SMS-сообщение\", \"parameters\": {\"type\": \"object\", \"properties\": {\"recipient\": {\"type\": \"string\", \"description\": \"Номер телефона получателя\"}, \"message\": {\"type\": \"string\", \"description\": \"Содержимое сообщения\"}}, \"required\": [\"recipient\", \"message\"]}, \"few_shot_examples\": [{\"request\": \"Можешь ли ты отправить SMS-сообщение на номер 123456789 с содержимым 'Привет, как дела?'\", \"params\": {\"recipient\": \"123456789\", \"message\": \"Привет, как дела?\"}}], \"return_parameters\": {\"type\": \"object\", \"properties\": {\"status\": {\"description\": \"Статус отправки сообщения\", \"type\": \"string\"}, \"message\": {\"description\": \"Сообщение о результате отправки SMS\", \"type\": \"string\"}}, \"required\": [\"status\", \"message\"]}}]}\n"
          ]
        },
        {
          "output_type": "stream",
          "name": "stdout",
          "text": [
            "User: Отправь поздравление с днем рождения на номер +79992223344\n"
          ]
        },
        {
          "output_type": "stream",
          "name": "stderr",
          "text": [
            "WARNING:langchain_community.chat_models.gigachat:Giga request: {\"messages\": [{\"role\": \"system\", \"content\": \"Ты полезный ассистент. Выполняй команды пользователя, уточняй недостающие данные.\"}, {\"role\": \"user\", \"content\": \"Отправь поздравление с днем рождения на номер +79992223344\"}, {\"role\": \"assistant\", \"content\": \"\", \"function_call\": {\"name\": \"send_sms\", \"arguments\": {\"message\": \"С днём рождения! Желаю счастья и успеха во всём.\", \"recipient\": \"+79992223344\"}}}, {\"role\": \"function\", \"content\": \"{\\\"status\\\": \\\"OK\\\", \\\"message\\\": \\\"Сообщение отправлено!\\\"}\"}], \"functions\": [{\"name\": \"send_sms\", \"description\": \"Отправить SMS-сообщение\", \"parameters\": {\"type\": \"object\", \"properties\": {\"recipient\": {\"type\": \"string\", \"description\": \"Номер телефона получателя\"}, \"message\": {\"type\": \"string\", \"description\": \"Содержимое сообщения\"}}, \"required\": [\"recipient\", \"message\"]}, \"few_shot_examples\": [{\"request\": \"Можешь ли ты отправить SMS-сообщение на номер 123456789 с содержимым 'Привет, как дела?'\", \"params\": {\"recipient\": \"123456789\", \"message\": \"Привет, как дела?\"}}], \"return_parameters\": {\"type\": \"object\", \"properties\": {\"status\": {\"description\": \"Статус отправки сообщения\", \"type\": \"string\"}, \"message\": {\"description\": \"Сообщение о результате отправки SMS\", \"type\": \"string\"}}, \"required\": [\"status\", \"message\"]}}]}\n"
          ]
        },
        {
          "output_type": "stream",
          "name": "stdout",
          "text": [
            "! send_sms to +79992223344, text: С днём рождения! Желаю счастья и успеха во всём.\n",
            "\u001b[93mBot: Поздравление успешно отправлено на номер +79992223344.\u001b[0m\n"
          ]
        },
        {
          "output_type": "error",
          "ename": "KeyboardInterrupt",
          "evalue": "Interrupted by user",
          "traceback": [
            "\u001b[0;31m---------------------------------------------------------------------------\u001b[0m",
            "\u001b[0;31mKeyboardInterrupt\u001b[0m                         Traceback (most recent call last)",
            "\u001b[0;32m<ipython-input-27-5c321597b1fa>\u001b[0m in \u001b[0;36m<cell line: 28>\u001b[0;34m()\u001b[0m\n\u001b[1;32m     26\u001b[0m \u001b[0;34m\u001b[0m\u001b[0m\n\u001b[1;32m     27\u001b[0m \u001b[0;34m\u001b[0m\u001b[0m\n\u001b[0;32m---> 28\u001b[0;31m \u001b[0mchat\u001b[0m\u001b[0;34m(\u001b[0m\u001b[0magent_executor\u001b[0m\u001b[0;34m)\u001b[0m\u001b[0;34m\u001b[0m\u001b[0;34m\u001b[0m\u001b[0m\n\u001b[0m",
            "\u001b[0;32m<ipython-input-27-5c321597b1fa>\u001b[0m in \u001b[0;36mchat\u001b[0;34m(agent_executor)\u001b[0m\n\u001b[1;32m     10\u001b[0m \u001b[0;34m\u001b[0m\u001b[0m\n\u001b[1;32m     11\u001b[0m     \u001b[0;32mwhile\u001b[0m \u001b[0;32mTrue\u001b[0m\u001b[0;34m:\u001b[0m\u001b[0;34m\u001b[0m\u001b[0;34m\u001b[0m\u001b[0m\n\u001b[0;32m---> 12\u001b[0;31m         \u001b[0muser_input\u001b[0m \u001b[0;34m=\u001b[0m \u001b[0minput\u001b[0m\u001b[0;34m(\u001b[0m\u001b[0;34m\"Клиент: \"\u001b[0m\u001b[0;34m)\u001b[0m\u001b[0;34m\u001b[0m\u001b[0;34m\u001b[0m\u001b[0m\n\u001b[0m\u001b[1;32m     13\u001b[0m         \u001b[0;32mif\u001b[0m \u001b[0muser_input\u001b[0m \u001b[0;34m==\u001b[0m \u001b[0;34m\"\"\u001b[0m\u001b[0;34m:\u001b[0m\u001b[0;34m\u001b[0m\u001b[0;34m\u001b[0m\u001b[0m\n\u001b[1;32m     14\u001b[0m             \u001b[0;32mbreak\u001b[0m\u001b[0;34m\u001b[0m\u001b[0;34m\u001b[0m\u001b[0m\n",
            "\u001b[0;32m/usr/local/lib/python3.10/dist-packages/ipykernel/kernelbase.py\u001b[0m in \u001b[0;36mraw_input\u001b[0;34m(self, prompt)\u001b[0m\n\u001b[1;32m    849\u001b[0m                 \u001b[0;34m\"raw_input was called, but this frontend does not support input requests.\"\u001b[0m\u001b[0;34m\u001b[0m\u001b[0;34m\u001b[0m\u001b[0m\n\u001b[1;32m    850\u001b[0m             )\n\u001b[0;32m--> 851\u001b[0;31m         return self._input_request(str(prompt),\n\u001b[0m\u001b[1;32m    852\u001b[0m             \u001b[0mself\u001b[0m\u001b[0;34m.\u001b[0m\u001b[0m_parent_ident\u001b[0m\u001b[0;34m,\u001b[0m\u001b[0;34m\u001b[0m\u001b[0;34m\u001b[0m\u001b[0m\n\u001b[1;32m    853\u001b[0m             \u001b[0mself\u001b[0m\u001b[0;34m.\u001b[0m\u001b[0m_parent_header\u001b[0m\u001b[0;34m,\u001b[0m\u001b[0;34m\u001b[0m\u001b[0;34m\u001b[0m\u001b[0m\n",
            "\u001b[0;32m/usr/local/lib/python3.10/dist-packages/ipykernel/kernelbase.py\u001b[0m in \u001b[0;36m_input_request\u001b[0;34m(self, prompt, ident, parent, password)\u001b[0m\n\u001b[1;32m    893\u001b[0m             \u001b[0;32mexcept\u001b[0m \u001b[0mKeyboardInterrupt\u001b[0m\u001b[0;34m:\u001b[0m\u001b[0;34m\u001b[0m\u001b[0;34m\u001b[0m\u001b[0m\n\u001b[1;32m    894\u001b[0m                 \u001b[0;31m# re-raise KeyboardInterrupt, to truncate traceback\u001b[0m\u001b[0;34m\u001b[0m\u001b[0;34m\u001b[0m\u001b[0m\n\u001b[0;32m--> 895\u001b[0;31m                 \u001b[0;32mraise\u001b[0m \u001b[0mKeyboardInterrupt\u001b[0m\u001b[0;34m(\u001b[0m\u001b[0;34m\"Interrupted by user\"\u001b[0m\u001b[0;34m)\u001b[0m \u001b[0;32mfrom\u001b[0m \u001b[0;32mNone\u001b[0m\u001b[0;34m\u001b[0m\u001b[0;34m\u001b[0m\u001b[0m\n\u001b[0m\u001b[1;32m    896\u001b[0m             \u001b[0;32mexcept\u001b[0m \u001b[0mException\u001b[0m \u001b[0;32mas\u001b[0m \u001b[0me\u001b[0m\u001b[0;34m:\u001b[0m\u001b[0;34m\u001b[0m\u001b[0;34m\u001b[0m\u001b[0m\n\u001b[1;32m    897\u001b[0m                 \u001b[0mself\u001b[0m\u001b[0;34m.\u001b[0m\u001b[0mlog\u001b[0m\u001b[0;34m.\u001b[0m\u001b[0mwarning\u001b[0m\u001b[0;34m(\u001b[0m\u001b[0;34m\"Invalid Message:\"\u001b[0m\u001b[0;34m,\u001b[0m \u001b[0mexc_info\u001b[0m\u001b[0;34m=\u001b[0m\u001b[0;32mTrue\u001b[0m\u001b[0;34m)\u001b[0m\u001b[0;34m\u001b[0m\u001b[0;34m\u001b[0m\u001b[0m\n",
            "\u001b[0;31mKeyboardInterrupt\u001b[0m: Interrupted by user"
          ]
        }
      ]
    },
    {
      "cell_type": "markdown",
      "source": [
        "Несколько функций"
      ],
      "metadata": {
        "id": "QaTtVJ-ZXRXo"
      }
    },
    {
      "cell_type": "code",
      "source": [
        "from typing import List, Optional\n",
        "\n",
        "\n",
        "class SearchMoviesResult(BaseModel):\n",
        "    movies: List[str] = Field(\n",
        "        description=\"Список названий фильмов, соответствующих заданным критериям поиска\"\n",
        "    )\n",
        "\n",
        "\n",
        "few_shot_examples = [\n",
        "    {\"request\": \"Найди все фильмы жанра комедия\", \"params\": {\"genre\": \"комедия\"}}\n",
        "]\n",
        "\n",
        "\n",
        "@tool(few_shot_examples=few_shot_examples)\n",
        "def search_movies(\n",
        "    genre: Optional[str] = Field(None, description=\"Жанр фильма\"),\n",
        "    year: Optional[int] = Field(None, description=\"Год выпуска фильма\"),\n",
        "    actor: Optional[str] = Field(None, description=\"Имя актера, снимавшегося в фильме\"),\n",
        ") -> SearchMoviesResult:\n",
        "    \"\"\"Поиск фильмов на основе заданных критериев\"\"\"\n",
        "    print(f\"! search_movies genre {genre}, year: {year}, actor: {actor}\")\n",
        "    # Здесь должна быть реальная отправка СМС через внешний шлюз\n",
        "    return SearchMoviesResult(movies=[\"Опенгеймер\"])"
      ],
      "metadata": {
        "id": "pfeuL96CW5UF"
      },
      "execution_count": null,
      "outputs": []
    },
    {
      "cell_type": "code",
      "source": [
        "class TripDistanceResult(BaseModel):\n",
        "    distance: int = Field(\n",
        "        description=\"Расстояние между начальным и конечным местоположением в километрах\"\n",
        "    )\n",
        "\n",
        "\n",
        "few_shot_examples = [\n",
        "    {\n",
        "        \"request\": \"Насколько далеко от Москвы до Санкт-Петербурга?\",\n",
        "        \"params\": {\"start_location\": \"Москва\", \"end_location\": \"Санкт-Петербург\"},\n",
        "    }\n",
        "]\n",
        "\n",
        "\n",
        "@tool(few_shot_examples=few_shot_examples)\n",
        "def calculate_trip_distance(\n",
        "    start_location: str = Field(description=\"Начальное местоположение\"),\n",
        "    end_location: str = Field(description=\"Конечное местоположение\"),\n",
        ") -> TripDistanceResult:\n",
        "    \"\"\"Рассчитать расстояние между двумя местоположениями.\"\"\"\n",
        "    print(\n",
        "        f\"! calculate_trip_distance start_location {start_location}, end_location: {end_location}\"\n",
        "    )\n",
        "    # Здесь должна быть реальная отправка СМС через внешний шлюз\n",
        "    return TripDistanceResult(distance=650)"
      ],
      "metadata": {
        "id": "qui49UEnXQwx"
      },
      "execution_count": null,
      "outputs": []
    },
    {
      "cell_type": "code",
      "source": [
        "tools = [send_sms, search_movies, calculate_trip_distance]\n",
        "agent = create_gigachat_functions_agent(giga, tools)\n",
        "\n",
        "agent_executor = AgentExecutor(\n",
        "    agent=agent,\n",
        "    tools=tools,\n",
        "    verbose=False,\n",
        ")\n",
        "\n",
        "chat(agent_executor)"
      ],
      "metadata": {
        "colab": {
          "base_uri": "https://localhost:8080/",
          "height": 862
        },
        "id": "05WpvH0AXUrm",
        "outputId": "892b13f1-6774-4144-8865-63b66eb70d70"
      },
      "execution_count": null,
      "outputs": [
        {
          "name": "stdout",
          "output_type": "stream",
          "text": [
            "Клиент: Отправь на номер 98765678 смс с поздравлением поздравление с днем рождения\n"
          ]
        },
        {
          "output_type": "stream",
          "name": "stderr",
          "text": [
            "WARNING:langchain_community.chat_models.gigachat:Giga request: {\"messages\": [{\"role\": \"system\", \"content\": \"Ты полезный ассистент. Выполняй команды пользователя, уточняй недостающие данные.\"}, {\"role\": \"user\", \"content\": \"Отправь на номер 98765678 смс с поздравлением поздравление с днем рождения\"}], \"functions\": [{\"name\": \"send_sms\", \"description\": \"Отправить SMS-сообщение\", \"parameters\": {\"type\": \"object\", \"properties\": {\"recipient\": {\"type\": \"string\", \"description\": \"Номер телефона получателя\"}, \"message\": {\"type\": \"string\", \"description\": \"Содержимое сообщения\"}}, \"required\": [\"recipient\", \"message\"]}, \"few_shot_examples\": [{\"request\": \"Можешь ли ты отправить SMS-сообщение на номер 123456789 с содержимым 'Привет, как дела?'\", \"params\": {\"recipient\": \"123456789\", \"message\": \"Привет, как дела?\"}}], \"return_parameters\": {\"type\": \"object\", \"properties\": {\"status\": {\"description\": \"Статус отправки сообщения\", \"type\": \"string\"}, \"message\": {\"description\": \"Сообщение о результате отправки SMS\", \"type\": \"string\"}}, \"required\": [\"status\", \"message\"]}}, {\"name\": \"search_movies\", \"description\": \"Поиск фильмов на основе заданных критериев\", \"parameters\": {\"type\": \"object\", \"properties\": {\"genre\": {\"type\": \"string\", \"description\": \"Жанр фильма\"}, \"year\": {\"type\": \"integer\", \"description\": \"Год выпуска фильма\"}, \"actor\": {\"type\": \"string\", \"description\": \"Имя актера, снимавшегося в фильме\"}}}, \"few_shot_examples\": [{\"request\": \"Найди все фильмы жанра комедия\", \"params\": {\"genre\": \"комедия\"}}], \"return_parameters\": {\"type\": \"object\", \"properties\": {\"movies\": {\"description\": \"Список названий фильмов, соответствующих заданным критериям поиска\", \"type\": \"array\", \"items\": {\"type\": \"string\"}}}, \"required\": [\"movies\"]}}, {\"name\": \"calculate_trip_distance\", \"description\": \"Рассчитать расстояние между двумя местоположениями.\", \"parameters\": {\"type\": \"object\", \"properties\": {\"start_location\": {\"type\": \"string\", \"description\": \"Начальное местоположение\"}, \"end_location\": {\"type\": \"string\", \"description\": \"Конечное местоположение\"}}, \"required\": [\"start_location\", \"end_location\"]}, \"few_shot_examples\": [{\"request\": \"Насколько далеко от Москвы до Санкт-Петербурга?\", \"params\": {\"start_location\": \"Москва\", \"end_location\": \"Санкт-Петербург\"}}], \"return_parameters\": {\"type\": \"object\", \"properties\": {\"distance\": {\"description\": \"Расстояние между начальным и конечным местоположением в километрах\", \"type\": \"integer\"}}, \"required\": [\"distance\"]}}]}\n"
          ]
        },
        {
          "output_type": "stream",
          "name": "stdout",
          "text": [
            "User: Отправь на номер 98765678 смс с поздравлением поздравление с днем рождения\n"
          ]
        },
        {
          "output_type": "stream",
          "name": "stderr",
          "text": [
            "WARNING:langchain_community.chat_models.gigachat:Giga request: {\"messages\": [{\"role\": \"system\", \"content\": \"Ты полезный ассистент. Выполняй команды пользователя, уточняй недостающие данные.\"}, {\"role\": \"user\", \"content\": \"Отправь на номер 98765678 смс с поздравлением поздравление с днем рождения\"}, {\"role\": \"assistant\", \"content\": \"\", \"function_call\": {\"name\": \"send_sms\", \"arguments\": {\"message\": \"Поздравление с днем рождения\", \"recipient\": \"98765678\"}}}, {\"role\": \"function\", \"content\": \"{\\\"status\\\": \\\"OK\\\", \\\"message\\\": \\\"Сообщение отправлено!\\\"}\"}], \"functions\": [{\"name\": \"send_sms\", \"description\": \"Отправить SMS-сообщение\", \"parameters\": {\"type\": \"object\", \"properties\": {\"recipient\": {\"type\": \"string\", \"description\": \"Номер телефона получателя\"}, \"message\": {\"type\": \"string\", \"description\": \"Содержимое сообщения\"}}, \"required\": [\"recipient\", \"message\"]}, \"few_shot_examples\": [{\"request\": \"Можешь ли ты отправить SMS-сообщение на номер 123456789 с содержимым 'Привет, как дела?'\", \"params\": {\"recipient\": \"123456789\", \"message\": \"Привет, как дела?\"}}], \"return_parameters\": {\"type\": \"object\", \"properties\": {\"status\": {\"description\": \"Статус отправки сообщения\", \"type\": \"string\"}, \"message\": {\"description\": \"Сообщение о результате отправки SMS\", \"type\": \"string\"}}, \"required\": [\"status\", \"message\"]}}, {\"name\": \"search_movies\", \"description\": \"Поиск фильмов на основе заданных критериев\", \"parameters\": {\"type\": \"object\", \"properties\": {\"genre\": {\"type\": \"string\", \"description\": \"Жанр фильма\"}, \"year\": {\"type\": \"integer\", \"description\": \"Год выпуска фильма\"}, \"actor\": {\"type\": \"string\", \"description\": \"Имя актера, снимавшегося в фильме\"}}}, \"few_shot_examples\": [{\"request\": \"Найди все фильмы жанра комедия\", \"params\": {\"genre\": \"комедия\"}}], \"return_parameters\": {\"type\": \"object\", \"properties\": {\"movies\": {\"description\": \"Список названий фильмов, соответствующих заданным критериям поиска\", \"type\": \"array\", \"items\": {\"type\": \"string\"}}}, \"required\": [\"movies\"]}}, {\"name\": \"calculate_trip_distance\", \"description\": \"Рассчитать расстояние между двумя местоположениями.\", \"parameters\": {\"type\": \"object\", \"properties\": {\"start_location\": {\"type\": \"string\", \"description\": \"Начальное местоположение\"}, \"end_location\": {\"type\": \"string\", \"description\": \"Конечное местоположение\"}}, \"required\": [\"start_location\", \"end_location\"]}, \"few_shot_examples\": [{\"request\": \"Насколько далеко от Москвы до Санкт-Петербурга?\", \"params\": {\"start_location\": \"Москва\", \"end_location\": \"Санкт-Петербург\"}}], \"return_parameters\": {\"type\": \"object\", \"properties\": {\"distance\": {\"description\": \"Расстояние между начальным и конечным местоположением в километрах\", \"type\": \"integer\"}}, \"required\": [\"distance\"]}}]}\n"
          ]
        },
        {
          "name": "stdout",
          "output_type": "stream",
          "text": [
            "! send_sms to 98765678, text: Поздравление с днем рождения\n",
            "\u001b[93mBot: Сообщение успешно отправлено на номер 98765678.\u001b[0m\n",
            "Клиент: Посчитай расстояние между москвой и питером\n"
          ]
        },
        {
          "output_type": "stream",
          "name": "stderr",
          "text": [
            "WARNING:langchain_community.chat_models.gigachat:Giga request: {\"messages\": [{\"role\": \"system\", \"content\": \"Ты полезный ассистент. Выполняй команды пользователя, уточняй недостающие данные.\"}, {\"role\": \"user\", \"content\": \"Отправь на номер 98765678 смс с поздравлением поздравление с днем рождения\"}, {\"role\": \"assistant\", \"content\": \"Сообщение успешно отправлено на номер 98765678.\"}, {\"role\": \"user\", \"content\": \"Посчитай расстояние между москвой и питером\"}], \"functions\": [{\"name\": \"send_sms\", \"description\": \"Отправить SMS-сообщение\", \"parameters\": {\"type\": \"object\", \"properties\": {\"recipient\": {\"type\": \"string\", \"description\": \"Номер телефона получателя\"}, \"message\": {\"type\": \"string\", \"description\": \"Содержимое сообщения\"}}, \"required\": [\"recipient\", \"message\"]}, \"few_shot_examples\": [{\"request\": \"Можешь ли ты отправить SMS-сообщение на номер 123456789 с содержимым 'Привет, как дела?'\", \"params\": {\"recipient\": \"123456789\", \"message\": \"Привет, как дела?\"}}], \"return_parameters\": {\"type\": \"object\", \"properties\": {\"status\": {\"description\": \"Статус отправки сообщения\", \"type\": \"string\"}, \"message\": {\"description\": \"Сообщение о результате отправки SMS\", \"type\": \"string\"}}, \"required\": [\"status\", \"message\"]}}, {\"name\": \"search_movies\", \"description\": \"Поиск фильмов на основе заданных критериев\", \"parameters\": {\"type\": \"object\", \"properties\": {\"genre\": {\"type\": \"string\", \"description\": \"Жанр фильма\"}, \"year\": {\"type\": \"integer\", \"description\": \"Год выпуска фильма\"}, \"actor\": {\"type\": \"string\", \"description\": \"Имя актера, снимавшегося в фильме\"}}}, \"few_shot_examples\": [{\"request\": \"Найди все фильмы жанра комедия\", \"params\": {\"genre\": \"комедия\"}}], \"return_parameters\": {\"type\": \"object\", \"properties\": {\"movies\": {\"description\": \"Список названий фильмов, соответствующих заданным критериям поиска\", \"type\": \"array\", \"items\": {\"type\": \"string\"}}}, \"required\": [\"movies\"]}}, {\"name\": \"calculate_trip_distance\", \"description\": \"Рассчитать расстояние между двумя местоположениями.\", \"parameters\": {\"type\": \"object\", \"properties\": {\"start_location\": {\"type\": \"string\", \"description\": \"Начальное местоположение\"}, \"end_location\": {\"type\": \"string\", \"description\": \"Конечное местоположение\"}}, \"required\": [\"start_location\", \"end_location\"]}, \"few_shot_examples\": [{\"request\": \"Насколько далеко от Москвы до Санкт-Петербурга?\", \"params\": {\"start_location\": \"Москва\", \"end_location\": \"Санкт-Петербург\"}}], \"return_parameters\": {\"type\": \"object\", \"properties\": {\"distance\": {\"description\": \"Расстояние между начальным и конечным местоположением в километрах\", \"type\": \"integer\"}}, \"required\": [\"distance\"]}}]}\n"
          ]
        },
        {
          "output_type": "stream",
          "name": "stdout",
          "text": [
            "User: Посчитай расстояние между москвой и питером\n"
          ]
        },
        {
          "output_type": "stream",
          "name": "stderr",
          "text": [
            "WARNING:langchain_community.chat_models.gigachat:Giga request: {\"messages\": [{\"role\": \"system\", \"content\": \"Ты полезный ассистент. Выполняй команды пользователя, уточняй недостающие данные.\"}, {\"role\": \"user\", \"content\": \"Отправь на номер 98765678 смс с поздравлением поздравление с днем рождения\"}, {\"role\": \"assistant\", \"content\": \"Сообщение успешно отправлено на номер 98765678.\"}, {\"role\": \"user\", \"content\": \"Посчитай расстояние между москвой и питером\"}, {\"role\": \"assistant\", \"content\": \"\", \"function_call\": {\"name\": \"calculate_trip_distance\", \"arguments\": {\"end_location\": \"Санкт-Петербург\", \"start_location\": \"Москва\"}}}, {\"role\": \"function\", \"content\": \"{\\\"distance\\\": 650}\"}], \"functions\": [{\"name\": \"send_sms\", \"description\": \"Отправить SMS-сообщение\", \"parameters\": {\"type\": \"object\", \"properties\": {\"recipient\": {\"type\": \"string\", \"description\": \"Номер телефона получателя\"}, \"message\": {\"type\": \"string\", \"description\": \"Содержимое сообщения\"}}, \"required\": [\"recipient\", \"message\"]}, \"few_shot_examples\": [{\"request\": \"Можешь ли ты отправить SMS-сообщение на номер 123456789 с содержимым 'Привет, как дела?'\", \"params\": {\"recipient\": \"123456789\", \"message\": \"Привет, как дела?\"}}], \"return_parameters\": {\"type\": \"object\", \"properties\": {\"status\": {\"description\": \"Статус отправки сообщения\", \"type\": \"string\"}, \"message\": {\"description\": \"Сообщение о результате отправки SMS\", \"type\": \"string\"}}, \"required\": [\"status\", \"message\"]}}, {\"name\": \"search_movies\", \"description\": \"Поиск фильмов на основе заданных критериев\", \"parameters\": {\"type\": \"object\", \"properties\": {\"genre\": {\"type\": \"string\", \"description\": \"Жанр фильма\"}, \"year\": {\"type\": \"integer\", \"description\": \"Год выпуска фильма\"}, \"actor\": {\"type\": \"string\", \"description\": \"Имя актера, снимавшегося в фильме\"}}}, \"few_shot_examples\": [{\"request\": \"Найди все фильмы жанра комедия\", \"params\": {\"genre\": \"комедия\"}}], \"return_parameters\": {\"type\": \"object\", \"properties\": {\"movies\": {\"description\": \"Список названий фильмов, соответствующих заданным критериям поиска\", \"type\": \"array\", \"items\": {\"type\": \"string\"}}}, \"required\": [\"movies\"]}}, {\"name\": \"calculate_trip_distance\", \"description\": \"Рассчитать расстояние между двумя местоположениями.\", \"parameters\": {\"type\": \"object\", \"properties\": {\"start_location\": {\"type\": \"string\", \"description\": \"Начальное местоположение\"}, \"end_location\": {\"type\": \"string\", \"description\": \"Конечное местоположение\"}}, \"required\": [\"start_location\", \"end_location\"]}, \"few_shot_examples\": [{\"request\": \"Насколько далеко от Москвы до Санкт-Петербурга?\", \"params\": {\"start_location\": \"Москва\", \"end_location\": \"Санкт-Петербург\"}}], \"return_parameters\": {\"type\": \"object\", \"properties\": {\"distance\": {\"description\": \"Расстояние между начальным и конечным местоположением в километрах\", \"type\": \"integer\"}}, \"required\": [\"distance\"]}}]}\n"
          ]
        },
        {
          "name": "stdout",
          "output_type": "stream",
          "text": [
            "! calculate_trip_distance start_location Москва, end_location: Санкт-Петербург\n",
            "\u001b[93mBot: Расстояние между Москвой и Санкт-Петербургом составляет 650 километров.\u001b[0m\n",
            "Клиент: Посоветуй фильм ужасов\n"
          ]
        },
        {
          "output_type": "stream",
          "name": "stderr",
          "text": [
            "WARNING:langchain_community.chat_models.gigachat:Giga request: {\"messages\": [{\"role\": \"system\", \"content\": \"Ты полезный ассистент. Выполняй команды пользователя, уточняй недостающие данные.\"}, {\"role\": \"user\", \"content\": \"Отправь на номер 98765678 смс с поздравлением поздравление с днем рождения\"}, {\"role\": \"assistant\", \"content\": \"Сообщение успешно отправлено на номер 98765678.\"}, {\"role\": \"user\", \"content\": \"Посчитай расстояние между москвой и питером\"}, {\"role\": \"assistant\", \"content\": \"Расстояние между Москвой и Санкт-Петербургом составляет 650 километров.\"}, {\"role\": \"user\", \"content\": \"Посоветуй фильм ужасов\"}], \"functions\": [{\"name\": \"send_sms\", \"description\": \"Отправить SMS-сообщение\", \"parameters\": {\"type\": \"object\", \"properties\": {\"recipient\": {\"type\": \"string\", \"description\": \"Номер телефона получателя\"}, \"message\": {\"type\": \"string\", \"description\": \"Содержимое сообщения\"}}, \"required\": [\"recipient\", \"message\"]}, \"few_shot_examples\": [{\"request\": \"Можешь ли ты отправить SMS-сообщение на номер 123456789 с содержимым 'Привет, как дела?'\", \"params\": {\"recipient\": \"123456789\", \"message\": \"Привет, как дела?\"}}], \"return_parameters\": {\"type\": \"object\", \"properties\": {\"status\": {\"description\": \"Статус отправки сообщения\", \"type\": \"string\"}, \"message\": {\"description\": \"Сообщение о результате отправки SMS\", \"type\": \"string\"}}, \"required\": [\"status\", \"message\"]}}, {\"name\": \"search_movies\", \"description\": \"Поиск фильмов на основе заданных критериев\", \"parameters\": {\"type\": \"object\", \"properties\": {\"genre\": {\"type\": \"string\", \"description\": \"Жанр фильма\"}, \"year\": {\"type\": \"integer\", \"description\": \"Год выпуска фильма\"}, \"actor\": {\"type\": \"string\", \"description\": \"Имя актера, снимавшегося в фильме\"}}}, \"few_shot_examples\": [{\"request\": \"Найди все фильмы жанра комедия\", \"params\": {\"genre\": \"комедия\"}}], \"return_parameters\": {\"type\": \"object\", \"properties\": {\"movies\": {\"description\": \"Список названий фильмов, соответствующих заданным критериям поиска\", \"type\": \"array\", \"items\": {\"type\": \"string\"}}}, \"required\": [\"movies\"]}}, {\"name\": \"calculate_trip_distance\", \"description\": \"Рассчитать расстояние между двумя местоположениями.\", \"parameters\": {\"type\": \"object\", \"properties\": {\"start_location\": {\"type\": \"string\", \"description\": \"Начальное местоположение\"}, \"end_location\": {\"type\": \"string\", \"description\": \"Конечное местоположение\"}}, \"required\": [\"start_location\", \"end_location\"]}, \"few_shot_examples\": [{\"request\": \"Насколько далеко от Москвы до Санкт-Петербурга?\", \"params\": {\"start_location\": \"Москва\", \"end_location\": \"Санкт-Петербург\"}}], \"return_parameters\": {\"type\": \"object\", \"properties\": {\"distance\": {\"description\": \"Расстояние между начальным и конечным местоположением в километрах\", \"type\": \"integer\"}}, \"required\": [\"distance\"]}}]}\n"
          ]
        },
        {
          "output_type": "stream",
          "name": "stdout",
          "text": [
            "User: Посоветуй фильм ужасов\n"
          ]
        },
        {
          "output_type": "stream",
          "name": "stderr",
          "text": [
            "WARNING:langchain_community.chat_models.gigachat:Giga request: {\"messages\": [{\"role\": \"system\", \"content\": \"Ты полезный ассистент. Выполняй команды пользователя, уточняй недостающие данные.\"}, {\"role\": \"user\", \"content\": \"Отправь на номер 98765678 смс с поздравлением поздравление с днем рождения\"}, {\"role\": \"assistant\", \"content\": \"Сообщение успешно отправлено на номер 98765678.\"}, {\"role\": \"user\", \"content\": \"Посчитай расстояние между москвой и питером\"}, {\"role\": \"assistant\", \"content\": \"Расстояние между Москвой и Санкт-Петербургом составляет 650 километров.\"}, {\"role\": \"user\", \"content\": \"Посоветуй фильм ужасов\"}, {\"role\": \"assistant\", \"content\": \"\", \"function_call\": {\"name\": \"search_movies\", \"arguments\": {\"genre\": \"ужасы\"}}}, {\"role\": \"function\", \"content\": \"{\\\"movies\\\": [\\\"Опенгеймер\\\"]}\"}], \"functions\": [{\"name\": \"send_sms\", \"description\": \"Отправить SMS-сообщение\", \"parameters\": {\"type\": \"object\", \"properties\": {\"recipient\": {\"type\": \"string\", \"description\": \"Номер телефона получателя\"}, \"message\": {\"type\": \"string\", \"description\": \"Содержимое сообщения\"}}, \"required\": [\"recipient\", \"message\"]}, \"few_shot_examples\": [{\"request\": \"Можешь ли ты отправить SMS-сообщение на номер 123456789 с содержимым 'Привет, как дела?'\", \"params\": {\"recipient\": \"123456789\", \"message\": \"Привет, как дела?\"}}], \"return_parameters\": {\"type\": \"object\", \"properties\": {\"status\": {\"description\": \"Статус отправки сообщения\", \"type\": \"string\"}, \"message\": {\"description\": \"Сообщение о результате отправки SMS\", \"type\": \"string\"}}, \"required\": [\"status\", \"message\"]}}, {\"name\": \"search_movies\", \"description\": \"Поиск фильмов на основе заданных критериев\", \"parameters\": {\"type\": \"object\", \"properties\": {\"genre\": {\"type\": \"string\", \"description\": \"Жанр фильма\"}, \"year\": {\"type\": \"integer\", \"description\": \"Год выпуска фильма\"}, \"actor\": {\"type\": \"string\", \"description\": \"Имя актера, снимавшегося в фильме\"}}}, \"few_shot_examples\": [{\"request\": \"Найди все фильмы жанра комедия\", \"params\": {\"genre\": \"комедия\"}}], \"return_parameters\": {\"type\": \"object\", \"properties\": {\"movies\": {\"description\": \"Список названий фильмов, соответствующих заданным критериям поиска\", \"type\": \"array\", \"items\": {\"type\": \"string\"}}}, \"required\": [\"movies\"]}}, {\"name\": \"calculate_trip_distance\", \"description\": \"Рассчитать расстояние между двумя местоположениями.\", \"parameters\": {\"type\": \"object\", \"properties\": {\"start_location\": {\"type\": \"string\", \"description\": \"Начальное местоположение\"}, \"end_location\": {\"type\": \"string\", \"description\": \"Конечное местоположение\"}}, \"required\": [\"start_location\", \"end_location\"]}, \"few_shot_examples\": [{\"request\": \"Насколько далеко от Москвы до Санкт-Петербурга?\", \"params\": {\"start_location\": \"Москва\", \"end_location\": \"Санкт-Петербург\"}}], \"return_parameters\": {\"type\": \"object\", \"properties\": {\"distance\": {\"description\": \"Расстояние между начальным и конечным местоположением в километрах\", \"type\": \"integer\"}}, \"required\": [\"distance\"]}}]}\n"
          ]
        },
        {
          "name": "stdout",
          "output_type": "stream",
          "text": [
            "! search_movies genre ужасы, year: description='Год выпуска фильма' extra={}, actor: description='Имя актера, снимавшегося в фильме' extra={}\n",
            "\u001b[93mBot: К сожалению, в списке нет подходящего фильма ужасов.\u001b[0m\n",
            "Клиент: Посоветуй фильм ужасов 2023 года\n"
          ]
        },
        {
          "output_type": "stream",
          "name": "stderr",
          "text": [
            "WARNING:langchain_community.chat_models.gigachat:Giga request: {\"messages\": [{\"role\": \"system\", \"content\": \"Ты полезный ассистент. Выполняй команды пользователя, уточняй недостающие данные.\"}, {\"role\": \"user\", \"content\": \"Отправь на номер 98765678 смс с поздравлением поздравление с днем рождения\"}, {\"role\": \"assistant\", \"content\": \"Сообщение успешно отправлено на номер 98765678.\"}, {\"role\": \"user\", \"content\": \"Посчитай расстояние между москвой и питером\"}, {\"role\": \"assistant\", \"content\": \"Расстояние между Москвой и Санкт-Петербургом составляет 650 километров.\"}, {\"role\": \"user\", \"content\": \"Посоветуй фильм ужасов\"}, {\"role\": \"assistant\", \"content\": \"К сожалению, в списке нет подходящего фильма ужасов.\"}, {\"role\": \"user\", \"content\": \"Посоветуй фильм ужасов 2023 года\"}], \"functions\": [{\"name\": \"send_sms\", \"description\": \"Отправить SMS-сообщение\", \"parameters\": {\"type\": \"object\", \"properties\": {\"recipient\": {\"type\": \"string\", \"description\": \"Номер телефона получателя\"}, \"message\": {\"type\": \"string\", \"description\": \"Содержимое сообщения\"}}, \"required\": [\"recipient\", \"message\"]}, \"few_shot_examples\": [{\"request\": \"Можешь ли ты отправить SMS-сообщение на номер 123456789 с содержимым 'Привет, как дела?'\", \"params\": {\"recipient\": \"123456789\", \"message\": \"Привет, как дела?\"}}], \"return_parameters\": {\"type\": \"object\", \"properties\": {\"status\": {\"description\": \"Статус отправки сообщения\", \"type\": \"string\"}, \"message\": {\"description\": \"Сообщение о результате отправки SMS\", \"type\": \"string\"}}, \"required\": [\"status\", \"message\"]}}, {\"name\": \"search_movies\", \"description\": \"Поиск фильмов на основе заданных критериев\", \"parameters\": {\"type\": \"object\", \"properties\": {\"genre\": {\"type\": \"string\", \"description\": \"Жанр фильма\"}, \"year\": {\"type\": \"integer\", \"description\": \"Год выпуска фильма\"}, \"actor\": {\"type\": \"string\", \"description\": \"Имя актера, снимавшегося в фильме\"}}}, \"few_shot_examples\": [{\"request\": \"Найди все фильмы жанра комедия\", \"params\": {\"genre\": \"комедия\"}}], \"return_parameters\": {\"type\": \"object\", \"properties\": {\"movies\": {\"description\": \"Список названий фильмов, соответствующих заданным критериям поиска\", \"type\": \"array\", \"items\": {\"type\": \"string\"}}}, \"required\": [\"movies\"]}}, {\"name\": \"calculate_trip_distance\", \"description\": \"Рассчитать расстояние между двумя местоположениями.\", \"parameters\": {\"type\": \"object\", \"properties\": {\"start_location\": {\"type\": \"string\", \"description\": \"Начальное местоположение\"}, \"end_location\": {\"type\": \"string\", \"description\": \"Конечное местоположение\"}}, \"required\": [\"start_location\", \"end_location\"]}, \"few_shot_examples\": [{\"request\": \"Насколько далеко от Москвы до Санкт-Петербурга?\", \"params\": {\"start_location\": \"Москва\", \"end_location\": \"Санкт-Петербург\"}}], \"return_parameters\": {\"type\": \"object\", \"properties\": {\"distance\": {\"description\": \"Расстояние между начальным и конечным местоположением в километрах\", \"type\": \"integer\"}}, \"required\": [\"distance\"]}}]}\n"
          ]
        },
        {
          "output_type": "stream",
          "name": "stdout",
          "text": [
            "User: Посоветуй фильм ужасов 2023 года\n"
          ]
        },
        {
          "output_type": "stream",
          "name": "stderr",
          "text": [
            "WARNING:langchain_community.chat_models.gigachat:Giga request: {\"messages\": [{\"role\": \"system\", \"content\": \"Ты полезный ассистент. Выполняй команды пользователя, уточняй недостающие данные.\"}, {\"role\": \"user\", \"content\": \"Отправь на номер 98765678 смс с поздравлением поздравление с днем рождения\"}, {\"role\": \"assistant\", \"content\": \"Сообщение успешно отправлено на номер 98765678.\"}, {\"role\": \"user\", \"content\": \"Посчитай расстояние между москвой и питером\"}, {\"role\": \"assistant\", \"content\": \"Расстояние между Москвой и Санкт-Петербургом составляет 650 километров.\"}, {\"role\": \"user\", \"content\": \"Посоветуй фильм ужасов\"}, {\"role\": \"assistant\", \"content\": \"К сожалению, в списке нет подходящего фильма ужасов.\"}, {\"role\": \"user\", \"content\": \"Посоветуй фильм ужасов 2023 года\"}, {\"role\": \"assistant\", \"content\": \"\", \"function_call\": {\"name\": \"search_movies\", \"arguments\": {\"genre\": \"ужасы\", \"year\": 2023}}}, {\"role\": \"function\", \"content\": \"{\\\"movies\\\": [\\\"Опенгеймер\\\"]}\"}], \"functions\": [{\"name\": \"send_sms\", \"description\": \"Отправить SMS-сообщение\", \"parameters\": {\"type\": \"object\", \"properties\": {\"recipient\": {\"type\": \"string\", \"description\": \"Номер телефона получателя\"}, \"message\": {\"type\": \"string\", \"description\": \"Содержимое сообщения\"}}, \"required\": [\"recipient\", \"message\"]}, \"few_shot_examples\": [{\"request\": \"Можешь ли ты отправить SMS-сообщение на номер 123456789 с содержимым 'Привет, как дела?'\", \"params\": {\"recipient\": \"123456789\", \"message\": \"Привет, как дела?\"}}], \"return_parameters\": {\"type\": \"object\", \"properties\": {\"status\": {\"description\": \"Статус отправки сообщения\", \"type\": \"string\"}, \"message\": {\"description\": \"Сообщение о результате отправки SMS\", \"type\": \"string\"}}, \"required\": [\"status\", \"message\"]}}, {\"name\": \"search_movies\", \"description\": \"Поиск фильмов на основе заданных критериев\", \"parameters\": {\"type\": \"object\", \"properties\": {\"genre\": {\"type\": \"string\", \"description\": \"Жанр фильма\"}, \"year\": {\"type\": \"integer\", \"description\": \"Год выпуска фильма\"}, \"actor\": {\"type\": \"string\", \"description\": \"Имя актера, снимавшегося в фильме\"}}}, \"few_shot_examples\": [{\"request\": \"Найди все фильмы жанра комедия\", \"params\": {\"genre\": \"комедия\"}}], \"return_parameters\": {\"type\": \"object\", \"properties\": {\"movies\": {\"description\": \"Список названий фильмов, соответствующих заданным критериям поиска\", \"type\": \"array\", \"items\": {\"type\": \"string\"}}}, \"required\": [\"movies\"]}}, {\"name\": \"calculate_trip_distance\", \"description\": \"Рассчитать расстояние между двумя местоположениями.\", \"parameters\": {\"type\": \"object\", \"properties\": {\"start_location\": {\"type\": \"string\", \"description\": \"Начальное местоположение\"}, \"end_location\": {\"type\": \"string\", \"description\": \"Конечное местоположение\"}}, \"required\": [\"start_location\", \"end_location\"]}, \"few_shot_examples\": [{\"request\": \"Насколько далеко от Москвы до Санкт-Петербурга?\", \"params\": {\"start_location\": \"Москва\", \"end_location\": \"Санкт-Петербург\"}}], \"return_parameters\": {\"type\": \"object\", \"properties\": {\"distance\": {\"description\": \"Расстояние между начальным и конечным местоположением в километрах\", \"type\": \"integer\"}}, \"required\": [\"distance\"]}}]}\n"
          ]
        },
        {
          "name": "stdout",
          "output_type": "stream",
          "text": [
            "! search_movies genre ужасы, year: 2023, actor: description='Имя актера, снимавшегося в фильме' extra={}\n",
            "\u001b[93mBot: Я не могу посоветовать вам фильм ужасов 2023 года, так как в списке нет подходящих вариантов.\u001b[0m\n",
            "Клиент: Найди фильмы Нолана за 2023\n"
          ]
        },
        {
          "output_type": "stream",
          "name": "stderr",
          "text": [
            "WARNING:langchain_community.chat_models.gigachat:Giga request: {\"messages\": [{\"role\": \"system\", \"content\": \"Ты полезный ассистент. Выполняй команды пользователя, уточняй недостающие данные.\"}, {\"role\": \"user\", \"content\": \"Отправь на номер 98765678 смс с поздравлением поздравление с днем рождения\"}, {\"role\": \"assistant\", \"content\": \"Сообщение успешно отправлено на номер 98765678.\"}, {\"role\": \"user\", \"content\": \"Посчитай расстояние между москвой и питером\"}, {\"role\": \"assistant\", \"content\": \"Расстояние между Москвой и Санкт-Петербургом составляет 650 километров.\"}, {\"role\": \"user\", \"content\": \"Посоветуй фильм ужасов\"}, {\"role\": \"assistant\", \"content\": \"К сожалению, в списке нет подходящего фильма ужасов.\"}, {\"role\": \"user\", \"content\": \"Посоветуй фильм ужасов 2023 года\"}, {\"role\": \"assistant\", \"content\": \"Я не могу посоветовать вам фильм ужасов 2023 года, так как в списке нет подходящих вариантов.\"}, {\"role\": \"user\", \"content\": \"Найди фильмы Нолана за 2023\"}], \"functions\": [{\"name\": \"send_sms\", \"description\": \"Отправить SMS-сообщение\", \"parameters\": {\"type\": \"object\", \"properties\": {\"recipient\": {\"type\": \"string\", \"description\": \"Номер телефона получателя\"}, \"message\": {\"type\": \"string\", \"description\": \"Содержимое сообщения\"}}, \"required\": [\"recipient\", \"message\"]}, \"few_shot_examples\": [{\"request\": \"Можешь ли ты отправить SMS-сообщение на номер 123456789 с содержимым 'Привет, как дела?'\", \"params\": {\"recipient\": \"123456789\", \"message\": \"Привет, как дела?\"}}], \"return_parameters\": {\"type\": \"object\", \"properties\": {\"status\": {\"description\": \"Статус отправки сообщения\", \"type\": \"string\"}, \"message\": {\"description\": \"Сообщение о результате отправки SMS\", \"type\": \"string\"}}, \"required\": [\"status\", \"message\"]}}, {\"name\": \"search_movies\", \"description\": \"Поиск фильмов на основе заданных критериев\", \"parameters\": {\"type\": \"object\", \"properties\": {\"genre\": {\"type\": \"string\", \"description\": \"Жанр фильма\"}, \"year\": {\"type\": \"integer\", \"description\": \"Год выпуска фильма\"}, \"actor\": {\"type\": \"string\", \"description\": \"Имя актера, снимавшегося в фильме\"}}}, \"few_shot_examples\": [{\"request\": \"Найди все фильмы жанра комедия\", \"params\": {\"genre\": \"комедия\"}}], \"return_parameters\": {\"type\": \"object\", \"properties\": {\"movies\": {\"description\": \"Список названий фильмов, соответствующих заданным критериям поиска\", \"type\": \"array\", \"items\": {\"type\": \"string\"}}}, \"required\": [\"movies\"]}}, {\"name\": \"calculate_trip_distance\", \"description\": \"Рассчитать расстояние между двумя местоположениями.\", \"parameters\": {\"type\": \"object\", \"properties\": {\"start_location\": {\"type\": \"string\", \"description\": \"Начальное местоположение\"}, \"end_location\": {\"type\": \"string\", \"description\": \"Конечное местоположение\"}}, \"required\": [\"start_location\", \"end_location\"]}, \"few_shot_examples\": [{\"request\": \"Насколько далеко от Москвы до Санкт-Петербурга?\", \"params\": {\"start_location\": \"Москва\", \"end_location\": \"Санкт-Петербург\"}}], \"return_parameters\": {\"type\": \"object\", \"properties\": {\"distance\": {\"description\": \"Расстояние между начальным и конечным местоположением в километрах\", \"type\": \"integer\"}}, \"required\": [\"distance\"]}}]}\n"
          ]
        },
        {
          "output_type": "stream",
          "name": "stdout",
          "text": [
            "User: Найди фильмы Нолана за 2023\n"
          ]
        },
        {
          "output_type": "stream",
          "name": "stderr",
          "text": [
            "WARNING:langchain_community.chat_models.gigachat:Giga request: {\"messages\": [{\"role\": \"system\", \"content\": \"Ты полезный ассистент. Выполняй команды пользователя, уточняй недостающие данные.\"}, {\"role\": \"user\", \"content\": \"Отправь на номер 98765678 смс с поздравлением поздравление с днем рождения\"}, {\"role\": \"assistant\", \"content\": \"Сообщение успешно отправлено на номер 98765678.\"}, {\"role\": \"user\", \"content\": \"Посчитай расстояние между москвой и питером\"}, {\"role\": \"assistant\", \"content\": \"Расстояние между Москвой и Санкт-Петербургом составляет 650 километров.\"}, {\"role\": \"user\", \"content\": \"Посоветуй фильм ужасов\"}, {\"role\": \"assistant\", \"content\": \"К сожалению, в списке нет подходящего фильма ужасов.\"}, {\"role\": \"user\", \"content\": \"Посоветуй фильм ужасов 2023 года\"}, {\"role\": \"assistant\", \"content\": \"Я не могу посоветовать вам фильм ужасов 2023 года, так как в списке нет подходящих вариантов.\"}, {\"role\": \"user\", \"content\": \"Найди фильмы Нолана за 2023\"}, {\"role\": \"assistant\", \"content\": \"\", \"function_call\": {\"name\": \"search_movies\", \"arguments\": {\"year\": 2023}}}, {\"role\": \"function\", \"content\": \"{\\\"movies\\\": [\\\"Опенгеймер\\\"]}\"}], \"functions\": [{\"name\": \"send_sms\", \"description\": \"Отправить SMS-сообщение\", \"parameters\": {\"type\": \"object\", \"properties\": {\"recipient\": {\"type\": \"string\", \"description\": \"Номер телефона получателя\"}, \"message\": {\"type\": \"string\", \"description\": \"Содержимое сообщения\"}}, \"required\": [\"recipient\", \"message\"]}, \"few_shot_examples\": [{\"request\": \"Можешь ли ты отправить SMS-сообщение на номер 123456789 с содержимым 'Привет, как дела?'\", \"params\": {\"recipient\": \"123456789\", \"message\": \"Привет, как дела?\"}}], \"return_parameters\": {\"type\": \"object\", \"properties\": {\"status\": {\"description\": \"Статус отправки сообщения\", \"type\": \"string\"}, \"message\": {\"description\": \"Сообщение о результате отправки SMS\", \"type\": \"string\"}}, \"required\": [\"status\", \"message\"]}}, {\"name\": \"search_movies\", \"description\": \"Поиск фильмов на основе заданных критериев\", \"parameters\": {\"type\": \"object\", \"properties\": {\"genre\": {\"type\": \"string\", \"description\": \"Жанр фильма\"}, \"year\": {\"type\": \"integer\", \"description\": \"Год выпуска фильма\"}, \"actor\": {\"type\": \"string\", \"description\": \"Имя актера, снимавшегося в фильме\"}}}, \"few_shot_examples\": [{\"request\": \"Найди все фильмы жанра комедия\", \"params\": {\"genre\": \"комедия\"}}], \"return_parameters\": {\"type\": \"object\", \"properties\": {\"movies\": {\"description\": \"Список названий фильмов, соответствующих заданным критериям поиска\", \"type\": \"array\", \"items\": {\"type\": \"string\"}}}, \"required\": [\"movies\"]}}, {\"name\": \"calculate_trip_distance\", \"description\": \"Рассчитать расстояние между двумя местоположениями.\", \"parameters\": {\"type\": \"object\", \"properties\": {\"start_location\": {\"type\": \"string\", \"description\": \"Начальное местоположение\"}, \"end_location\": {\"type\": \"string\", \"description\": \"Конечное местоположение\"}}, \"required\": [\"start_location\", \"end_location\"]}, \"few_shot_examples\": [{\"request\": \"Насколько далеко от Москвы до Санкт-Петербурга?\", \"params\": {\"start_location\": \"Москва\", \"end_location\": \"Санкт-Петербург\"}}], \"return_parameters\": {\"type\": \"object\", \"properties\": {\"distance\": {\"description\": \"Расстояние между начальным и конечным местоположением в километрах\", \"type\": \"integer\"}}, \"required\": [\"distance\"]}}]}\n"
          ]
        },
        {
          "output_type": "stream",
          "name": "stdout",
          "text": [
            "! search_movies genre description='Жанр фильма' extra={}, year: 2023, actor: description='Имя актера, снимавшегося в фильме' extra={}\n",
            "\u001b[93mBot: В 2023 году вышел только один фильм с участием режиссёра Кристофера Нолана — это драма «Оппенгеймер».\u001b[0m\n"
          ]
        },
        {
          "output_type": "error",
          "ename": "KeyboardInterrupt",
          "evalue": "Interrupted by user",
          "traceback": [
            "\u001b[0;31m---------------------------------------------------------------------------\u001b[0m",
            "\u001b[0;31mKeyboardInterrupt\u001b[0m                         Traceback (most recent call last)",
            "\u001b[0;32m<ipython-input-31-df4cdc2bf19b>\u001b[0m in \u001b[0;36m<cell line: 10>\u001b[0;34m()\u001b[0m\n\u001b[1;32m      8\u001b[0m )\n\u001b[1;32m      9\u001b[0m \u001b[0;34m\u001b[0m\u001b[0m\n\u001b[0;32m---> 10\u001b[0;31m \u001b[0mchat\u001b[0m\u001b[0;34m(\u001b[0m\u001b[0magent_executor\u001b[0m\u001b[0;34m)\u001b[0m\u001b[0;34m\u001b[0m\u001b[0;34m\u001b[0m\u001b[0m\n\u001b[0m",
            "\u001b[0;32m<ipython-input-27-5c321597b1fa>\u001b[0m in \u001b[0;36mchat\u001b[0;34m(agent_executor)\u001b[0m\n\u001b[1;32m     10\u001b[0m \u001b[0;34m\u001b[0m\u001b[0m\n\u001b[1;32m     11\u001b[0m     \u001b[0;32mwhile\u001b[0m \u001b[0;32mTrue\u001b[0m\u001b[0;34m:\u001b[0m\u001b[0;34m\u001b[0m\u001b[0;34m\u001b[0m\u001b[0m\n\u001b[0;32m---> 12\u001b[0;31m         \u001b[0muser_input\u001b[0m \u001b[0;34m=\u001b[0m \u001b[0minput\u001b[0m\u001b[0;34m(\u001b[0m\u001b[0;34m\"Клиент: \"\u001b[0m\u001b[0;34m)\u001b[0m\u001b[0;34m\u001b[0m\u001b[0;34m\u001b[0m\u001b[0m\n\u001b[0m\u001b[1;32m     13\u001b[0m         \u001b[0;32mif\u001b[0m \u001b[0muser_input\u001b[0m \u001b[0;34m==\u001b[0m \u001b[0;34m\"\"\u001b[0m\u001b[0;34m:\u001b[0m\u001b[0;34m\u001b[0m\u001b[0;34m\u001b[0m\u001b[0m\n\u001b[1;32m     14\u001b[0m             \u001b[0;32mbreak\u001b[0m\u001b[0;34m\u001b[0m\u001b[0;34m\u001b[0m\u001b[0m\n",
            "\u001b[0;32m/usr/local/lib/python3.10/dist-packages/ipykernel/kernelbase.py\u001b[0m in \u001b[0;36mraw_input\u001b[0;34m(self, prompt)\u001b[0m\n\u001b[1;32m    849\u001b[0m                 \u001b[0;34m\"raw_input was called, but this frontend does not support input requests.\"\u001b[0m\u001b[0;34m\u001b[0m\u001b[0;34m\u001b[0m\u001b[0m\n\u001b[1;32m    850\u001b[0m             )\n\u001b[0;32m--> 851\u001b[0;31m         return self._input_request(str(prompt),\n\u001b[0m\u001b[1;32m    852\u001b[0m             \u001b[0mself\u001b[0m\u001b[0;34m.\u001b[0m\u001b[0m_parent_ident\u001b[0m\u001b[0;34m,\u001b[0m\u001b[0;34m\u001b[0m\u001b[0;34m\u001b[0m\u001b[0m\n\u001b[1;32m    853\u001b[0m             \u001b[0mself\u001b[0m\u001b[0;34m.\u001b[0m\u001b[0m_parent_header\u001b[0m\u001b[0;34m,\u001b[0m\u001b[0;34m\u001b[0m\u001b[0;34m\u001b[0m\u001b[0m\n",
            "\u001b[0;32m/usr/local/lib/python3.10/dist-packages/ipykernel/kernelbase.py\u001b[0m in \u001b[0;36m_input_request\u001b[0;34m(self, prompt, ident, parent, password)\u001b[0m\n\u001b[1;32m    893\u001b[0m             \u001b[0;32mexcept\u001b[0m \u001b[0mKeyboardInterrupt\u001b[0m\u001b[0;34m:\u001b[0m\u001b[0;34m\u001b[0m\u001b[0;34m\u001b[0m\u001b[0m\n\u001b[1;32m    894\u001b[0m                 \u001b[0;31m# re-raise KeyboardInterrupt, to truncate traceback\u001b[0m\u001b[0;34m\u001b[0m\u001b[0;34m\u001b[0m\u001b[0m\n\u001b[0;32m--> 895\u001b[0;31m                 \u001b[0;32mraise\u001b[0m \u001b[0mKeyboardInterrupt\u001b[0m\u001b[0;34m(\u001b[0m\u001b[0;34m\"Interrupted by user\"\u001b[0m\u001b[0;34m)\u001b[0m \u001b[0;32mfrom\u001b[0m \u001b[0;32mNone\u001b[0m\u001b[0;34m\u001b[0m\u001b[0;34m\u001b[0m\u001b[0m\n\u001b[0m\u001b[1;32m    896\u001b[0m             \u001b[0;32mexcept\u001b[0m \u001b[0mException\u001b[0m \u001b[0;32mas\u001b[0m \u001b[0me\u001b[0m\u001b[0;34m:\u001b[0m\u001b[0;34m\u001b[0m\u001b[0;34m\u001b[0m\u001b[0m\n\u001b[1;32m    897\u001b[0m                 \u001b[0mself\u001b[0m\u001b[0;34m.\u001b[0m\u001b[0mlog\u001b[0m\u001b[0;34m.\u001b[0m\u001b[0mwarning\u001b[0m\u001b[0;34m(\u001b[0m\u001b[0;34m\"Invalid Message:\"\u001b[0m\u001b[0;34m,\u001b[0m \u001b[0mexc_info\u001b[0m\u001b[0;34m=\u001b[0m\u001b[0;32mTrue\u001b[0m\u001b[0;34m)\u001b[0m\u001b[0;34m\u001b[0m\u001b[0;34m\u001b[0m\u001b[0m\n",
            "\u001b[0;31mKeyboardInterrupt\u001b[0m: Interrupted by user"
          ]
        }
      ]
    },
    {
      "cell_type": "markdown",
      "source": [
        "Добавляем функцию поиска"
      ],
      "metadata": {
        "id": "QEortfnPYSPo"
      }
    },
    {
      "cell_type": "code",
      "source": [
        "from langchain_community.tools import DuckDuckGoSearchRun\n",
        "\n",
        "search_tool = DuckDuckGoSearchRun()\n",
        "tools = [search_tool]"
      ],
      "metadata": {
        "id": "FQdKe9ePXXUR"
      },
      "execution_count": null,
      "outputs": []
    },
    {
      "cell_type": "code",
      "source": [
        "from langchain.agents import AgentExecutor, create_gigachat_functions_agent\n",
        "\n",
        "agent = create_gigachat_functions_agent(giga, tools)\n",
        "\n",
        "# AgentExecutor создает среду, в которой будет работать агент\n",
        "agent_executor = AgentExecutor(\n",
        "    agent=agent,\n",
        "    tools=tools,\n",
        "    verbose=True,\n",
        ")"
      ],
      "metadata": {
        "id": "1fYUbFqyYUKO"
      },
      "execution_count": null,
      "outputs": []
    },
    {
      "cell_type": "code",
      "source": [
        "agent_executor.invoke(\n",
        "    {\"input\": \"Найди текущий курс биткоина и напечатай только число\"}\n",
        ")[\"output\"]"
      ],
      "metadata": {
        "colab": {
          "base_uri": "https://localhost:8080/",
          "height": 263
        },
        "id": "y3OXuPvwYgoh",
        "outputId": "f1a8742b-291a-4ae8-b613-5ba4576226d3"
      },
      "execution_count": null,
      "outputs": [
        {
          "output_type": "stream",
          "name": "stderr",
          "text": [
            "WARNING:langchain_community.chat_models.gigachat:Giga request: {\"messages\": [{\"role\": \"user\", \"content\": \"Найди текущий курс биткоина и напечатай только число\"}], \"functions\": [{\"name\": \"duckduckgo_search\", \"description\": \"Поиск в DuckDuckGo. Полезен, когда нужно ответить на вопросы о текущих событиях. Входными данными должен быть поисковый запрос.\", \"parameters\": {\"type\": \"object\", \"properties\": {\"query\": {\"type\": \"string\", \"description\": \"поисковый запрос\"}}, \"required\": [\"query\"]}}]}\n"
          ]
        },
        {
          "output_type": "stream",
          "name": "stdout",
          "text": [
            "\n",
            "\n",
            "\u001b[1m> Entering new AgentExecutor chain...\u001b[0m\n",
            "\u001b[32;1m\u001b[1;3m\n",
            "Invoking: `duckduckgo_search` with `{'query': 'текущий курс биткоина'}`\n",
            "\n",
            "\n",
            "\u001b[0m"
          ]
        },
        {
          "output_type": "stream",
          "name": "stderr",
          "text": [
            "WARNING:langchain_community.chat_models.gigachat:Giga request: {\"messages\": [{\"role\": \"user\", \"content\": \"Найди текущий курс биткоина и напечатай только число\"}, {\"role\": \"assistant\", \"content\": \"\", \"function_call\": {\"name\": \"duckduckgo_search\", \"arguments\": {\"query\": \"текущий курс биткоина\"}}}, {\"role\": \"function\", \"content\": \"\\\"Используйте наш бесплатный конвертер для расчета BTC - USD. Текущий курс обмена BTC на USD составляет $64,023.78. Бесплатный конвертер в реальном времени на основе данных CoinMarketCap. Курс Bitcoin к доллару США BTC/USD на графике онлайн. Курс Bitcoin сегодня: $63,224.57 за 1 BTC. Цена BTC в USD изменилась за последние 24 часа на +0.88% . Текущая рыночная капитализация Bitcoin — $1.25 трлн при суммарном ... Курс Биткоина, Bitcoin (BTC) — графики и цены. Создавайте оповещения и уведомления на цену биткоина онлайн в реальном времени. Что происходит с ценой биткоина, почему курс обновил свой исторический максимум. Что такое халвинг, как часто происходит это событие, сколько их уже было. Стоит ли покупать биткоин в 2024 году. Текущий курс биткоина (btc) к доллару на биржах ... Курс биткоина на 13.07.2024 г.: 57 738,08 $ 1 биткоинов в рублях - Изменение за последний месяц ...\\\"\"}], \"functions\": [{\"name\": \"duckduckgo_search\", \"description\": \"Поиск в DuckDuckGo. Полезен, когда нужно ответить на вопросы о текущих событиях. Входными данными должен быть поисковый запрос.\", \"parameters\": {\"type\": \"object\", \"properties\": {\"query\": {\"type\": \"string\", \"description\": \"поисковый запрос\"}}, \"required\": [\"query\"]}}]}\n"
          ]
        },
        {
          "output_type": "stream",
          "name": "stdout",
          "text": [
            "\u001b[36;1m\u001b[1;3mИспользуйте наш бесплатный конвертер для расчета BTC - USD. Текущий курс обмена BTC на USD составляет $64,023.78. Бесплатный конвертер в реальном времени на основе данных CoinMarketCap. Курс Bitcoin к доллару США BTC/USD на графике онлайн. Курс Bitcoin сегодня: $63,224.57 за 1 BTC. Цена BTC в USD изменилась за последние 24 часа на +0.88% . Текущая рыночная капитализация Bitcoin — $1.25 трлн при суммарном ... Курс Биткоина, Bitcoin (BTC) — графики и цены. Создавайте оповещения и уведомления на цену биткоина онлайн в реальном времени. Что происходит с ценой биткоина, почему курс обновил свой исторический максимум. Что такое халвинг, как часто происходит это событие, сколько их уже было. Стоит ли покупать биткоин в 2024 году. Текущий курс биткоина (btc) к доллару на биржах ... Курс биткоина на 13.07.2024 г.: 57 738,08 $ 1 биткоинов в рублях - Изменение за последний месяц ...\u001b[0m\u001b[32;1m\u001b[1;3m64023.78\u001b[0m\n",
            "\n",
            "\u001b[1m> Finished chain.\u001b[0m\n"
          ]
        },
        {
          "output_type": "execute_result",
          "data": {
            "text/plain": [
              "'64023.78'"
            ],
            "application/vnd.google.colaboratory.intrinsic+json": {
              "type": "string"
            }
          },
          "metadata": {},
          "execution_count": 36
        }
      ]
    },
    {
      "cell_type": "markdown",
      "source": [
        "Добавляем второго агента"
      ],
      "metadata": {
        "id": "J4tCDStgYsEv"
      }
    },
    {
      "cell_type": "code",
      "source": [
        "import pyfiglet\n",
        "\n",
        "pyfiglet.print_figlet(\"Hello!\", font=\"epic\")"
      ],
      "metadata": {
        "colab": {
          "base_uri": "https://localhost:8080/"
        },
        "id": "POed7druYiZ8",
        "outputId": "c05a504a-b4ac-4441-c04b-2fb758d99ccf"
      },
      "execution_count": null,
      "outputs": [
        {
          "output_type": "stream",
          "name": "stdout",
          "text": [
            "          _______  _        _        _______  _ \n",
            "|\\     /|(  ____ \\( \\      ( \\      (  ___  )( )\n",
            "| )   ( || (    \\/| (      | (      | (   ) || |\n",
            "| (___) || (__    | |      | |      | |   | || |\n",
            "|  ___  ||  __)   | |      | |      | |   | || |\n",
            "| (   ) || (      | |      | |      | |   | |(_)\n",
            "| )   ( || (____/\\| (____/\\| (____/\\| (___) | _ \n",
            "|/     \\|(_______/(_______/(_______/(_______)(_)\n",
            "                                                \n",
            "\n"
          ]
        }
      ]
    },
    {
      "cell_type": "code",
      "source": [
        "from langchain.tools import tool\n",
        "\n",
        "\n",
        "@tool\n",
        "def draw_banner(number: str) -> str:\n",
        "    \"\"\"Рисует баннер с текстом результатов кода в виде Ascii-графики\n",
        "\n",
        "    Args:\n",
        "        number (str): Число, которое нужно нарисовать на баннере\n",
        "    \"\"\"\n",
        "    pyfiglet.print_figlet(number, font=\"epic\")\n",
        "    return \"Draw complete\"\n",
        "\n",
        "\n",
        "new_tools = [search_tool, draw_banner]"
      ],
      "metadata": {
        "id": "fT_0YAupYtXY"
      },
      "execution_count": null,
      "outputs": []
    },
    {
      "cell_type": "code",
      "source": [
        "giga_pro = GigaChat(credentials=\"\",\n",
        "                model=\"GigaChat-Pro\", timeout=30, verify_ssl_certs=False)"
      ],
      "metadata": {
        "id": "s8YRyNqWZhg1"
      },
      "execution_count": null,
      "outputs": []
    },
    {
      "cell_type": "code",
      "source": [
        "agent = create_gigachat_functions_agent(giga_pro, new_tools)\n",
        "\n",
        "agent_executor = AgentExecutor(\n",
        "    agent=agent,\n",
        "    tools=new_tools,\n",
        "    verbose=True,\n",
        ")\n",
        "\n",
        "agent_executor.invoke(\n",
        "    {\n",
        "        \"input\": \"Найди в интернете курс биткоина в долларах и нарисуй это число на банере.\"\n",
        "    }\n",
        ")[\"output\"]"
      ],
      "metadata": {
        "colab": {
          "base_uri": "https://localhost:8080/",
          "height": 472
        },
        "id": "IaeZLRpeYvFc",
        "outputId": "28f5279b-06ad-47b7-f2e0-b5a5f000f70c"
      },
      "execution_count": null,
      "outputs": [
        {
          "output_type": "stream",
          "name": "stdout",
          "text": [
            "\n",
            "\n",
            "\u001b[1m> Entering new AgentExecutor chain...\u001b[0m\n",
            "\u001b[32;1m\u001b[1;3m\n",
            "Invoking: `duckduckgo_search` with `{'query': 'курс биткоина в долларах'}`\n",
            "\n",
            "\n",
            "\u001b[0m\u001b[36;1m\u001b[1;3mИспользуйте наш бесплатный конвертер для расчета BTC - USD. Текущий курс обмена BTC на USD составляет $64,023.78. Бесплатный конвертер в реальном времени на основе данных CoinMarketCap. За год стоимость 100 биткоин в долларах увеличилась примерно на 3 698 993 доллара. Курс. 100 btc в USD. июль 2024. 66 224,43. 6 622 443,0441105. июнь 2024. 61 953,465. Узнайте сколько будет ₿1 Биткоин (btc) в Долларах США (usd) - на данный момент. Получите реальные курсы обмена, анализ и динамику изменений валютной пары на графике и в таблице. Получаете. Удобный конвертер криптовалют, вы можете узнать сколько стоит Bitcoin (BTC) в Доллар США (USD) и посчитать на онлайн калькуляторе нужные вам суммы. Bitcoin Історія Ціни. Наживо Bitcoin ціна сьогодні UAH2,717,731.06 UAH із 24-годинним обсягом торгів UAH1,476,242,288,721.18 UAH. Ми оновлюємо ціну BTC до UAH в режимі реального часу.\u001b[0m\u001b[32;1m\u001b[1;3m\n",
            "Invoking: `draw_banner` with `{'number': '$64,023.78'}`\n",
            "\n",
            "\n",
            "\u001b[0m    _      ______    ___     _______  _______  ______    ______    _____  \n",
            " __|_|___ / ____ \\  /   )   (  __   )/ ___   )/ ___  \\  / ___  \\  / ___ \\ \n",
            "(  _____/( (    \\/ / /) |   | (  )  |\\/   )  |\\/   \\  \\ \\/   )  )( (___) )\n",
            "| (|_|__ | (____  / (_) (_  | | /   |    /   )   ___) /     /  /  \\     / \n",
            "(_____  )|  ___ \\(____   _) | (/ /) |  _/   /   (___ (     /  /   / ___ \\ \n",
            "/\\_|_|) || (   ) )    ) (   |   / | | /   _/        ) \\   /  /   ( (   ) )\n",
            "\\_______)( (___) )    | | _ |  (__) |(   (__/\\/\\___/  /_ /  /    ( (___) )\n",
            "   |_|    \\_____/     (_)( )(_______)\\_______/\\______/(_)\\_/      \\_____/ \n",
            "                         |/                                               \n",
            "\n",
            "\u001b[33;1m\u001b[1;3mDraw complete\u001b[0m\u001b[32;1m\u001b[1;3m- вот банер с курсом биткоина в долларах.\u001b[0m\n",
            "\n",
            "\u001b[1m> Finished chain.\u001b[0m\n"
          ]
        },
        {
          "output_type": "execute_result",
          "data": {
            "text/plain": [
              "'- вот банер с курсом биткоина в долларах.'"
            ],
            "application/vnd.google.colaboratory.intrinsic+json": {
              "type": "string"
            }
          },
          "metadata": {},
          "execution_count": 43
        }
      ]
    },
    {
      "cell_type": "code",
      "source": [],
      "metadata": {
        "id": "-iG2CrlFYw2a"
      },
      "execution_count": null,
      "outputs": []
    }
  ]
}